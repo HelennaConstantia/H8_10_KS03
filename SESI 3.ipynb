{
 "cells": [
  {
   "cell_type": "markdown",
   "id": "156802ae",
   "metadata": {},
   "source": [
    "# FUNCTION"
   ]
  },
  {
   "cell_type": "code",
   "execution_count": 1,
   "id": "ba8efb0f",
   "metadata": {},
   "outputs": [
    {
     "name": "stdout",
     "output_type": "stream",
     "text": [
      "15\n"
     ]
    }
   ],
   "source": [
    "#mendefinisikan function\n",
    "def my_function(p,l):\n",
    "    \"function untuk menghitung luas\"\n",
    "    print(p*l)\n",
    "my_function(3,5)"
   ]
  },
  {
   "cell_type": "code",
   "execution_count": 3,
   "id": "1136742b",
   "metadata": {},
   "outputs": [
    {
     "name": "stdout",
     "output_type": "stream",
     "text": [
      "['saya', 'dia']\n"
     ]
    }
   ],
   "source": [
    "#calling a function\n",
    "def printme(str):\n",
    "    \"this prints a passed string into this function\"\n",
    "    print(str)\n",
    "    return\n",
    "s=['saya','dia']\n",
    "printme(s)"
   ]
  },
  {
   "cell_type": "code",
   "execution_count": 4,
   "id": "ebf3d09a",
   "metadata": {},
   "outputs": [
    {
     "name": "stdout",
     "output_type": "stream",
     "text": [
      "[10, 20, 30, [1, 2, 3, 4]]\n",
      "[10, 20, 30, [1, 2, 3, 4]]\n"
     ]
    }
   ],
   "source": [
    "#pass by reference vs value\n",
    "def changeme(mylist):\n",
    "    \"mengubah list sebelumnya ke dalam fungsi\"\n",
    "    mylist.append([1,2,3,4])\n",
    "    print(mylist)\n",
    "    return\n",
    "mylist=[10,20,30]\n",
    "changeme(mylist)\n",
    "print(mylist)"
   ]
  },
  {
   "cell_type": "code",
   "execution_count": 6,
   "id": "0bc5fc27",
   "metadata": {},
   "outputs": [
    {
     "name": "stdout",
     "output_type": "stream",
     "text": [
      "[1, 2, 3, 4]\n",
      "[10, 20, 30]\n"
     ]
    }
   ],
   "source": [
    "def changeme(mylist):\n",
    "    \"this changes a passed list into this function\"\n",
    "    mylist=[1,2,3,4]\n",
    "    print(mylist)\n",
    "    return\n",
    "mylist=[10,20,30]\n",
    "changeme(mylist)\n",
    "print(mylist)"
   ]
  },
  {
   "cell_type": "code",
   "execution_count": 2,
   "id": "8590e0b9",
   "metadata": {},
   "outputs": [
    {
     "name": "stdout",
     "output_type": "stream",
     "text": [
      "hello\n"
     ]
    }
   ],
   "source": [
    "#function arguments\n",
    "def printme(str):\n",
    "    print(str)\n",
    "    return;\n",
    "printme('hello')"
   ]
  },
  {
   "cell_type": "code",
   "execution_count": 5,
   "id": "62903ff2",
   "metadata": {},
   "outputs": [
    {
     "name": "stdout",
     "output_type": "stream",
     "text": [
      "name: helenna\n",
      "Age: 21\n"
     ]
    }
   ],
   "source": [
    "#keywords arguments\n",
    "def printinfo(name, age):\n",
    "    print('name:',name)\n",
    "    print('Age:',age)\n",
    "    return;\n",
    "printinfo(age=21,name='helenna')"
   ]
  },
  {
   "cell_type": "code",
   "execution_count": 6,
   "id": "1cff8c0d",
   "metadata": {},
   "outputs": [
    {
     "name": "stdout",
     "output_type": "stream",
     "text": [
      "nama: helen\n",
      "usia: 22\n"
     ]
    }
   ],
   "source": [
    "#Default Arguments\n",
    "def printinfo(name, age=22):\n",
    "    print('nama:', name)\n",
    "    print('usia:',age)\n",
    "    return\n",
    "printinfo('helen')"
   ]
  },
  {
   "cell_type": "code",
   "execution_count": 8,
   "id": "f80cb841",
   "metadata": {},
   "outputs": [
    {
     "name": "stdout",
     "output_type": "stream",
     "text": [
      "test: 3\n",
      "test: 10\n",
      "5\n",
      "12\n",
      "11\n"
     ]
    }
   ],
   "source": [
    "#Variable-length arguments\n",
    "def printinfo(a,*b):\n",
    "    print('test:',a)\n",
    "    for i in b:\n",
    "        print(i)\n",
    "printinfo(3)\n",
    "printinfo(10,5,12,11)"
   ]
  },
  {
   "cell_type": "code",
   "execution_count": 9,
   "id": "593a1cb4",
   "metadata": {},
   "outputs": [
    {
     "data": {
      "text/plain": [
       "20"
      ]
     },
     "execution_count": 9,
     "metadata": {},
     "output_type": "execute_result"
    }
   ],
   "source": [
    "#Anonymous Function\n",
    "sum=lambda a,b:a+b\n",
    "sum(10,10)"
   ]
  },
  {
   "cell_type": "code",
   "execution_count": 11,
   "id": "724ceb59",
   "metadata": {},
   "outputs": [
    {
     "name": "stdout",
     "output_type": "stream",
     "text": [
      "total: 15\n",
      "hasil dari penjumlahan ditambah nilai terakhir: 20\n"
     ]
    }
   ],
   "source": [
    "#return statement\n",
    "def sum(a,b):\n",
    "    total =a+b\n",
    "    total2=total+b\n",
    "    print('total dalam fungsi:',total)\n",
    "    return total2\n",
    "total=sum(10,5)\n",
    "print('hasil dari penjumlahan ditambah nilai terakhir:',total)"
   ]
  },
  {
   "cell_type": "code",
   "execution_count": 14,
   "id": "b28032ee",
   "metadata": {},
   "outputs": [
    {
     "name": "stdout",
     "output_type": "stream",
     "text": [
      "hasil variable local 30\n",
      "hasil variable global: 0\n"
     ]
    }
   ],
   "source": [
    "#scope of variables\n",
    "#global vs local variables\n",
    "total=0\n",
    "def sum(a,b):\n",
    "    total=a+b\n",
    "    print('hasil variable local', total)\n",
    "    return total\n",
    "sum(10,20)\n",
    "print('hasil variable global:',total)\n",
    "\n",
    "    "
   ]
  },
  {
   "cell_type": "code",
   "execution_count": 19,
   "id": "175bbb96",
   "metadata": {},
   "outputs": [
    {
     "name": "stdout",
     "output_type": "stream",
     "text": [
      "30\n",
      "30\n"
     ]
    }
   ],
   "source": [
    "a=15\n",
    "def jumlahAngka():\n",
    "    b=15\n",
    "    return a+b\n",
    "def jumlahAngka2():\n",
    "    return a+a\n",
    "print(jumlahAngka())\n",
    "print(jumlahAngka2())"
   ]
  },
  {
   "cell_type": "markdown",
   "id": "89660e44",
   "metadata": {},
   "source": [
    "# Modules"
   ]
  },
  {
   "cell_type": "code",
   "execution_count": 24,
   "id": "4ecc6a54",
   "metadata": {},
   "outputs": [
    {
     "name": "stdout",
     "output_type": "stream",
     "text": [
      "coba python mod\n",
      "[100, 200, 300]\n",
      "['hallo', 'semua']\n"
     ]
    },
    {
     "data": {
      "text/plain": [
       "<mod.Foo at 0x21fae82e5b0>"
      ]
     },
     "execution_count": 24,
     "metadata": {},
     "output_type": "execute_result"
    }
   ],
   "source": [
    "import mod\n",
    "print(mod.s)\n",
    "print(mod.a)\n",
    "mod.foo(['hallo','semua'])\n",
    "x=mod.Foo()\n",
    "x"
   ]
  },
  {
   "cell_type": "code",
   "execution_count": 25,
   "id": "cc88ab4f",
   "metadata": {},
   "outputs": [
    {
     "data": {
      "text/plain": [
       "['C:\\\\Users\\\\Administrator\\\\H8_KS03',\n",
       " 'C:\\\\Program Files (x86)\\\\Anaconda\\\\python38.zip',\n",
       " 'C:\\\\Program Files (x86)\\\\Anaconda\\\\DLLs',\n",
       " 'C:\\\\Program Files (x86)\\\\Anaconda\\\\lib',\n",
       " 'C:\\\\Program Files (x86)\\\\Anaconda',\n",
       " '',\n",
       " 'C:\\\\Program Files (x86)\\\\Anaconda\\\\lib\\\\site-packages',\n",
       " 'C:\\\\Program Files (x86)\\\\Anaconda\\\\lib\\\\site-packages\\\\locket-0.2.1-py3.8.egg',\n",
       " 'C:\\\\Program Files (x86)\\\\Anaconda\\\\lib\\\\site-packages\\\\win32',\n",
       " 'C:\\\\Program Files (x86)\\\\Anaconda\\\\lib\\\\site-packages\\\\win32\\\\lib',\n",
       " 'C:\\\\Program Files (x86)\\\\Anaconda\\\\lib\\\\site-packages\\\\Pythonwin',\n",
       " 'C:\\\\Program Files (x86)\\\\Anaconda\\\\lib\\\\site-packages\\\\IPython\\\\extensions',\n",
       " 'C:\\\\Users\\\\Administrator\\\\.ipython']"
      ]
     },
     "execution_count": 25,
     "metadata": {},
     "output_type": "execute_result"
    }
   ],
   "source": [
    "#Module Search Path\n",
    "import sys\n",
    "sys.path"
   ]
  },
  {
   "cell_type": "code",
   "execution_count": 26,
   "id": "fc328b56",
   "metadata": {},
   "outputs": [
    {
     "data": {
      "text/plain": [
       "'C:\\\\Users\\\\Administrator\\\\H8_KS03\\\\mod.py'"
      ]
     },
     "execution_count": 26,
     "metadata": {},
     "output_type": "execute_result"
    }
   ],
   "source": [
    "import mod\n",
    "mod.__file__"
   ]
  },
  {
   "cell_type": "code",
   "execution_count": 30,
   "id": "cc535071",
   "metadata": {},
   "outputs": [
    {
     "name": "stdout",
     "output_type": "stream",
     "text": [
      "coba python mod\n",
      "[1, 2, 3]\n",
      "None\n",
      "[100, 200, 300]\n"
     ]
    }
   ],
   "source": [
    "from mod import foo,s,a\n",
    "print(s)\n",
    "print(foo([1,2,3]))\n",
    "print(a)"
   ]
  },
  {
   "cell_type": "code",
   "execution_count": null,
   "id": "2d5886dc",
   "metadata": {},
   "outputs": [],
   "source": [
    "#mengimpor module dalam satu perintah\n",
    "from mod import *\n",
    "print(s)\n",
    "print(a)\n",
    "Foo"
   ]
  },
  {
   "cell_type": "code",
   "execution_count": 36,
   "id": "4a84203a",
   "metadata": {},
   "outputs": [
    {
     "name": "stdout",
     "output_type": "stream",
     "text": [
      "coba python mod\n",
      "[100, 200, 300]\n"
     ]
    }
   ],
   "source": [
    "#mengimpor objek pada module dengan nama alternatif\n",
    "s='foo'\n",
    "a=['foo','bar','string']\n",
    "from mod import s as string,a as alist\n",
    "print(string)\n",
    "print(alist)\n"
   ]
  },
  {
   "cell_type": "code",
   "execution_count": 37,
   "id": "a1f64a05",
   "metadata": {},
   "outputs": [
    {
     "data": {
      "text/plain": [
       "[100, 200, 300]"
      ]
     },
     "execution_count": 37,
     "metadata": {},
     "output_type": "execute_result"
    }
   ],
   "source": [
    "#mengimpor seluruh modul dalam nama alternatif\n",
    "import mod as myModule\n",
    "myModule.a"
   ]
  },
  {
   "cell_type": "code",
   "execution_count": 38,
   "id": "dd53db58",
   "metadata": {},
   "outputs": [
    {
     "name": "stdout",
     "output_type": "stream",
     "text": [
      "heii\n"
     ]
    }
   ],
   "source": [
    "#mengimpor module kedalam function\n",
    "def panggilMod():\n",
    "    from mod import foo\n",
    "    foo('heii')\n",
    "panggilMod()\n",
    "\n",
    "#notes: tetapi dalam fungsi tidak bisa mengimpor mod"
   ]
  },
  {
   "cell_type": "code",
   "execution_count": 40,
   "id": "f523ee3c",
   "metadata": {},
   "outputs": [
    {
     "name": "stdout",
     "output_type": "stream",
     "text": [
      "modul tidak ditemukan\n",
      "objek tidak ditemukan\n"
     ]
    }
   ],
   "source": [
    "#penggunaan try-except import error\n",
    "try:\n",
    "    #module yang tidak ada\n",
    "    import asal\n",
    "except ImportError:\n",
    "    print('modul tidak ditemukan')\n",
    "\n",
    "try:\n",
    "    #modul ada tetapi objek tidak ada\n",
    "    from mod import coba\n",
    "except ImportError:\n",
    "    print('objek tidak ditemukan')\n",
    "    "
   ]
  },
  {
   "cell_type": "code",
   "execution_count": 2,
   "id": "a1fbc4d7",
   "metadata": {},
   "outputs": [
    {
     "data": {
      "text/plain": [
       "['In',\n",
       " 'Out',\n",
       " '_',\n",
       " '_1',\n",
       " '__',\n",
       " '___',\n",
       " '__builtin__',\n",
       " '__builtins__',\n",
       " '__doc__',\n",
       " '__loader__',\n",
       " '__name__',\n",
       " '__package__',\n",
       " '__spec__',\n",
       " '_dh',\n",
       " '_i',\n",
       " '_i1',\n",
       " '_i2',\n",
       " '_ih',\n",
       " '_ii',\n",
       " '_iii',\n",
       " '_oh',\n",
       " 'a',\n",
       " 'autopep8',\n",
       " 'exit',\n",
       " 'get_ipython',\n",
       " 'json',\n",
       " 'quit']"
      ]
     },
     "execution_count": 2,
     "metadata": {},
     "output_type": "execute_result"
    }
   ],
   "source": [
    "#dir() function\n",
    "dir()\n",
    "a=[1,2,3]\n",
    "dir()"
   ]
  },
  {
   "cell_type": "code",
   "execution_count": 3,
   "id": "49d45160",
   "metadata": {},
   "outputs": [
    {
     "data": {
      "text/plain": [
       "['In',\n",
       " 'Out',\n",
       " '_',\n",
       " '_1',\n",
       " '_2',\n",
       " '__',\n",
       " '___',\n",
       " '__builtin__',\n",
       " '__builtins__',\n",
       " '__doc__',\n",
       " '__loader__',\n",
       " '__name__',\n",
       " '__package__',\n",
       " '__spec__',\n",
       " '_dh',\n",
       " '_i',\n",
       " '_i1',\n",
       " '_i2',\n",
       " '_i3',\n",
       " '_ih',\n",
       " '_ii',\n",
       " '_iii',\n",
       " '_oh',\n",
       " 'a',\n",
       " 'autopep8',\n",
       " 'exit',\n",
       " 'get_ipython',\n",
       " 'json',\n",
       " 'mod',\n",
       " 'quit']"
      ]
     },
     "execution_count": 3,
     "metadata": {},
     "output_type": "execute_result"
    }
   ],
   "source": [
    "import mod\n",
    "dir()"
   ]
  },
  {
   "cell_type": "code",
   "execution_count": 8,
   "id": "9960b183",
   "metadata": {},
   "outputs": [
    {
     "data": {
      "text/plain": [
       "['In',\n",
       " 'Out',\n",
       " '_',\n",
       " '_1',\n",
       " '_2',\n",
       " '_3',\n",
       " '_4',\n",
       " '_5',\n",
       " '_6',\n",
       " '_7',\n",
       " '__',\n",
       " '___',\n",
       " '__builtin__',\n",
       " '__builtins__',\n",
       " '__doc__',\n",
       " '__loader__',\n",
       " '__name__',\n",
       " '__package__',\n",
       " '__spec__',\n",
       " '_dh',\n",
       " '_i',\n",
       " '_i1',\n",
       " '_i2',\n",
       " '_i3',\n",
       " '_i4',\n",
       " '_i5',\n",
       " '_i6',\n",
       " '_i7',\n",
       " '_i8',\n",
       " '_ih',\n",
       " '_ii',\n",
       " '_iii',\n",
       " '_oh',\n",
       " 'a',\n",
       " 'autopep8',\n",
       " 'exit',\n",
       " 'get_ipython',\n",
       " 'json',\n",
       " 'mod',\n",
       " 'quit']"
      ]
     },
     "execution_count": 8,
     "metadata": {},
     "output_type": "execute_result"
    }
   ],
   "source": [
    "import mod\n",
    "mod.s\n",
    "mod.foo\n",
    "dir()"
   ]
  },
  {
   "cell_type": "code",
   "execution_count": 9,
   "id": "8cc61db8",
   "metadata": {},
   "outputs": [
    {
     "data": {
      "text/plain": [
       "['Foo',\n",
       " 'In',\n",
       " 'Out',\n",
       " '_',\n",
       " '_1',\n",
       " '_2',\n",
       " '_3',\n",
       " '_4',\n",
       " '_5',\n",
       " '_6',\n",
       " '_7',\n",
       " '_8',\n",
       " '__',\n",
       " '___',\n",
       " '__builtin__',\n",
       " '__builtins__',\n",
       " '__doc__',\n",
       " '__loader__',\n",
       " '__name__',\n",
       " '__package__',\n",
       " '__spec__',\n",
       " '_dh',\n",
       " '_i',\n",
       " '_i1',\n",
       " '_i2',\n",
       " '_i3',\n",
       " '_i4',\n",
       " '_i5',\n",
       " '_i6',\n",
       " '_i7',\n",
       " '_i8',\n",
       " '_i9',\n",
       " '_ih',\n",
       " '_ii',\n",
       " '_iii',\n",
       " '_oh',\n",
       " 'a',\n",
       " 'autopep8',\n",
       " 'exit',\n",
       " 'get_ipython',\n",
       " 'json',\n",
       " 'mod',\n",
       " 'quit']"
      ]
     },
     "execution_count": 9,
     "metadata": {},
     "output_type": "execute_result"
    }
   ],
   "source": [
    "from mod import Foo\n",
    "dir()"
   ]
  },
  {
   "cell_type": "code",
   "execution_count": 10,
   "id": "e4ba71d9",
   "metadata": {},
   "outputs": [
    {
     "data": {
      "text/plain": [
       "['Foo',\n",
       " '__builtins__',\n",
       " '__cached__',\n",
       " '__doc__',\n",
       " '__file__',\n",
       " '__loader__',\n",
       " '__name__',\n",
       " '__package__',\n",
       " '__spec__',\n",
       " 'a',\n",
       " 'foo',\n",
       " 's']"
      ]
     },
     "execution_count": 10,
     "metadata": {},
     "output_type": "execute_result"
    }
   ],
   "source": [
    "import mod\n",
    "dir(mod)"
   ]
  },
  {
   "cell_type": "code",
   "execution_count": 11,
   "id": "42388714",
   "metadata": {},
   "outputs": [
    {
     "data": {
      "text/plain": [
       "['Foo',\n",
       " 'In',\n",
       " 'Out',\n",
       " '_',\n",
       " '_1',\n",
       " '_10',\n",
       " '_2',\n",
       " '_3',\n",
       " '_4',\n",
       " '_5',\n",
       " '_6',\n",
       " '_7',\n",
       " '_8',\n",
       " '_9',\n",
       " '__',\n",
       " '___',\n",
       " '__builtin__',\n",
       " '__builtins__',\n",
       " '__doc__',\n",
       " '__loader__',\n",
       " '__name__',\n",
       " '__package__',\n",
       " '__spec__',\n",
       " '_dh',\n",
       " '_i',\n",
       " '_i1',\n",
       " '_i10',\n",
       " '_i11',\n",
       " '_i2',\n",
       " '_i3',\n",
       " '_i4',\n",
       " '_i5',\n",
       " '_i6',\n",
       " '_i7',\n",
       " '_i8',\n",
       " '_i9',\n",
       " '_ih',\n",
       " '_ii',\n",
       " '_iii',\n",
       " '_oh',\n",
       " 'a',\n",
       " 'autopep8',\n",
       " 'exit',\n",
       " 'get_ipython',\n",
       " 'json',\n",
       " 'mod',\n",
       " 'quit']"
      ]
     },
     "execution_count": 11,
     "metadata": {},
     "output_type": "execute_result"
    }
   ],
   "source": [
    "dir()"
   ]
  },
  {
   "cell_type": "code",
   "execution_count": null,
   "id": "ba3024f6",
   "metadata": {},
   "outputs": [],
   "source": [
    "s='Hactiv8-Introduction to Python for Data Science'\n",
    "a=[100,200,300]\n",
    "def foo(arg):\n",
    "    print('arg=',arg)\n",
    "class Foo:\n",
    "    pass\n",
    "if(_name_=='_main_'):\n",
    "    print('standalone script')\n",
    "    print(s)\n",
    "    print(a)\n",
    "    foo('haii')\n",
    "    x=Foo()\n",
    "    print(x)"
   ]
  },
  {
   "cell_type": "code",
   "execution_count": 4,
   "id": "2f88464d",
   "metadata": {},
   "outputs": [
    {
     "data": {
      "text/plain": [
       "720"
      ]
     },
     "execution_count": 4,
     "metadata": {},
     "output_type": "execute_result"
    }
   ],
   "source": [
    "from fact import fact\n",
    "fact(6)"
   ]
  },
  {
   "cell_type": "code",
   "execution_count": 3,
   "id": "2f70841d",
   "metadata": {},
   "outputs": [
    {
     "data": {
      "text/plain": [
       "<module 'fact' from 'C:\\\\Users\\\\Administrator\\\\H8_KS03\\\\fact.py'>"
      ]
     },
     "execution_count": 3,
     "metadata": {},
     "output_type": "execute_result"
    }
   ],
   "source": [
    "import fact\n",
    "import importlib\n",
    "importlib.reload(fact)"
   ]
  },
  {
   "cell_type": "markdown",
   "id": "33b0ed56",
   "metadata": {},
   "source": [
    "# packages\n"
   ]
  },
  {
   "cell_type": "code",
   "execution_count": 8,
   "id": "b434747c",
   "metadata": {},
   "outputs": [
    {
     "name": "stdout",
     "output_type": "stream",
     "text": [
      "[mod1]foo()\n"
     ]
    },
    {
     "data": {
      "text/plain": [
       "<pkg.mod2.Bar at 0x280f1c75070>"
      ]
     },
     "execution_count": 8,
     "metadata": {},
     "output_type": "execute_result"
    }
   ],
   "source": [
    "import pkg.mod1, pkg.mod2\n",
    "pkg.mod1.foo()\n",
    "x=pkg.mod2.Bar()\n",
    "x"
   ]
  },
  {
   "cell_type": "code",
   "execution_count": 9,
   "id": "0ec039f3",
   "metadata": {},
   "outputs": [
    {
     "name": "stdout",
     "output_type": "stream",
     "text": [
      "[mod1]foo()\n"
     ]
    }
   ],
   "source": [
    "from pkg.mod1 import foo\n",
    "foo()"
   ]
  },
  {
   "cell_type": "code",
   "execution_count": 12,
   "id": "211d5014",
   "metadata": {},
   "outputs": [
    {
     "data": {
      "text/plain": [
       "<pkg.mod2.Bar at 0x280f163aac0>"
      ]
     },
     "execution_count": 12,
     "metadata": {},
     "output_type": "execute_result"
    }
   ],
   "source": [
    "from pkg.mod2 import Bar as qux\n",
    "x=qux()\n",
    "x"
   ]
  },
  {
   "cell_type": "code",
   "execution_count": 13,
   "id": "b46def6e",
   "metadata": {},
   "outputs": [
    {
     "name": "stdout",
     "output_type": "stream",
     "text": [
      "[mod1]foo()\n"
     ]
    }
   ],
   "source": [
    "from pkg import mod1\n",
    "mod1.foo()"
   ]
  },
  {
   "cell_type": "code",
   "execution_count": 15,
   "id": "ded1f8b9",
   "metadata": {},
   "outputs": [
    {
     "data": {
      "text/plain": [
       "<pkg.mod2.Bar at 0x280f2254a00>"
      ]
     },
     "execution_count": 15,
     "metadata": {},
     "output_type": "execute_result"
    }
   ],
   "source": [
    "from pkg import mod2 as dux\n",
    "x=dux.Bar()\n",
    "x"
   ]
  },
  {
   "cell_type": "code",
   "execution_count": 17,
   "id": "6b8415d4",
   "metadata": {},
   "outputs": [
    {
     "data": {
      "text/plain": [
       "<module 'pkg.mod1' from 'C:\\\\Users\\\\Administrator\\\\H8_KS03\\\\pkg\\\\mod1.py'>"
      ]
     },
     "execution_count": 17,
     "metadata": {},
     "output_type": "execute_result"
    }
   ],
   "source": [
    "import pkg\n",
    "pkg.mod1"
   ]
  },
  {
   "cell_type": "code",
   "execution_count": 18,
   "id": "f1bc8df3",
   "metadata": {},
   "outputs": [
    {
     "name": "stdout",
     "output_type": "stream",
     "text": [
      "<!doctype html><html itemscope=\"\" itemtype=\"http://schema.org/WebPage\" lang=\"en-ID\"><head><meta content=\"text/html; charset=UTF-8\" http-equiv=\"Content-Type\"><meta content=\"/logos/doodles/2021/doodle-champion-island-games-august-30-6753651837109010-l.png\" itemprop=\"image\"><meta content=\"Doodle Champion Island Games!\" property=\"twitter:title\"><meta content=\"Feline up for a challenge? Help Lucky claim victory in the Doodle Champion Island Games! #GoogleDoodle\" property=\"twitter:description\"><meta content=\"Feline up for a challenge? Help Lucky claim victory in the Doodle Champion Island Games! #GoogleDoodle\" property=\"og:description\"><meta content=\"summary_large_image\" property=\"twitter:card\"><meta content=\"@GoogleDoodles\" property=\"twitter:site\"><meta content=\"https://www.google.com/logos/doodles/2021/doodle-champion-island-games-august-30-6753651837109010-2xa.gif\" property=\"twitter:image\"><meta content=\"https://www.google.com/logos/doodles/2021/doodle-champion-island-games-august-30-6753651837109010-2xa.gif\" property=\"og:image\"><meta content=\"652\" property=\"og:image:width\"><meta content=\"376\" property=\"og:image:height\"><meta content=\"https://www.google.com/logos/doodles/2021/doodle-champion-island-games-august-30-6753651837109010-2xa.gif\" property=\"og:url\"><meta content=\"video.other\" property=\"og:type\"><title>Google</title><script nonce=\"C9XQeY5hvKJu9OPEu06ZQw==\">(function(){window.google={kEI:'EP8sYeO8JqSE4t4Pif-E6Aw',kEXPI:'0,202342,569873,1,530320,56873,954,5105,206,4804,2316,383,246,5,1354,5251,1122515,1197773,509,112,328873,51224,16114,28684,17572,4859,1361,9290,3021,4754,12834,4020,978,13228,1837,2010,4192,6430,7432,7096,4517,2777,919,5081,885,708,1279,2212,530,149,1943,1983,4315,3513,606,2023,1777,520,14670,605,2622,2845,7,5599,6755,5096,12913,3407,908,2,941,2614,13142,3,346,230,1014,1,5444,149,11323,2647,4,1533,2304,1236,5803,2057,2626,2015,18375,2658,4242,3115,30,13628,2305,638,1494,5586,3772,7428,5785,2572,4094,17,3121,6,908,3,3541,1,14710,1815,282,912,5994,16726,1344,371,2,3057,12896,784,255,493,4057,744,1274,4578,2051,7275,1137,1160,1266,3,2834,2010,3,293,291,301,22,942,1115,2719,4545,3,120,5,22,1454,3872,360,5028,460,2427,2,5,2,4884,899,1512,423,1932,190,2446,1382,1195,1202,1918,555,465,1191,819,4,547,3,991,2,1,3,1031,316,1265,815,2,1,78,948,5,2,707,49,50,209,331,661,2,2,798,684,1302,1009,4,65,1733,3,333,1348,306,225,94,26,204,908,1,510,509,251,23,159,9,505,270,49,561,19,1150,156,95,11,234,1485,2,751,1354,121,615,38,38,1199,887,1380,192,5580740,3905,102,124,220,72,74,60,73,4,5996586,10,2799363,1323,882,444,1,2,80,1,1796,1,9,2553,1,748,141,795,563,1,4265,1,1,2,1331,4142,2609,155,17,13,72,139,4,2,20,2,169,13,19,46,5,39,96,548,29,2,2,1,2,1,2,2,7,4,1,2,2,2,2,2,2,353,513,186,1,1,158,3,2,2,2,2,2,4,2,3,3,269,291,39,14,14,5,23654495,299865,4041351,277,61,3,2414,448,2,463,172,406,9,2259,644,332,603,633,304,420',kBL:'mEnd'};google.sn='webhp';google.kHL='en-ID';})();(function(){\n",
      "var f=this||self;var h,k=[];function l(a){for(var b;a&&(!a.getAttribute||!(b=a.getAttribute(\"eid\")));)a=a.parentNode;return b||h}function m(a){for(var b=null;a&&(!a.getAttribute||!(b=a.getAttribute(\"leid\")));)a=a.parentNode;return b}\n",
      "function n(a,b,c,d,g){var e=\"\";c||-1!==b.search(\"&ei=\")||(e=\"&ei=\"+l(d),-1===b.search(\"&lei=\")&&(d=m(d))&&(e+=\"&lei=\"+d));d=\"\";!c&&f._cshid&&-1===b.search(\"&cshid=\")&&\"slh\"!==a&&(d=\"&cshid=\"+f._cshid);c=c||\"/\"+(g||\"gen_204\")+\"?atyp=i&ct=\"+a+\"&cad=\"+b+e+\"&zx=\"+Date.now()+d;/^http:/i.test(c)&&\"https:\"===window.location.protocol&&(google.ml&&google.ml(Error(\"a\"),!1,{src:c,glmm:1}),c=\"\");return c};h=google.kEI;google.getEI=l;google.getLEI=m;google.ml=function(){return null};google.log=function(a,b,c,d,g){if(c=n(a,b,c,d,g)){a=new Image;var e=k.length;k[e]=a;a.onerror=a.onload=a.onabort=function(){delete k[e]};a.src=c}};google.logUrl=n;}).call(this);(function(){\n",
      "google.y={};google.sy=[];google.x=function(a,b){if(a)var c=a.id;else{do c=Math.random();while(google.y[c])}google.y[c]=[a,b];return!1};google.sx=function(a){google.sy.push(a)};google.lm=[];google.plm=function(a){google.lm.push.apply(google.lm,a)};google.lq=[];google.load=function(a,b,c){google.lq.push([[a],b,c])};google.loadAll=function(a,b){google.lq.push([a,b])};google.bx=!1;google.lx=function(){};}).call(this);google.f={};(function(){\n",
      "document.documentElement.addEventListener(\"submit\",function(b){var a;if(a=b.target){var c=a.getAttribute(\"data-submitfalse\");a=\"1\"==c||\"q\"==c&&!a.elements.q.value?!0:!1}else a=!1;a&&(b.preventDefault(),b.stopPropagation())},!0);document.documentElement.addEventListener(\"click\",function(b){var a;a:{for(a=b.target;a&&a!=document.documentElement;a=a.parentElement)if(\"A\"==a.tagName){a=\"1\"==a.getAttribute(\"data-nohref\");break a}a=!1}a&&b.preventDefault()},!0);}).call(this);</script><style>#gbar,#guser{font-size:13px;padding-top:1px !important;}#gbar{height:22px}#guser{padding-bottom:7px !important;text-align:right}.gbh,.gbd{border-top:1px solid #c9d7f1;font-size:1px}.gbh{height:0;position:absolute;top:24px;width:100%}@media all{.gb1{height:22px;margin-right:.5em;vertical-align:top}#gbar{float:left}}a.gb1,a.gb4{text-decoration:underline !important}a.gb1,a.gb4{color:#00c !important}.gbi .gb4{color:#dd8e27 !important}.gbf .gb4{color:#900 !important}\n",
      "</style><style>body,td,a,p,.h{font-family:arial,sans-serif}body{margin:0;overflow-y:scroll}#gog{padding:3px 8px 0}td{line-height:.8em}.gac_m td{line-height:17px}form{margin-bottom:20px}.h{color:#1558d6}em{font-weight:bold;font-style:normal}.lst{height:25px;width:496px}.gsfi,.lst{font:18px arial,sans-serif}.gsfs{font:17px arial,sans-serif}.ds{display:inline-box;display:inline-block;margin:3px 0 4px;margin-left:4px}input{font-family:inherit}body{background:#fff;color:#000}a{color:#4b11a8;text-decoration:none}a:hover,a:active{text-decoration:underline}.fl a{color:#1558d6}a:visited{color:#4b11a8}.sblc{padding-top:5px}.sblc a{display:block;margin:2px 0;margin-left:13px;font-size:11px}.lsbb{background:#f8f9fa;border:solid 1px;border-color:#dadce0 #70757a #70757a #dadce0;height:30px}.lsbb{display:block}#WqQANb a{display:inline-block;margin:0 12px}.lsb{background:url(/images/nav_logo229.png) 0 -261px repeat-x;border:none;color:#000;cursor:pointer;height:30px;margin:0;outline:0;font:15px arial,sans-serif;vertical-align:top}.lsb:active{background:#dadce0}.lst:focus{outline:none}</style><script nonce=\"C9XQeY5hvKJu9OPEu06ZQw==\"></script></head><body bgcolor=\"#fff\"><script nonce=\"C9XQeY5hvKJu9OPEu06ZQw==\">(function(){var src='/images/nav_logo229.png';var iesg=false;document.body.onload = function(){window.n && window.n();if (document.images){new Image().src=src;}\n",
      "if (!iesg){document.f&&document.f.q.focus();document.gbqf&&document.gbqf.q.focus();}\n",
      "}\n",
      "})();</script><div id=\"mngb\"><div id=gbar><nobr><b class=gb1>Search</b> <a class=gb1 href=\"https://www.google.co.id/imghp?hl=en&tab=wi\">Images</a> <a class=gb1 href=\"https://maps.google.co.id/maps?hl=en&tab=wl\">Maps</a> <a class=gb1 href=\"https://play.google.com/?hl=en&tab=w8\">Play</a> <a class=gb1 href=\"https://www.youtube.com/?gl=ID&tab=w1\">YouTube</a> <a class=gb1 href=\"https://news.google.com/?tab=wn\">News</a> <a class=gb1 href=\"https://mail.google.com/mail/?tab=wm\">Gmail</a> <a class=gb1 href=\"https://drive.google.com/?tab=wo\">Drive</a> <a class=gb1 style=\"text-decoration:none\" href=\"https://www.google.co.id/intl/en/about/products?tab=wh\"><u>More</u> &raquo;</a></nobr></div><div id=guser width=100%><nobr><span id=gbn class=gbi></span><span id=gbf class=gbf></span><span id=gbe></span><a href=\"http://www.google.co.id/history/optout?hl=en\" class=gb4>Web History</a> | <a  href=\"/preferences?hl=en\" class=gb4>Settings</a> | <a target=_top id=gb_70 href=\"https://accounts.google.com/ServiceLogin?hl=en&passive=true&continue=https://www.google.co.id/%3Fhl%3Den&ec=GAZAAQ\" class=gb4>Sign in</a></nobr></div><div class=gbh style=left:0></div><div class=gbh style=right:0></div></div><center><br clear=\"all\" id=\"lgpd\"><div id=\"lga\"><a href=\"/search?ie=UTF-8&amp;q=Paralympics&amp;oi=ddle&amp;ct=174787825&amp;hl=en-GB&amp;si=AHuW2sT-QI6yLdyEfUBJHlK3UbYl5IMFaEVy5cpr0uPqDA9_otVXb9ripiHnz-EX5hXZ_jIa8ESKopokBeQtHfj9KzxO6Dw9kGEpQWJxyyGVK2B-ksVRRB0%3D&amp;sa=X&amp;ved=0ahUKEwjjhO63jdnyAhUkgtgFHYk_Ac0QPQgD\"><img alt=\"Doodle Champion Island Games!\" border=\"0\" height=\"188\" src=\"/logos/doodles/2021/doodle-champion-island-games-august-30-6753651837109010-l.png\" title=\"Doodle Champion Island Games!\" width=\"326\" id=\"hplogo\"><br></a><br></div><form action=\"/search\" name=\"f\"><table cellpadding=\"0\" cellspacing=\"0\"><tr valign=\"top\"><td width=\"25%\">&nbsp;</td><td align=\"center\" nowrap=\"\"><input name=\"ie\" value=\"ISO-8859-1\" type=\"hidden\"><input value=\"en-ID\" name=\"hl\" type=\"hidden\"><input name=\"source\" type=\"hidden\" value=\"hp\"><input name=\"biw\" type=\"hidden\"><input name=\"bih\" type=\"hidden\"><div class=\"ds\" style=\"height:32px;margin:4px 0\"><input class=\"lst\" style=\"margin:0;padding:5px 8px 0 6px;vertical-align:top;color:#000\" autocomplete=\"off\" value=\"\" title=\"Google Search\" maxlength=\"2048\" name=\"q\" size=\"57\"></div><br style=\"line-height:0\"><span class=\"ds\"><span class=\"lsbb\"><input class=\"lsb\" value=\"Google Search\" name=\"btnG\" type=\"submit\"></span></span><span class=\"ds\"><span class=\"lsbb\"><input class=\"lsb\" id=\"tsuid1\" value=\"I'm Feeling Lucky\" name=\"btnI\" type=\"submit\"><script nonce=\"C9XQeY5hvKJu9OPEu06ZQw==\">(function(){var id='tsuid1';document.getElementById(id).onclick = function(){if (this.form.q.value){this.checked = 1;if (this.form.iflsig)this.form.iflsig.disabled = false;}\n",
      "else top.location='/doodles/';};})();</script><input value=\"ALs-wAMAAAAAYS0NIHm6VVt6WtAo02hancap6ujK4aHh\" name=\"iflsig\" type=\"hidden\"></span></span></td><td class=\"fl sblc\" align=\"left\" nowrap=\"\" width=\"25%\"><a href=\"/advanced_search?hl=en-ID&amp;authuser=0\">Advanced search</a></td></tr></table><input id=\"gbv\" name=\"gbv\" type=\"hidden\" value=\"1\"><script nonce=\"C9XQeY5hvKJu9OPEu06ZQw==\">(function(){\n",
      "var a,b=\"1\";if(document&&document.getElementById)if(\"undefined\"!=typeof XMLHttpRequest)b=\"2\";else if(\"undefined\"!=typeof ActiveXObject){var c,d,e=[\"MSXML2.XMLHTTP.6.0\",\"MSXML2.XMLHTTP.3.0\",\"MSXML2.XMLHTTP\",\"Microsoft.XMLHTTP\"];for(c=0;d=e[c++];)try{new ActiveXObject(d),b=\"2\"}catch(h){}}a=b;if(\"2\"==a&&-1==location.search.indexOf(\"&gbv=2\")){var f=google.gbvu,g=document.getElementById(\"gbv\");g&&(g.value=a);f&&window.setTimeout(function(){location.href=f},0)};}).call(this);</script></form><div id=\"gac_scont\"></div><div style=\"font-size:83%;min-height:3.5em\"><br><div id=\"gws-output-pages-elements-homepage_additional_languages__als\"><style>#gws-output-pages-elements-homepage_additional_languages__als{font-size:small;margin-bottom:24px}#SIvCob{color:#3c4043;display:inline-block;line-height:28px;}#SIvCob a{padding:0 3px;}.H6sW5{display:inline-block;margin:0 2px;white-space:nowrap}.z4hgWe{display:inline-block;margin:0 2px}</style><div id=\"SIvCob\">Google offered in:  <a href=\"https://www.google.co.id/setprefs?sig=0_eLxvuj4BzEsVgpg4Ge6UhVTMtCI%3D&amp;hl=id&amp;source=homepage&amp;sa=X&amp;ved=0ahUKEwjjhO63jdnyAhUkgtgFHYk_Ac0Q2ZgBCAU\">Indonesia</a>    <a href=\"https://www.google.co.id/setprefs?sig=0_eLxvuj4BzEsVgpg4Ge6UhVTMtCI%3D&amp;hl=jv&amp;source=homepage&amp;sa=X&amp;ved=0ahUKEwjjhO63jdnyAhUkgtgFHYk_Ac0Q2ZgBCAY\"></a>    <a href=\"https://www.google.co.id/setprefs?sig=0_eLxvuj4BzEsVgpg4Ge6UhVTMtCI%3D&amp;hl=ban&amp;source=homepage&amp;sa=X&amp;ved=0ahUKEwjjhO63jdnyAhUkgtgFHYk_Ac0Q2ZgBCAc\">Basa Bali</a>  </div></div></div><span id=\"footer\"><div style=\"font-size:10pt\"><div style=\"margin:19px auto;text-align:center\" id=\"WqQANb\"><a href=\"/intl/en/ads/\">Advertising Programs</a><a href=\"/intl/en/about.html\">About Google</a><a href=\"https://www.google.co.id/setprefdomain?prefdom=US&amp;sig=K_NJnD1uW5Xyd1JxDcmYc_9dCLxsM%3D\" id=\"fehl\">Google.com</a></div></div><p style=\"font-size:8pt;color:#70757a\">&copy; 2021 - <a href=\"/intl/en/policies/privacy/\">Privacy</a> - <a href=\"/intl/en/policies/terms/\">Terms</a></p></span></center><script nonce=\"C9XQeY5hvKJu9OPEu06ZQw==\">(function(){window.google.cdo={height:757,width:1440};(function(){\n",
      "var a=window.innerWidth,b=window.innerHeight;if(!a||!b){var c=window.document,d=\"CSS1Compat\"==c.compatMode?c.documentElement:c.body;a=d.clientWidth;b=d.clientHeight}a&&b&&(a!=google.cdo.width||b!=google.cdo.height)&&google.log(\"\",\"\",\"/client_204?&atyp=i&biw=\"+a+\"&bih=\"+b+\"&ei=\"+google.kEI);}).call(this);})();</script> <script nonce=\"C9XQeY5hvKJu9OPEu06ZQw==\">(function(){google.xjs={ck:'',cs:'',excm:[]};})();</script>  <script nonce=\"C9XQeY5hvKJu9OPEu06ZQw==\">(function(){var u='/xjs/_/js/k\\x3dxjs.hp.en.NYgA3ckkpwI.O/am\\x3dAPgEWA/d\\x3d1/ed\\x3d1/rs\\x3dACT90oGrXEwhN17xZsBE4LKxczsx3MW4Gg/m\\x3dsb_he,d';\n",
      "var e=this||self,f=function(a){return a};var g;var l=function(a,b){this.g=b===h?a:\"\"};l.prototype.toString=function(){return this.g+\"\"};var h={};function m(){var a=u;google.lx=function(){n(a);google.lx=function(){}};google.bx||google.lx()}\n",
      "function n(a){google.timers&&google.timers.load&&google.tick&&google.tick(\"load\",\"xjsls\");var b=document;var c=\"SCRIPT\";\"application/xhtml+xml\"===b.contentType&&(c=c.toLowerCase());c=b.createElement(c);if(void 0===g){b=null;var k=e.trustedTypes;if(k&&k.createPolicy){try{b=k.createPolicy(\"goog#html\",{createHTML:f,createScript:f,createScriptURL:f})}catch(p){e.console&&e.console.error(p.message)}g=b}else g=b}a=(b=g)?b.createScriptURL(a):a;a=new l(a,h);c.src=a instanceof l&&a.constructor===l?a.g:\"type_error:TrustedResourceUrl\";var d;a=(c.ownerDocument&&c.ownerDocument.defaultView||window).document;(d=(b=null===(d=a.querySelector)||void 0===d?void 0:d.call(a,\"script[nonce]\"))?b.nonce||b.getAttribute(\"nonce\")||\"\":\"\")&&c.setAttribute(\"nonce\",d);document.body.appendChild(c);google.psa=!0};setTimeout(function(){m()},0);})();(function(){window.google.xjsu='/xjs/_/js/k\\x3dxjs.hp.en.NYgA3ckkpwI.O/am\\x3dAPgEWA/d\\x3d1/ed\\x3d1/rs\\x3dACT90oGrXEwhN17xZsBE4LKxczsx3MW4Gg/m\\x3dsb_he,d';})();function _DumpException(e){throw e;}\n",
      "function _F_installCss(c){}\n",
      "(function(){google.jl={attn:false,blt:'none',chnk:0,dw:false,emtn:0,end:0,ine:false,lls:'default',pdt:0,rep:0,sif:true,snet:true,strt:0,ubm:false,uwp:true};})();(function(){var pmc='{\\x22d\\x22:{},\\x22sb_he\\x22:{\\x22agen\\x22:false,\\x22cgen\\x22:false,\\x22client\\x22:\\x22heirloom-hp\\x22,\\x22dh\\x22:true,\\x22dhqt\\x22:true,\\x22ds\\x22:\\x22\\x22,\\x22ffql\\x22:\\x22en\\x22,\\x22fl\\x22:true,\\x22host\\x22:\\x22google.co.id\\x22,\\x22isbh\\x22:28,\\x22jsonp\\x22:true,\\x22msgs\\x22:{\\x22cibl\\x22:\\x22Clear Search\\x22,\\x22dym\\x22:\\x22Did you mean:\\x22,\\x22lcky\\x22:\\x22I\\\\u0026#39;m Feeling Lucky\\x22,\\x22lml\\x22:\\x22Learn more\\x22,\\x22oskt\\x22:\\x22Input tools\\x22,\\x22psrc\\x22:\\x22This search was removed from your \\\\u003Ca href\\x3d\\\\\\x22/history\\\\\\x22\\\\u003EWeb History\\\\u003C/a\\\\u003E\\x22,\\x22psrl\\x22:\\x22Remove\\x22,\\x22sbit\\x22:\\x22Search by image\\x22,\\x22srch\\x22:\\x22Google Search\\x22},\\x22ovr\\x22:{},\\x22pq\\x22:\\x22\\x22,\\x22refpd\\x22:true,\\x22rfs\\x22:[],\\x22sbas\\x22:\\x220 3px 8px 0 rgba(0,0,0,0.2),0 0 0 1px rgba(0,0,0,0.08)\\x22,\\x22sbpl\\x22:16,\\x22sbpr\\x22:16,\\x22scd\\x22:10,\\x22stok\\x22:\\x228LkphwYkp1ZDATLTrV1t7cJDFw8\\x22,\\x22uhde\\x22:false}}';google.pmc=JSON.parse(pmc);})();</script>        </body></html>\n"
     ]
    }
   ],
   "source": [
    "import requests\n",
    "url='https://www.google.co.id/?hl=en'\n",
    "respon=requests.get(url)\n",
    "print(respon.text)"
   ]
  },
  {
   "cell_type": "code",
   "execution_count": 1,
   "id": "38c44afe",
   "metadata": {},
   "outputs": [
    {
     "name": "stdout",
     "output_type": "stream",
     "text": [
      "24\n"
     ]
    }
   ],
   "source": [
    "def f(x):\n",
    "    return 10+x**2\n",
    "hasil=10+f(2)\n",
    "print(hasil)"
   ]
  },
  {
   "cell_type": "code",
   "execution_count": 3,
   "id": "e8ab219c",
   "metadata": {},
   "outputs": [
    {
     "name": "stdout",
     "output_type": "stream",
     "text": [
      "you are adult\n",
      "lets drink\n",
      "di luar scoupe if\n"
     ]
    }
   ],
   "source": [
    "def checkAge(myage):\n",
    "    if myage >= adultTreshold:\n",
    "        adultTreshold = 18\n",
    "        print(\"you are adult\")\n",
    "        print(\"lets drink\")\n",
    "    else:\n",
    "        yearsToaduld = adultTreshold - myage\n",
    "        print(\"you are under age lets wait {} more years \".format(yearsToaduld))\n",
    "    "
   ]
  },
  {
   "cell_type": "code",
   "execution_count": 8,
   "id": "5e8241bb",
   "metadata": {},
   "outputs": [
    {
     "name": "stdout",
     "output_type": "stream",
     "text": [
      "you are under age lets wait 3 more years \n"
     ]
    }
   ],
   "source": [
    "def checkAge(myage):\n",
    "    adultTreshold = 18\n",
    "    if myage >= adultTreshold:\n",
    "        print(\"you are adult\")\n",
    "        print(\"lets drink\")\n",
    "    else:\n",
    "        yearsToaduld = adultTreshold - myage\n",
    "        print(\"you are under age lets wait {} more years \".format(yearsToaduld))\n",
    "checkAge(15)"
   ]
  },
  {
   "cell_type": "code",
   "execution_count": 10,
   "id": "5434861e",
   "metadata": {},
   "outputs": [
    {
     "name": "stdout",
     "output_type": "stream",
     "text": [
      "halo nama saya Helenna\n",
      "hobi saya nongkrong\n"
     ]
    }
   ],
   "source": [
    "def Hello(nama,hobby='nongkrong'):\n",
    "    print('halo nama saya',nama)\n",
    "    print('hobi saya',hobby)\n",
    "Hello('Helenna')"
   ]
  },
  {
   "cell_type": "code",
   "execution_count": 16,
   "id": "5c1cf0ed",
   "metadata": {},
   "outputs": [
    {
     "data": {
      "text/plain": [
       "20"
      ]
     },
     "execution_count": 16,
     "metadata": {},
     "output_type": "execute_result"
    }
   ],
   "source": [
    "def jumlah(a,b,*c):\n",
    "    hasil=a+b\n",
    "    for i in c:\n",
    "        hasil=hasil+i\n",
    "    return hasil\n",
    "jumlah(2,3,4,5,6)\n"
   ]
  },
  {
   "cell_type": "code",
   "execution_count": 21,
   "id": "ae9ea307",
   "metadata": {},
   "outputs": [
    {
     "name": "stdout",
     "output_type": "stream",
     "text": [
      "variabel pada fungsi pertama\n"
     ]
    }
   ],
   "source": [
    "def try1():\n",
    "    var1='variabel pada fungsi pertama'\n",
    "    def try2():\n",
    "        var2='variabel pada fungsi kedua'\n",
    "        print(var1)\n",
    "    return try2()\n",
    "try1()\n",
    "\n",
    "    "
   ]
  },
  {
   "cell_type": "code",
   "execution_count": 28,
   "id": "4ac4c6b7",
   "metadata": {},
   "outputs": [
    {
     "name": "stdout",
     "output_type": "stream",
     "text": [
      "20\n",
      "6\n",
      "12\n"
     ]
    }
   ],
   "source": [
    "def penjumlahan(*a):\n",
    "    jumlah=0\n",
    "    for i in a:\n",
    "        jumlah=jumlah+i\n",
    "    return jumlah\n",
    "def perkalian(*b):\n",
    "    kali=1\n",
    "    for i in b:\n",
    "        kali=kali*i\n",
    "    return kali\n",
    "\n",
    "#f(x,y,z)=10x+y^2+z^5\n",
    "def f(x,y,z):\n",
    "    hasil=10*x+y**2+z**5\n",
    "    return hasil\n",
    "\n",
    "#test\n",
    "print(penjumlahan(2,3,4,5,6))\n",
    "print(perkalian(1,2,3))\n",
    "print(f(1,1,1))\n",
    "\n"
   ]
  },
  {
   "cell_type": "code",
   "execution_count": 1,
   "id": "97b5e818",
   "metadata": {},
   "outputs": [
    {
     "data": {
      "text/plain": [
       "3"
      ]
     },
     "execution_count": 1,
     "metadata": {},
     "output_type": "execute_result"
    }
   ],
   "source": [
    "import calculator\n",
    "calculator.penjumlahan(1,1,1)"
   ]
  },
  {
   "cell_type": "code",
   "execution_count": 2,
   "id": "79154882",
   "metadata": {},
   "outputs": [
    {
     "data": {
      "text/plain": [
       "6"
      ]
     },
     "execution_count": 2,
     "metadata": {},
     "output_type": "execute_result"
    }
   ],
   "source": [
    "from calculator import penjumlahan as tambah\n",
    "tambah(2,2,2)"
   ]
  },
  {
   "cell_type": "code",
   "execution_count": 2,
   "id": "524b32a8",
   "metadata": {},
   "outputs": [
    {
     "name": "stdout",
     "output_type": "stream",
     "text": [
      "saya\n"
     ]
    }
   ],
   "source": [
    "import mymod.testprint as pkg\n",
    "pkg.testprint('saya')"
   ]
  },
  {
   "cell_type": "code",
   "execution_count": 4,
   "id": "30d8bcd4",
   "metadata": {},
   "outputs": [
    {
     "data": {
      "text/plain": [
       "3.0"
      ]
     },
     "execution_count": 4,
     "metadata": {},
     "output_type": "execute_result"
    }
   ],
   "source": [
    "import mymod.calculator\n",
    "mymod.calculator.pembagian(6,2,1)"
   ]
  },
  {
   "cell_type": "code",
   "execution_count": 5,
   "id": "b1cfb592",
   "metadata": {},
   "outputs": [
    {
     "ename": "TypeError",
     "evalue": "filter() takes no keyword arguments",
     "output_type": "error",
     "traceback": [
      "\u001b[1;31m---------------------------------------------------------------------------\u001b[0m",
      "\u001b[1;31mTypeError\u001b[0m                                 Traceback (most recent call last)",
      "\u001b[1;32m<ipython-input-5-de558790ba9d>\u001b[0m in \u001b[0;36m<module>\u001b[1;34m\u001b[0m\n\u001b[0;32m      3\u001b[0m \u001b[0myt\u001b[0m \u001b[1;33m=\u001b[0m \u001b[0mYouTube\u001b[0m\u001b[1;33m(\u001b[0m\u001b[1;34m'https://www.youtube.com/watch?v=YkJbufLDf9A'\u001b[0m\u001b[1;33m)\u001b[0m\u001b[1;33m\u001b[0m\u001b[1;33m\u001b[0m\u001b[0m\n\u001b[0;32m      4\u001b[0m \u001b[0myt\u001b[0m\u001b[1;33m.\u001b[0m\u001b[0mstreams\u001b[0m\u001b[1;33m\u001b[0m\u001b[1;33m\u001b[0m\u001b[0m\n\u001b[1;32m----> 5\u001b[1;33m \u001b[0mfilter\u001b[0m\u001b[1;33m(\u001b[0m\u001b[0mprogressive\u001b[0m\u001b[1;33m=\u001b[0m\u001b[1;32mTrue\u001b[0m\u001b[1;33m,\u001b[0m \u001b[0mfile_extension\u001b[0m\u001b[1;33m=\u001b[0m\u001b[1;34m'mp4'\u001b[0m\u001b[1;33m)\u001b[0m\u001b[1;33m\u001b[0m\u001b[1;33m\u001b[0m\u001b[0m\n\u001b[0m\u001b[0;32m      6\u001b[0m \u001b[0morder_by\u001b[0m\u001b[1;33m(\u001b[0m\u001b[1;34m'resolution'\u001b[0m\u001b[1;33m)\u001b[0m\u001b[1;33m\u001b[0m\u001b[1;33m\u001b[0m\u001b[0m\n\u001b[0;32m      7\u001b[0m \u001b[0mdesc\u001b[0m\u001b[1;33m(\u001b[0m\u001b[1;33m)\u001b[0m\u001b[1;33m\u001b[0m\u001b[1;33m\u001b[0m\u001b[0m\n",
      "\u001b[1;31mTypeError\u001b[0m: filter() takes no keyword arguments"
     ]
    }
   ],
   "source": [
    "from pytube import YouTube\n",
    "YouTube('https://www.youtube.com/watch?v=YkJbufLDf9A').streams.first().download()\n",
    "yt = YouTube('https://www.youtube.com/watch?v=YkJbufLDf9A')\n",
    "yt.streams\n",
    "filter(progressive=True, file_extension='mp4')\n",
    "order_by('resolution')\n",
    "desc()\n",
    "first()\n",
    "download()\n"
   ]
  },
  {
   "cell_type": "code",
   "execution_count": null,
   "id": "23377528",
   "metadata": {},
   "outputs": [],
   "source": []
  }
 ],
 "metadata": {
  "kernelspec": {
   "display_name": "Python 3",
   "language": "python",
   "name": "python3"
  },
  "language_info": {
   "codemirror_mode": {
    "name": "ipython",
    "version": 3
   },
   "file_extension": ".py",
   "mimetype": "text/x-python",
   "name": "python",
   "nbconvert_exporter": "python",
   "pygments_lexer": "ipython3",
   "version": "3.8.8"
  },
  "toc": {
   "base_numbering": 1,
   "nav_menu": {},
   "number_sections": true,
   "sideBar": true,
   "skip_h1_title": false,
   "title_cell": "Table of Contents",
   "title_sidebar": "Contents",
   "toc_cell": false,
   "toc_position": {},
   "toc_section_display": true,
   "toc_window_display": false
  }
 },
 "nbformat": 4,
 "nbformat_minor": 5
}
