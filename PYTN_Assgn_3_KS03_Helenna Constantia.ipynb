{
 "cells": [
  {
   "cell_type": "markdown",
   "id": "3bab703f",
   "metadata": {},
   "source": [
    "Workflow\n",
    "- Preprocessing Data\n",
    "- Logistic Regression\n",
    "- Visualisasi confussion matrix\n",
    "- menyeleksi fitur-fitur penting\n",
    "- memodelkan ulang Logistic Regression\n",
    "- K-Nearest Neighbor\n",
    "- Naive Bayes\n",
    "- Decision Tree\n",
    "- Random Forest\n",
    "- Support Vector machine\n",
    "- Membandingkan accuracy\n",
    "- menentukan algoritma yang paling sesuai untuk prediksi"
   ]
  },
  {
   "cell_type": "markdown",
   "id": "329c49c2",
   "metadata": {},
   "source": [
    "# Preprocessing Data"
   ]
  },
  {
   "cell_type": "code",
   "execution_count": 1,
   "id": "b8992968",
   "metadata": {},
   "outputs": [
    {
     "data": {
      "text/html": [
       "<div>\n",
       "<style scoped>\n",
       "    .dataframe tbody tr th:only-of-type {\n",
       "        vertical-align: middle;\n",
       "    }\n",
       "\n",
       "    .dataframe tbody tr th {\n",
       "        vertical-align: top;\n",
       "    }\n",
       "\n",
       "    .dataframe thead th {\n",
       "        text-align: right;\n",
       "    }\n",
       "</style>\n",
       "<table border=\"1\" class=\"dataframe\">\n",
       "  <thead>\n",
       "    <tr style=\"text-align: right;\">\n",
       "      <th></th>\n",
       "      <th>age</th>\n",
       "      <th>job</th>\n",
       "      <th>marital</th>\n",
       "      <th>education</th>\n",
       "      <th>default</th>\n",
       "      <th>housing</th>\n",
       "      <th>loan</th>\n",
       "      <th>contact</th>\n",
       "      <th>month</th>\n",
       "      <th>day_of_week</th>\n",
       "      <th>...</th>\n",
       "      <th>campaign</th>\n",
       "      <th>pdays</th>\n",
       "      <th>previous</th>\n",
       "      <th>poutcome</th>\n",
       "      <th>emp.var.rate</th>\n",
       "      <th>cons.price.idx</th>\n",
       "      <th>cons.conf.idx</th>\n",
       "      <th>euribor3m</th>\n",
       "      <th>nr.employed</th>\n",
       "      <th>y</th>\n",
       "    </tr>\n",
       "  </thead>\n",
       "  <tbody>\n",
       "    <tr>\n",
       "      <th>0</th>\n",
       "      <td>30</td>\n",
       "      <td>blue-collar</td>\n",
       "      <td>married</td>\n",
       "      <td>basic.9y</td>\n",
       "      <td>no</td>\n",
       "      <td>yes</td>\n",
       "      <td>no</td>\n",
       "      <td>cellular</td>\n",
       "      <td>may</td>\n",
       "      <td>fri</td>\n",
       "      <td>...</td>\n",
       "      <td>2</td>\n",
       "      <td>999</td>\n",
       "      <td>0</td>\n",
       "      <td>nonexistent</td>\n",
       "      <td>-1.8</td>\n",
       "      <td>92.893</td>\n",
       "      <td>-46.2</td>\n",
       "      <td>1.313</td>\n",
       "      <td>5099.1</td>\n",
       "      <td>no</td>\n",
       "    </tr>\n",
       "    <tr>\n",
       "      <th>1</th>\n",
       "      <td>39</td>\n",
       "      <td>services</td>\n",
       "      <td>single</td>\n",
       "      <td>high.school</td>\n",
       "      <td>no</td>\n",
       "      <td>no</td>\n",
       "      <td>no</td>\n",
       "      <td>telephone</td>\n",
       "      <td>may</td>\n",
       "      <td>fri</td>\n",
       "      <td>...</td>\n",
       "      <td>4</td>\n",
       "      <td>999</td>\n",
       "      <td>0</td>\n",
       "      <td>nonexistent</td>\n",
       "      <td>1.1</td>\n",
       "      <td>93.994</td>\n",
       "      <td>-36.4</td>\n",
       "      <td>4.855</td>\n",
       "      <td>5191.0</td>\n",
       "      <td>no</td>\n",
       "    </tr>\n",
       "    <tr>\n",
       "      <th>2</th>\n",
       "      <td>25</td>\n",
       "      <td>services</td>\n",
       "      <td>married</td>\n",
       "      <td>high.school</td>\n",
       "      <td>no</td>\n",
       "      <td>yes</td>\n",
       "      <td>no</td>\n",
       "      <td>telephone</td>\n",
       "      <td>jun</td>\n",
       "      <td>wed</td>\n",
       "      <td>...</td>\n",
       "      <td>1</td>\n",
       "      <td>999</td>\n",
       "      <td>0</td>\n",
       "      <td>nonexistent</td>\n",
       "      <td>1.4</td>\n",
       "      <td>94.465</td>\n",
       "      <td>-41.8</td>\n",
       "      <td>4.962</td>\n",
       "      <td>5228.1</td>\n",
       "      <td>no</td>\n",
       "    </tr>\n",
       "    <tr>\n",
       "      <th>3</th>\n",
       "      <td>38</td>\n",
       "      <td>services</td>\n",
       "      <td>married</td>\n",
       "      <td>basic.9y</td>\n",
       "      <td>no</td>\n",
       "      <td>unknown</td>\n",
       "      <td>unknown</td>\n",
       "      <td>telephone</td>\n",
       "      <td>jun</td>\n",
       "      <td>fri</td>\n",
       "      <td>...</td>\n",
       "      <td>3</td>\n",
       "      <td>999</td>\n",
       "      <td>0</td>\n",
       "      <td>nonexistent</td>\n",
       "      <td>1.4</td>\n",
       "      <td>94.465</td>\n",
       "      <td>-41.8</td>\n",
       "      <td>4.959</td>\n",
       "      <td>5228.1</td>\n",
       "      <td>no</td>\n",
       "    </tr>\n",
       "    <tr>\n",
       "      <th>4</th>\n",
       "      <td>47</td>\n",
       "      <td>admin.</td>\n",
       "      <td>married</td>\n",
       "      <td>university.degree</td>\n",
       "      <td>no</td>\n",
       "      <td>yes</td>\n",
       "      <td>no</td>\n",
       "      <td>cellular</td>\n",
       "      <td>nov</td>\n",
       "      <td>mon</td>\n",
       "      <td>...</td>\n",
       "      <td>1</td>\n",
       "      <td>999</td>\n",
       "      <td>0</td>\n",
       "      <td>nonexistent</td>\n",
       "      <td>-0.1</td>\n",
       "      <td>93.200</td>\n",
       "      <td>-42.0</td>\n",
       "      <td>4.191</td>\n",
       "      <td>5195.8</td>\n",
       "      <td>no</td>\n",
       "    </tr>\n",
       "  </tbody>\n",
       "</table>\n",
       "<p>5 rows × 21 columns</p>\n",
       "</div>"
      ],
      "text/plain": [
       "   age          job  marital          education default  housing     loan  \\\n",
       "0   30  blue-collar  married           basic.9y      no      yes       no   \n",
       "1   39     services   single        high.school      no       no       no   \n",
       "2   25     services  married        high.school      no      yes       no   \n",
       "3   38     services  married           basic.9y      no  unknown  unknown   \n",
       "4   47       admin.  married  university.degree      no      yes       no   \n",
       "\n",
       "     contact month day_of_week  ...  campaign  pdays  previous     poutcome  \\\n",
       "0   cellular   may         fri  ...         2    999         0  nonexistent   \n",
       "1  telephone   may         fri  ...         4    999         0  nonexistent   \n",
       "2  telephone   jun         wed  ...         1    999         0  nonexistent   \n",
       "3  telephone   jun         fri  ...         3    999         0  nonexistent   \n",
       "4   cellular   nov         mon  ...         1    999         0  nonexistent   \n",
       "\n",
       "  emp.var.rate  cons.price.idx  cons.conf.idx  euribor3m  nr.employed   y  \n",
       "0         -1.8          92.893          -46.2      1.313       5099.1  no  \n",
       "1          1.1          93.994          -36.4      4.855       5191.0  no  \n",
       "2          1.4          94.465          -41.8      4.962       5228.1  no  \n",
       "3          1.4          94.465          -41.8      4.959       5228.1  no  \n",
       "4         -0.1          93.200          -42.0      4.191       5195.8  no  \n",
       "\n",
       "[5 rows x 21 columns]"
      ]
     },
     "execution_count": 1,
     "metadata": {},
     "output_type": "execute_result"
    }
   ],
   "source": [
    "#import libraty yang dibutuhkan\n",
    "import pandas as pd\n",
    "#mendownload dan menuimpan file dataset\n",
    "df=pd.read_csv('./dataset/bank-additional.csv', sep=';')\n",
    "df.head()"
   ]
  },
  {
   "cell_type": "code",
   "execution_count": 2,
   "id": "001889fb",
   "metadata": {},
   "outputs": [],
   "source": [
    "pd.set_option('display.max.columns', None)"
   ]
  },
  {
   "cell_type": "code",
   "execution_count": 3,
   "id": "bdc685b9",
   "metadata": {
    "scrolled": true
   },
   "outputs": [
    {
     "data": {
      "text/html": [
       "<div>\n",
       "<style scoped>\n",
       "    .dataframe tbody tr th:only-of-type {\n",
       "        vertical-align: middle;\n",
       "    }\n",
       "\n",
       "    .dataframe tbody tr th {\n",
       "        vertical-align: top;\n",
       "    }\n",
       "\n",
       "    .dataframe thead th {\n",
       "        text-align: right;\n",
       "    }\n",
       "</style>\n",
       "<table border=\"1\" class=\"dataframe\">\n",
       "  <thead>\n",
       "    <tr style=\"text-align: right;\">\n",
       "      <th></th>\n",
       "      <th>age</th>\n",
       "      <th>job</th>\n",
       "      <th>marital</th>\n",
       "      <th>education</th>\n",
       "      <th>default</th>\n",
       "      <th>housing</th>\n",
       "      <th>loan</th>\n",
       "      <th>contact</th>\n",
       "      <th>month</th>\n",
       "      <th>day_of_week</th>\n",
       "      <th>duration</th>\n",
       "      <th>campaign</th>\n",
       "      <th>pdays</th>\n",
       "      <th>previous</th>\n",
       "      <th>poutcome</th>\n",
       "      <th>emp.var.rate</th>\n",
       "      <th>cons.price.idx</th>\n",
       "      <th>cons.conf.idx</th>\n",
       "      <th>euribor3m</th>\n",
       "      <th>nr.employed</th>\n",
       "      <th>y</th>\n",
       "    </tr>\n",
       "  </thead>\n",
       "  <tbody>\n",
       "    <tr>\n",
       "      <th>4114</th>\n",
       "      <td>30</td>\n",
       "      <td>admin.</td>\n",
       "      <td>married</td>\n",
       "      <td>basic.6y</td>\n",
       "      <td>no</td>\n",
       "      <td>yes</td>\n",
       "      <td>yes</td>\n",
       "      <td>cellular</td>\n",
       "      <td>jul</td>\n",
       "      <td>thu</td>\n",
       "      <td>53</td>\n",
       "      <td>1</td>\n",
       "      <td>999</td>\n",
       "      <td>0</td>\n",
       "      <td>nonexistent</td>\n",
       "      <td>1.4</td>\n",
       "      <td>93.918</td>\n",
       "      <td>-42.7</td>\n",
       "      <td>4.958</td>\n",
       "      <td>5228.1</td>\n",
       "      <td>no</td>\n",
       "    </tr>\n",
       "    <tr>\n",
       "      <th>4115</th>\n",
       "      <td>39</td>\n",
       "      <td>admin.</td>\n",
       "      <td>married</td>\n",
       "      <td>high.school</td>\n",
       "      <td>no</td>\n",
       "      <td>yes</td>\n",
       "      <td>no</td>\n",
       "      <td>telephone</td>\n",
       "      <td>jul</td>\n",
       "      <td>fri</td>\n",
       "      <td>219</td>\n",
       "      <td>1</td>\n",
       "      <td>999</td>\n",
       "      <td>0</td>\n",
       "      <td>nonexistent</td>\n",
       "      <td>1.4</td>\n",
       "      <td>93.918</td>\n",
       "      <td>-42.7</td>\n",
       "      <td>4.959</td>\n",
       "      <td>5228.1</td>\n",
       "      <td>no</td>\n",
       "    </tr>\n",
       "    <tr>\n",
       "      <th>4116</th>\n",
       "      <td>27</td>\n",
       "      <td>student</td>\n",
       "      <td>single</td>\n",
       "      <td>high.school</td>\n",
       "      <td>no</td>\n",
       "      <td>no</td>\n",
       "      <td>no</td>\n",
       "      <td>cellular</td>\n",
       "      <td>may</td>\n",
       "      <td>mon</td>\n",
       "      <td>64</td>\n",
       "      <td>2</td>\n",
       "      <td>999</td>\n",
       "      <td>1</td>\n",
       "      <td>failure</td>\n",
       "      <td>-1.8</td>\n",
       "      <td>92.893</td>\n",
       "      <td>-46.2</td>\n",
       "      <td>1.354</td>\n",
       "      <td>5099.1</td>\n",
       "      <td>no</td>\n",
       "    </tr>\n",
       "    <tr>\n",
       "      <th>4117</th>\n",
       "      <td>58</td>\n",
       "      <td>admin.</td>\n",
       "      <td>married</td>\n",
       "      <td>high.school</td>\n",
       "      <td>no</td>\n",
       "      <td>no</td>\n",
       "      <td>no</td>\n",
       "      <td>cellular</td>\n",
       "      <td>aug</td>\n",
       "      <td>fri</td>\n",
       "      <td>528</td>\n",
       "      <td>1</td>\n",
       "      <td>999</td>\n",
       "      <td>0</td>\n",
       "      <td>nonexistent</td>\n",
       "      <td>1.4</td>\n",
       "      <td>93.444</td>\n",
       "      <td>-36.1</td>\n",
       "      <td>4.966</td>\n",
       "      <td>5228.1</td>\n",
       "      <td>no</td>\n",
       "    </tr>\n",
       "    <tr>\n",
       "      <th>4118</th>\n",
       "      <td>34</td>\n",
       "      <td>management</td>\n",
       "      <td>single</td>\n",
       "      <td>high.school</td>\n",
       "      <td>no</td>\n",
       "      <td>yes</td>\n",
       "      <td>no</td>\n",
       "      <td>cellular</td>\n",
       "      <td>nov</td>\n",
       "      <td>wed</td>\n",
       "      <td>175</td>\n",
       "      <td>1</td>\n",
       "      <td>999</td>\n",
       "      <td>0</td>\n",
       "      <td>nonexistent</td>\n",
       "      <td>-0.1</td>\n",
       "      <td>93.200</td>\n",
       "      <td>-42.0</td>\n",
       "      <td>4.120</td>\n",
       "      <td>5195.8</td>\n",
       "      <td>no</td>\n",
       "    </tr>\n",
       "  </tbody>\n",
       "</table>\n",
       "</div>"
      ],
      "text/plain": [
       "      age         job  marital    education default housing loan    contact  \\\n",
       "4114   30      admin.  married     basic.6y      no     yes  yes   cellular   \n",
       "4115   39      admin.  married  high.school      no     yes   no  telephone   \n",
       "4116   27     student   single  high.school      no      no   no   cellular   \n",
       "4117   58      admin.  married  high.school      no      no   no   cellular   \n",
       "4118   34  management   single  high.school      no     yes   no   cellular   \n",
       "\n",
       "     month day_of_week  duration  campaign  pdays  previous     poutcome  \\\n",
       "4114   jul         thu        53         1    999         0  nonexistent   \n",
       "4115   jul         fri       219         1    999         0  nonexistent   \n",
       "4116   may         mon        64         2    999         1      failure   \n",
       "4117   aug         fri       528         1    999         0  nonexistent   \n",
       "4118   nov         wed       175         1    999         0  nonexistent   \n",
       "\n",
       "      emp.var.rate  cons.price.idx  cons.conf.idx  euribor3m  nr.employed   y  \n",
       "4114           1.4          93.918          -42.7      4.958       5228.1  no  \n",
       "4115           1.4          93.918          -42.7      4.959       5228.1  no  \n",
       "4116          -1.8          92.893          -46.2      1.354       5099.1  no  \n",
       "4117           1.4          93.444          -36.1      4.966       5228.1  no  \n",
       "4118          -0.1          93.200          -42.0      4.120       5195.8  no  "
      ]
     },
     "execution_count": 3,
     "metadata": {},
     "output_type": "execute_result"
    }
   ],
   "source": [
    "df.tail()"
   ]
  },
  {
   "cell_type": "code",
   "execution_count": 4,
   "id": "156f4ab4",
   "metadata": {},
   "outputs": [
    {
     "data": {
      "text/plain": [
       "(4119, 21)"
      ]
     },
     "execution_count": 4,
     "metadata": {},
     "output_type": "execute_result"
    }
   ],
   "source": [
    "df.shape"
   ]
  },
  {
   "cell_type": "code",
   "execution_count": 5,
   "id": "c1b84010",
   "metadata": {},
   "outputs": [
    {
     "data": {
      "text/plain": [
       "age               False\n",
       "job               False\n",
       "marital           False\n",
       "education         False\n",
       "default           False\n",
       "housing           False\n",
       "loan              False\n",
       "contact           False\n",
       "month             False\n",
       "day_of_week       False\n",
       "duration          False\n",
       "campaign          False\n",
       "pdays             False\n",
       "previous          False\n",
       "poutcome          False\n",
       "emp.var.rate      False\n",
       "cons.price.idx    False\n",
       "cons.conf.idx     False\n",
       "euribor3m         False\n",
       "nr.employed       False\n",
       "y                 False\n",
       "dtype: bool"
      ]
     },
     "execution_count": 5,
     "metadata": {},
     "output_type": "execute_result"
    }
   ],
   "source": [
    "#memeriksa apakah terdapat missing value\n",
    "df.isnull().any()"
   ]
  },
  {
   "cell_type": "code",
   "execution_count": 6,
   "id": "2b5f5e55",
   "metadata": {},
   "outputs": [
    {
     "data": {
      "text/html": [
       "<div>\n",
       "<style scoped>\n",
       "    .dataframe tbody tr th:only-of-type {\n",
       "        vertical-align: middle;\n",
       "    }\n",
       "\n",
       "    .dataframe tbody tr th {\n",
       "        vertical-align: top;\n",
       "    }\n",
       "\n",
       "    .dataframe thead th {\n",
       "        text-align: right;\n",
       "    }\n",
       "</style>\n",
       "<table border=\"1\" class=\"dataframe\">\n",
       "  <thead>\n",
       "    <tr style=\"text-align: right;\">\n",
       "      <th></th>\n",
       "      <th>age</th>\n",
       "      <th>job</th>\n",
       "      <th>marital</th>\n",
       "      <th>education</th>\n",
       "      <th>default</th>\n",
       "      <th>housing</th>\n",
       "      <th>loan</th>\n",
       "      <th>contact</th>\n",
       "      <th>month</th>\n",
       "      <th>day_of_week</th>\n",
       "      <th>duration</th>\n",
       "      <th>campaign</th>\n",
       "      <th>pdays</th>\n",
       "      <th>previous</th>\n",
       "      <th>poutcome</th>\n",
       "      <th>emp.var.rate</th>\n",
       "      <th>cons.price.idx</th>\n",
       "      <th>cons.conf.idx</th>\n",
       "      <th>euribor3m</th>\n",
       "      <th>nr.employed</th>\n",
       "      <th>y</th>\n",
       "    </tr>\n",
       "  </thead>\n",
       "  <tbody>\n",
       "    <tr>\n",
       "      <th>0</th>\n",
       "      <td>30</td>\n",
       "      <td>blue-collar</td>\n",
       "      <td>married</td>\n",
       "      <td>basic.9y</td>\n",
       "      <td>no</td>\n",
       "      <td>yes</td>\n",
       "      <td>no</td>\n",
       "      <td>cellular</td>\n",
       "      <td>may</td>\n",
       "      <td>fri</td>\n",
       "      <td>487</td>\n",
       "      <td>2</td>\n",
       "      <td>999</td>\n",
       "      <td>0</td>\n",
       "      <td>nonexistent</td>\n",
       "      <td>-1.8</td>\n",
       "      <td>92.893</td>\n",
       "      <td>-46.2</td>\n",
       "      <td>1.313</td>\n",
       "      <td>5099.1</td>\n",
       "      <td>no</td>\n",
       "    </tr>\n",
       "    <tr>\n",
       "      <th>1</th>\n",
       "      <td>39</td>\n",
       "      <td>services</td>\n",
       "      <td>single</td>\n",
       "      <td>high.school</td>\n",
       "      <td>no</td>\n",
       "      <td>no</td>\n",
       "      <td>no</td>\n",
       "      <td>telephone</td>\n",
       "      <td>may</td>\n",
       "      <td>fri</td>\n",
       "      <td>346</td>\n",
       "      <td>4</td>\n",
       "      <td>999</td>\n",
       "      <td>0</td>\n",
       "      <td>nonexistent</td>\n",
       "      <td>1.1</td>\n",
       "      <td>93.994</td>\n",
       "      <td>-36.4</td>\n",
       "      <td>4.855</td>\n",
       "      <td>5191.0</td>\n",
       "      <td>no</td>\n",
       "    </tr>\n",
       "    <tr>\n",
       "      <th>2</th>\n",
       "      <td>25</td>\n",
       "      <td>services</td>\n",
       "      <td>married</td>\n",
       "      <td>high.school</td>\n",
       "      <td>no</td>\n",
       "      <td>yes</td>\n",
       "      <td>no</td>\n",
       "      <td>telephone</td>\n",
       "      <td>jun</td>\n",
       "      <td>wed</td>\n",
       "      <td>227</td>\n",
       "      <td>1</td>\n",
       "      <td>999</td>\n",
       "      <td>0</td>\n",
       "      <td>nonexistent</td>\n",
       "      <td>1.4</td>\n",
       "      <td>94.465</td>\n",
       "      <td>-41.8</td>\n",
       "      <td>4.962</td>\n",
       "      <td>5228.1</td>\n",
       "      <td>no</td>\n",
       "    </tr>\n",
       "    <tr>\n",
       "      <th>3</th>\n",
       "      <td>38</td>\n",
       "      <td>services</td>\n",
       "      <td>married</td>\n",
       "      <td>basic.9y</td>\n",
       "      <td>no</td>\n",
       "      <td>unknown</td>\n",
       "      <td>unknown</td>\n",
       "      <td>telephone</td>\n",
       "      <td>jun</td>\n",
       "      <td>fri</td>\n",
       "      <td>17</td>\n",
       "      <td>3</td>\n",
       "      <td>999</td>\n",
       "      <td>0</td>\n",
       "      <td>nonexistent</td>\n",
       "      <td>1.4</td>\n",
       "      <td>94.465</td>\n",
       "      <td>-41.8</td>\n",
       "      <td>4.959</td>\n",
       "      <td>5228.1</td>\n",
       "      <td>no</td>\n",
       "    </tr>\n",
       "    <tr>\n",
       "      <th>4</th>\n",
       "      <td>47</td>\n",
       "      <td>admin.</td>\n",
       "      <td>married</td>\n",
       "      <td>university.degree</td>\n",
       "      <td>no</td>\n",
       "      <td>yes</td>\n",
       "      <td>no</td>\n",
       "      <td>cellular</td>\n",
       "      <td>nov</td>\n",
       "      <td>mon</td>\n",
       "      <td>58</td>\n",
       "      <td>1</td>\n",
       "      <td>999</td>\n",
       "      <td>0</td>\n",
       "      <td>nonexistent</td>\n",
       "      <td>-0.1</td>\n",
       "      <td>93.200</td>\n",
       "      <td>-42.0</td>\n",
       "      <td>4.191</td>\n",
       "      <td>5195.8</td>\n",
       "      <td>no</td>\n",
       "    </tr>\n",
       "  </tbody>\n",
       "</table>\n",
       "</div>"
      ],
      "text/plain": [
       "   age          job  marital          education default  housing     loan  \\\n",
       "0   30  blue-collar  married           basic.9y      no      yes       no   \n",
       "1   39     services   single        high.school      no       no       no   \n",
       "2   25     services  married        high.school      no      yes       no   \n",
       "3   38     services  married           basic.9y      no  unknown  unknown   \n",
       "4   47       admin.  married  university.degree      no      yes       no   \n",
       "\n",
       "     contact month day_of_week  duration  campaign  pdays  previous  \\\n",
       "0   cellular   may         fri       487         2    999         0   \n",
       "1  telephone   may         fri       346         4    999         0   \n",
       "2  telephone   jun         wed       227         1    999         0   \n",
       "3  telephone   jun         fri        17         3    999         0   \n",
       "4   cellular   nov         mon        58         1    999         0   \n",
       "\n",
       "      poutcome  emp.var.rate  cons.price.idx  cons.conf.idx  euribor3m  \\\n",
       "0  nonexistent          -1.8          92.893          -46.2      1.313   \n",
       "1  nonexistent           1.1          93.994          -36.4      4.855   \n",
       "2  nonexistent           1.4          94.465          -41.8      4.962   \n",
       "3  nonexistent           1.4          94.465          -41.8      4.959   \n",
       "4  nonexistent          -0.1          93.200          -42.0      4.191   \n",
       "\n",
       "   nr.employed   y  \n",
       "0       5099.1  no  \n",
       "1       5191.0  no  \n",
       "2       5228.1  no  \n",
       "3       5228.1  no  \n",
       "4       5195.8  no  "
      ]
     },
     "execution_count": 6,
     "metadata": {},
     "output_type": "execute_result"
    }
   ],
   "source": [
    "#mengcopy df untuk nantinya digunakan untuk diubah menjadi label numerik\n",
    "df_bank=df.copy()\n",
    "df_bank.head()"
   ]
  },
  {
   "cell_type": "markdown",
   "id": "7f8960b7",
   "metadata": {},
   "source": [
    "## membuat label numerik pada variabel yang bertipe data categorical"
   ]
  },
  {
   "cell_type": "code",
   "execution_count": 7,
   "id": "2c882d93",
   "metadata": {},
   "outputs": [],
   "source": [
    "from sklearn import preprocessing\n",
    "le=preprocessing.LabelEncoder()\n",
    "job=le.fit_transform(df_bank['job'])\n",
    "marital=le.fit_transform(df_bank['marital'])\n",
    "education=le.fit_transform(df_bank['education'])\n",
    "default=le.fit_transform(df_bank['default'])\n",
    "housing=le.fit_transform(df_bank['housing'])\n",
    "loan=le.fit_transform(df_bank['loan'])\n",
    "contact=le.fit_transform(df_bank['contact'])\n",
    "month=le.fit_transform(df_bank['month'])\n",
    "day_of_week=le.fit_transform(df_bank['day_of_week'])\n",
    "poutcome=le.fit_transform(df_bank['poutcome'])\n",
    "y=le.fit_transform(df_bank['y'])"
   ]
  },
  {
   "cell_type": "markdown",
   "id": "838808d2",
   "metadata": {},
   "source": [
    "## mengubah dataframe yang bertipe categorical menjadi label numerik"
   ]
  },
  {
   "cell_type": "code",
   "execution_count": 8,
   "id": "111742b1",
   "metadata": {},
   "outputs": [],
   "source": [
    "df_bank['job']=job\n",
    "df_bank['marital']=marital\n",
    "df_bank['education']=education\n",
    "df_bank['default']=default\n",
    "df_bank['housing']=housing\n",
    "df_bank['loan']=loan\n",
    "df_bank['contact']=contact\n",
    "df_bank['month']=month\n",
    "df_bank['day_of_week']=day_of_week\n",
    "df_bank['poutcome']=poutcome\n",
    "df_bank['y']=y"
   ]
  },
  {
   "cell_type": "code",
   "execution_count": 9,
   "id": "a1586a10",
   "metadata": {
    "scrolled": true
   },
   "outputs": [
    {
     "data": {
      "text/html": [
       "<div>\n",
       "<style scoped>\n",
       "    .dataframe tbody tr th:only-of-type {\n",
       "        vertical-align: middle;\n",
       "    }\n",
       "\n",
       "    .dataframe tbody tr th {\n",
       "        vertical-align: top;\n",
       "    }\n",
       "\n",
       "    .dataframe thead th {\n",
       "        text-align: right;\n",
       "    }\n",
       "</style>\n",
       "<table border=\"1\" class=\"dataframe\">\n",
       "  <thead>\n",
       "    <tr style=\"text-align: right;\">\n",
       "      <th></th>\n",
       "      <th>age</th>\n",
       "      <th>job</th>\n",
       "      <th>marital</th>\n",
       "      <th>education</th>\n",
       "      <th>default</th>\n",
       "      <th>housing</th>\n",
       "      <th>loan</th>\n",
       "      <th>contact</th>\n",
       "      <th>month</th>\n",
       "      <th>day_of_week</th>\n",
       "      <th>duration</th>\n",
       "      <th>campaign</th>\n",
       "      <th>pdays</th>\n",
       "      <th>previous</th>\n",
       "      <th>poutcome</th>\n",
       "      <th>emp.var.rate</th>\n",
       "      <th>cons.price.idx</th>\n",
       "      <th>cons.conf.idx</th>\n",
       "      <th>euribor3m</th>\n",
       "      <th>nr.employed</th>\n",
       "      <th>y</th>\n",
       "    </tr>\n",
       "  </thead>\n",
       "  <tbody>\n",
       "    <tr>\n",
       "      <th>0</th>\n",
       "      <td>30</td>\n",
       "      <td>1</td>\n",
       "      <td>1</td>\n",
       "      <td>2</td>\n",
       "      <td>0</td>\n",
       "      <td>2</td>\n",
       "      <td>0</td>\n",
       "      <td>0</td>\n",
       "      <td>6</td>\n",
       "      <td>0</td>\n",
       "      <td>487</td>\n",
       "      <td>2</td>\n",
       "      <td>999</td>\n",
       "      <td>0</td>\n",
       "      <td>1</td>\n",
       "      <td>-1.8</td>\n",
       "      <td>92.893</td>\n",
       "      <td>-46.2</td>\n",
       "      <td>1.313</td>\n",
       "      <td>5099.1</td>\n",
       "      <td>0</td>\n",
       "    </tr>\n",
       "    <tr>\n",
       "      <th>1</th>\n",
       "      <td>39</td>\n",
       "      <td>7</td>\n",
       "      <td>2</td>\n",
       "      <td>3</td>\n",
       "      <td>0</td>\n",
       "      <td>0</td>\n",
       "      <td>0</td>\n",
       "      <td>1</td>\n",
       "      <td>6</td>\n",
       "      <td>0</td>\n",
       "      <td>346</td>\n",
       "      <td>4</td>\n",
       "      <td>999</td>\n",
       "      <td>0</td>\n",
       "      <td>1</td>\n",
       "      <td>1.1</td>\n",
       "      <td>93.994</td>\n",
       "      <td>-36.4</td>\n",
       "      <td>4.855</td>\n",
       "      <td>5191.0</td>\n",
       "      <td>0</td>\n",
       "    </tr>\n",
       "    <tr>\n",
       "      <th>2</th>\n",
       "      <td>25</td>\n",
       "      <td>7</td>\n",
       "      <td>1</td>\n",
       "      <td>3</td>\n",
       "      <td>0</td>\n",
       "      <td>2</td>\n",
       "      <td>0</td>\n",
       "      <td>1</td>\n",
       "      <td>4</td>\n",
       "      <td>4</td>\n",
       "      <td>227</td>\n",
       "      <td>1</td>\n",
       "      <td>999</td>\n",
       "      <td>0</td>\n",
       "      <td>1</td>\n",
       "      <td>1.4</td>\n",
       "      <td>94.465</td>\n",
       "      <td>-41.8</td>\n",
       "      <td>4.962</td>\n",
       "      <td>5228.1</td>\n",
       "      <td>0</td>\n",
       "    </tr>\n",
       "    <tr>\n",
       "      <th>3</th>\n",
       "      <td>38</td>\n",
       "      <td>7</td>\n",
       "      <td>1</td>\n",
       "      <td>2</td>\n",
       "      <td>0</td>\n",
       "      <td>1</td>\n",
       "      <td>1</td>\n",
       "      <td>1</td>\n",
       "      <td>4</td>\n",
       "      <td>0</td>\n",
       "      <td>17</td>\n",
       "      <td>3</td>\n",
       "      <td>999</td>\n",
       "      <td>0</td>\n",
       "      <td>1</td>\n",
       "      <td>1.4</td>\n",
       "      <td>94.465</td>\n",
       "      <td>-41.8</td>\n",
       "      <td>4.959</td>\n",
       "      <td>5228.1</td>\n",
       "      <td>0</td>\n",
       "    </tr>\n",
       "    <tr>\n",
       "      <th>4</th>\n",
       "      <td>47</td>\n",
       "      <td>0</td>\n",
       "      <td>1</td>\n",
       "      <td>6</td>\n",
       "      <td>0</td>\n",
       "      <td>2</td>\n",
       "      <td>0</td>\n",
       "      <td>0</td>\n",
       "      <td>7</td>\n",
       "      <td>1</td>\n",
       "      <td>58</td>\n",
       "      <td>1</td>\n",
       "      <td>999</td>\n",
       "      <td>0</td>\n",
       "      <td>1</td>\n",
       "      <td>-0.1</td>\n",
       "      <td>93.200</td>\n",
       "      <td>-42.0</td>\n",
       "      <td>4.191</td>\n",
       "      <td>5195.8</td>\n",
       "      <td>0</td>\n",
       "    </tr>\n",
       "  </tbody>\n",
       "</table>\n",
       "</div>"
      ],
      "text/plain": [
       "   age  job  marital  education  default  housing  loan  contact  month  \\\n",
       "0   30    1        1          2        0        2     0        0      6   \n",
       "1   39    7        2          3        0        0     0        1      6   \n",
       "2   25    7        1          3        0        2     0        1      4   \n",
       "3   38    7        1          2        0        1     1        1      4   \n",
       "4   47    0        1          6        0        2     0        0      7   \n",
       "\n",
       "   day_of_week  duration  campaign  pdays  previous  poutcome  emp.var.rate  \\\n",
       "0            0       487         2    999         0         1          -1.8   \n",
       "1            0       346         4    999         0         1           1.1   \n",
       "2            4       227         1    999         0         1           1.4   \n",
       "3            0        17         3    999         0         1           1.4   \n",
       "4            1        58         1    999         0         1          -0.1   \n",
       "\n",
       "   cons.price.idx  cons.conf.idx  euribor3m  nr.employed  y  \n",
       "0          92.893          -46.2      1.313       5099.1  0  \n",
       "1          93.994          -36.4      4.855       5191.0  0  \n",
       "2          94.465          -41.8      4.962       5228.1  0  \n",
       "3          94.465          -41.8      4.959       5228.1  0  \n",
       "4          93.200          -42.0      4.191       5195.8  0  "
      ]
     },
     "execution_count": 9,
     "metadata": {},
     "output_type": "execute_result"
    }
   ],
   "source": [
    "df_bank.head()"
   ]
  },
  {
   "cell_type": "markdown",
   "id": "e594345c",
   "metadata": {},
   "source": [
    "## membagi data menjadi train set san test set dengan train_test_split"
   ]
  },
  {
   "cell_type": "code",
   "execution_count": 10,
   "id": "40e6565b",
   "metadata": {},
   "outputs": [],
   "source": [
    "#mengimport train test split\n",
    "from sklearn.model_selection import train_test_split\n",
    "#memasukan nama kolom independen variabel kedalam variabel\n",
    "independen=['age','job','marital','education','default','housing',\n",
    "           'loan','contact','month','day_of_week','duration','campaign',\n",
    "           'pdays','previous','poutcome','emp.var.rate','cons.price.idx',\n",
    "           'cons.conf.idx','euribor3m','nr.employed']\n",
    "#memasukan variabel independen dan dependen ke masing-masing valiabel x,y\n",
    "x=df_bank[independen]\n",
    "y=df_bank['y']\n",
    "#membagi data menjadi train set dan test set\n",
    "x_train,x_test,y_train,y_test=train_test_split(x,y,test_size=0.3)"
   ]
  },
  {
   "cell_type": "markdown",
   "id": "039bcb2c",
   "metadata": {},
   "source": [
    "## menormalkan data"
   ]
  },
  {
   "cell_type": "code",
   "execution_count": 11,
   "id": "cf380503",
   "metadata": {},
   "outputs": [],
   "source": [
    "#mebgimpor StandarScaler\n",
    "from sklearn.preprocessing import StandardScaler\n",
    "#membuat model scaler\n",
    "scaler=StandardScaler()\n",
    "#menyesuaikan model StandarScaler ke array, mengubahnya, dan mengembalikan array standar yang baru\n",
    "x_train=scaler.fit_transform(x_train)\n",
    "x_test=scaler.fit_transform(x_test)"
   ]
  },
  {
   "cell_type": "markdown",
   "id": "01a47089",
   "metadata": {},
   "source": [
    "# Logistic Regression"
   ]
  },
  {
   "cell_type": "code",
   "execution_count": 12,
   "id": "4ca81209",
   "metadata": {},
   "outputs": [],
   "source": [
    "#mengimpor library yang diperlukan \n",
    "import matplotlib.pyplot as plt\n",
    "import numpy as np\n",
    "from sklearn.linear_model import LogisticRegression\n",
    "from sklearn.metrics import confusion_matrix, ConfusionMatrixDisplay, accuracy_score"
   ]
  },
  {
   "cell_type": "code",
   "execution_count": 13,
   "id": "cb3be224",
   "metadata": {},
   "outputs": [
    {
     "data": {
      "text/plain": [
       "LogisticRegression(C=0.05, random_state=100, solver='liblinear')"
      ]
     },
     "execution_count": 13,
     "metadata": {},
     "output_type": "execute_result"
    }
   ],
   "source": [
    "#membuat model Logistic Regression\n",
    "model=LogisticRegression(solver='liblinear',C=0.05,random_state=100)\n",
    "model.fit(x_train,y_train)"
   ]
  },
  {
   "cell_type": "code",
   "execution_count": 14,
   "id": "36d13a06",
   "metadata": {},
   "outputs": [
    {
     "name": "stdout",
     "output_type": "stream",
     "text": [
      "accuracy : 0.9247572815533981\n"
     ]
    }
   ],
   "source": [
    "#mengevaluasi model\n",
    "y_pred=model.predict(x_test)\n",
    "accuracy_LR=accuracy_score(y_test,y_pred)\n",
    "print('accuracy :',accuracy_LR)"
   ]
  },
  {
   "cell_type": "code",
   "execution_count": 15,
   "id": "c07ab238",
   "metadata": {},
   "outputs": [
    {
     "data": {
      "text/plain": [
       "array([[1086,   29],\n",
       "       [  64,   57]], dtype=int64)"
      ]
     },
     "execution_count": 15,
     "metadata": {},
     "output_type": "execute_result"
    }
   ],
   "source": [
    "#melihat confusion matrix\n",
    "cm=confusion_matrix(y_test,y_pred)\n",
    "cm"
   ]
  },
  {
   "cell_type": "markdown",
   "id": "5c817d60",
   "metadata": {},
   "source": [
    "- True Negative:1079\n",
    "- False Positive: 23\n",
    "- False Negative:75\n",
    "- True Positive :59"
   ]
  },
  {
   "cell_type": "code",
   "execution_count": 16,
   "id": "1a0a9c6c",
   "metadata": {},
   "outputs": [
    {
     "data": {
      "image/png": "[encoded data removed]",
      "text/plain": [
       "<Figure size 504x504 with 1 Axes>"
      ]
     },
     "metadata": {
      "needs_background": "light"
     },
     "output_type": "display_data"
    }
   ],
   "source": [
    "#memvisualisasikan confussion matrix\n",
    "fig,ax=plt.subplots(figsize=(7,7))\n",
    "ax.imshow(cm, cmap='OrRd', alpha=0.3)\n",
    "ax.xaxis.set(ticks=(0,1), ticklabels=('predict 0', 'predict 1'))\n",
    "ax.yaxis.set(ticks=(0, 1), ticklabels=('Actual 0','Actual 1'))\n",
    "for i in range(2):\n",
    "    for j in range(2):\n",
    "        ax.text(j,i,cm[i,j], ha='center', va='center', color='red',size='xx-large')\n",
    "plt.show()"
   ]
  },
  {
   "cell_type": "markdown",
   "id": "4fca294b",
   "metadata": {},
   "source": [
    "## menyeleksi fitur-fitur yang penting"
   ]
  },
  {
   "cell_type": "code",
   "execution_count": 17,
   "id": "3968b306",
   "metadata": {},
   "outputs": [],
   "source": [
    "feature_imp=model.coef_[0]\n"
   ]
  },
  {
   "cell_type": "code",
   "execution_count": 18,
   "id": "0fa0bd7c",
   "metadata": {},
   "outputs": [
    {
     "data": {
      "image/png": "[encoded data removed]",
      "text/plain": [
       "<Figure size 720x576 with 1 Axes>"
      ]
     },
     "metadata": {
      "needs_background": "light"
     },
     "output_type": "display_data"
    }
   ],
   "source": [
    "#membuat plot feature importance\n",
    "plt.figure(figsize=(10,8))\n",
    "plt.barh([x for x in (df_bank.columns[0:20])], feature_imp)\n",
    "plt.show()"
   ]
  },
  {
   "cell_type": "markdown",
   "id": "4307b923",
   "metadata": {},
   "source": [
    "Dari grafik tersebut terdapat beberapa feature yang pengaruhnya sangat kecil terhadap hasil prediksi. Untuk itu beberapa feature tidak akan digunakan. Fitur yang tidak akan digunakan adalah :\n",
    "\n",
    "- job\n",
    "- default\n",
    "- day_of_week\n",
    "- loan"
   ]
  },
  {
   "cell_type": "markdown",
   "id": "d1cdbe38",
   "metadata": {},
   "source": [
    "## membuat model baru dengan fitur yang dipilih"
   ]
  },
  {
   "cell_type": "code",
   "execution_count": 19,
   "id": "cd14aaaf",
   "metadata": {},
   "outputs": [
    {
     "data": {
      "text/html": [
       "<div>\n",
       "<style scoped>\n",
       "    .dataframe tbody tr th:only-of-type {\n",
       "        vertical-align: middle;\n",
       "    }\n",
       "\n",
       "    .dataframe tbody tr th {\n",
       "        vertical-align: top;\n",
       "    }\n",
       "\n",
       "    .dataframe thead th {\n",
       "        text-align: right;\n",
       "    }\n",
       "</style>\n",
       "<table border=\"1\" class=\"dataframe\">\n",
       "  <thead>\n",
       "    <tr style=\"text-align: right;\">\n",
       "      <th></th>\n",
       "      <th>age</th>\n",
       "      <th>marital</th>\n",
       "      <th>education</th>\n",
       "      <th>housing</th>\n",
       "      <th>contact</th>\n",
       "      <th>month</th>\n",
       "      <th>duration</th>\n",
       "      <th>campaign</th>\n",
       "      <th>pdays</th>\n",
       "      <th>previous</th>\n",
       "      <th>poutcome</th>\n",
       "      <th>emp.var.rate</th>\n",
       "      <th>cons.price.idx</th>\n",
       "      <th>cons.conf.idx</th>\n",
       "      <th>euribor3m</th>\n",
       "      <th>nr.employed</th>\n",
       "      <th>y</th>\n",
       "    </tr>\n",
       "  </thead>\n",
       "  <tbody>\n",
       "    <tr>\n",
       "      <th>0</th>\n",
       "      <td>30</td>\n",
       "      <td>1</td>\n",
       "      <td>2</td>\n",
       "      <td>2</td>\n",
       "      <td>0</td>\n",
       "      <td>6</td>\n",
       "      <td>487</td>\n",
       "      <td>2</td>\n",
       "      <td>999</td>\n",
       "      <td>0</td>\n",
       "      <td>1</td>\n",
       "      <td>-1.8</td>\n",
       "      <td>92.893</td>\n",
       "      <td>-46.2</td>\n",
       "      <td>1.313</td>\n",
       "      <td>5099.1</td>\n",
       "      <td>0</td>\n",
       "    </tr>\n",
       "    <tr>\n",
       "      <th>1</th>\n",
       "      <td>39</td>\n",
       "      <td>2</td>\n",
       "      <td>3</td>\n",
       "      <td>0</td>\n",
       "      <td>1</td>\n",
       "      <td>6</td>\n",
       "      <td>346</td>\n",
       "      <td>4</td>\n",
       "      <td>999</td>\n",
       "      <td>0</td>\n",
       "      <td>1</td>\n",
       "      <td>1.1</td>\n",
       "      <td>93.994</td>\n",
       "      <td>-36.4</td>\n",
       "      <td>4.855</td>\n",
       "      <td>5191.0</td>\n",
       "      <td>0</td>\n",
       "    </tr>\n",
       "    <tr>\n",
       "      <th>2</th>\n",
       "      <td>25</td>\n",
       "      <td>1</td>\n",
       "      <td>3</td>\n",
       "      <td>2</td>\n",
       "      <td>1</td>\n",
       "      <td>4</td>\n",
       "      <td>227</td>\n",
       "      <td>1</td>\n",
       "      <td>999</td>\n",
       "      <td>0</td>\n",
       "      <td>1</td>\n",
       "      <td>1.4</td>\n",
       "      <td>94.465</td>\n",
       "      <td>-41.8</td>\n",
       "      <td>4.962</td>\n",
       "      <td>5228.1</td>\n",
       "      <td>0</td>\n",
       "    </tr>\n",
       "    <tr>\n",
       "      <th>3</th>\n",
       "      <td>38</td>\n",
       "      <td>1</td>\n",
       "      <td>2</td>\n",
       "      <td>1</td>\n",
       "      <td>1</td>\n",
       "      <td>4</td>\n",
       "      <td>17</td>\n",
       "      <td>3</td>\n",
       "      <td>999</td>\n",
       "      <td>0</td>\n",
       "      <td>1</td>\n",
       "      <td>1.4</td>\n",
       "      <td>94.465</td>\n",
       "      <td>-41.8</td>\n",
       "      <td>4.959</td>\n",
       "      <td>5228.1</td>\n",
       "      <td>0</td>\n",
       "    </tr>\n",
       "    <tr>\n",
       "      <th>4</th>\n",
       "      <td>47</td>\n",
       "      <td>1</td>\n",
       "      <td>6</td>\n",
       "      <td>2</td>\n",
       "      <td>0</td>\n",
       "      <td>7</td>\n",
       "      <td>58</td>\n",
       "      <td>1</td>\n",
       "      <td>999</td>\n",
       "      <td>0</td>\n",
       "      <td>1</td>\n",
       "      <td>-0.1</td>\n",
       "      <td>93.200</td>\n",
       "      <td>-42.0</td>\n",
       "      <td>4.191</td>\n",
       "      <td>5195.8</td>\n",
       "      <td>0</td>\n",
       "    </tr>\n",
       "  </tbody>\n",
       "</table>\n",
       "</div>"
      ],
      "text/plain": [
       "   age  marital  education  housing  contact  month  duration  campaign  \\\n",
       "0   30        1          2        2        0      6       487         2   \n",
       "1   39        2          3        0        1      6       346         4   \n",
       "2   25        1          3        2        1      4       227         1   \n",
       "3   38        1          2        1        1      4        17         3   \n",
       "4   47        1          6        2        0      7        58         1   \n",
       "\n",
       "   pdays  previous  poutcome  emp.var.rate  cons.price.idx  cons.conf.idx  \\\n",
       "0    999         0         1          -1.8          92.893          -46.2   \n",
       "1    999         0         1           1.1          93.994          -36.4   \n",
       "2    999         0         1           1.4          94.465          -41.8   \n",
       "3    999         0         1           1.4          94.465          -41.8   \n",
       "4    999         0         1          -0.1          93.200          -42.0   \n",
       "\n",
       "   euribor3m  nr.employed  y  \n",
       "0      1.313       5099.1  0  \n",
       "1      4.855       5191.0  0  \n",
       "2      4.962       5228.1  0  \n",
       "3      4.959       5228.1  0  \n",
       "4      4.191       5195.8  0  "
      ]
     },
     "execution_count": 19,
     "metadata": {},
     "output_type": "execute_result"
    }
   ],
   "source": [
    "#menyimpan fitur-fitur penting \n",
    "df_bank_imp=df_bank.drop(columns=['default','job', 'day_of_week','loan'])\n",
    "df_bank_imp.head()"
   ]
  },
  {
   "cell_type": "code",
   "execution_count": 20,
   "id": "0f44d5f8",
   "metadata": {},
   "outputs": [],
   "source": [
    "#mengimport train test split\n",
    "from sklearn.model_selection import train_test_split\n",
    "#memasukan nama kolom independen variabel kedalam variabel\n",
    "independen_imp=['education','contact','month','duration','campaign',\n",
    "           'pdays','previous','poutcome','emp.var.rate',\n",
    "            'cons.price.idx','cons.conf.idx','euribor3m','nr.employed']\n",
    "#memasukan variabel independen dan dependen ke masing-masing valiabel x,y\n",
    "x_imp=df_bank_imp[independen_imp]\n",
    "y_imp=df_bank_imp['y']\n",
    "#membagi data menjadi train set dan test set\n",
    "x_train_imp,x_test_imp,y_train_imp,y_test_imp=train_test_split(x_imp,y_imp,test_size=0.3)"
   ]
  },
  {
   "cell_type": "code",
   "execution_count": 21,
   "id": "9d25a014",
   "metadata": {},
   "outputs": [],
   "source": [
    "#mebgimpor StandarScaler\n",
    "from sklearn.preprocessing import StandardScaler\n",
    "#membuat model scaler\n",
    "scaler=StandardScaler()\n",
    "#menyesuaikan model StandarScaler ke array, mengubahnya, dan mengembalikan array standar yang baru\n",
    "x_train_imp=scaler.fit_transform(x_train_imp)\n",
    "x_test_imp=scaler.fit_transform(x_test_imp)"
   ]
  },
  {
   "cell_type": "code",
   "execution_count": 22,
   "id": "5a9bcb89",
   "metadata": {},
   "outputs": [
    {
     "name": "stdout",
     "output_type": "stream",
     "text": [
      "accuracy : 0.9077669902912622\n"
     ]
    }
   ],
   "source": [
    "#membuat model Logistic Regression\n",
    "model=LogisticRegression(solver='liblinear',C=0.05,random_state=100)\n",
    "model.fit(x_train_imp,y_train_imp)\n",
    "#mengevaluasi model\n",
    "y_pred_imp=model.predict(x_test_imp)\n",
    "accuracy_LR_imp=accuracy_score(y_test_imp,y_pred_imp)\n",
    "print('accuracy :',accuracy_LR_imp)"
   ]
  },
  {
   "cell_type": "markdown",
   "id": "360298f1",
   "metadata": {},
   "source": [
    "Setelah dilakukan seleksi pada fitur, maka terlihat bahwa akurasinya justru menurun "
   ]
  },
  {
   "cell_type": "code",
   "execution_count": 23,
   "id": "041144b6",
   "metadata": {},
   "outputs": [
    {
     "data": {
      "text/plain": [
       "array([[1063,   33],\n",
       "       [  81,   59]], dtype=int64)"
      ]
     },
     "execution_count": 23,
     "metadata": {},
     "output_type": "execute_result"
    }
   ],
   "source": [
    "#melihat confusion matrix\n",
    "cm=confusion_matrix(y_test_imp,y_pred_imp)\n",
    "cm"
   ]
  },
  {
   "cell_type": "code",
   "execution_count": 24,
   "id": "d56e66d9",
   "metadata": {},
   "outputs": [
    {
     "data": {
      "image/png": "[encoded data removed]",
      "text/plain": [
       "<Figure size 504x504 with 1 Axes>"
      ]
     },
     "metadata": {
      "needs_background": "light"
     },
     "output_type": "display_data"
    }
   ],
   "source": [
    "#memvisualisasikan confussion matrix\n",
    "fig,ax=plt.subplots(figsize=(7,7))\n",
    "ax.imshow(cm,alpha=0.3)\n",
    "ax.xaxis.set(ticks=(0,1), ticklabels=('predict 0', 'predict 1'))\n",
    "ax.yaxis.set(ticks=(0, 1), ticklabels=('Actual 0','Actual 1'))\n",
    "for i in range(2):\n",
    "    for j in range(2):\n",
    "        ax.text(j,i,cm[i,j], ha='center', va='center', color='red',size='xx-large')\n",
    "plt.show()"
   ]
  },
  {
   "cell_type": "markdown",
   "id": "d1c0935f",
   "metadata": {},
   "source": [
    "karena setelah dilakukan seleksi fitur peningkatannya tidak terlalu besar maka diputuskan untuk tetap menggunakan semu fitur"
   ]
  },
  {
   "cell_type": "markdown",
   "id": "e912b783",
   "metadata": {},
   "source": [
    "# K-Nearest Neighbor"
   ]
  },
  {
   "cell_type": "code",
   "execution_count": 25,
   "id": "8a9cda71",
   "metadata": {},
   "outputs": [
    {
     "name": "stdout",
     "output_type": "stream",
     "text": [
      "Accuracy : 0.9077669902912622\n"
     ]
    }
   ],
   "source": [
    "#mengimpor modul yang diperlukan\n",
    "from sklearn.neighbors import KNeighborsClassifier\n",
    "#membuat model\n",
    "model= KNeighborsClassifier(n_neighbors=5)\n",
    "model.fit(x_train,y_train)\n",
    "#melakukan prediksi\n",
    "y_pred=model.predict(x_test)\n",
    "#melihat akurasi model\n",
    "accuracy_KNN=accuracy_score(y_test,y_pred)\n",
    "print('Accuracy :', accuracy_KNN)\n"
   ]
  },
  {
   "cell_type": "code",
   "execution_count": 26,
   "id": "e4923641",
   "metadata": {},
   "outputs": [
    {
     "name": "stdout",
     "output_type": "stream",
     "text": [
      "highest accuracy : 0.9142394822006472\n",
      "n_neighbors : 15\n"
     ]
    }
   ],
   "source": [
    "#meningkatkan akurasi dengan mengubah parameter n_neighbors\n",
    "maks=0\n",
    "for i in range (3,51):\n",
    "    model= KNeighborsClassifier(n_neighbors=i)\n",
    "    model.fit(x_train,y_train)\n",
    "    y_pred=model.predict(x_test)\n",
    "    accuracy_KNN=accuracy_score(y_test,y_pred)\n",
    "    if accuracy_KNN>maks:\n",
    "        maks=accuracy_KNN\n",
    "        num=i\n",
    "\n",
    "    \n",
    "print('highest accuracy :',maks)\n",
    "print('n_neighbors :', num)    \n"
   ]
  },
  {
   "cell_type": "markdown",
   "id": "127b2c64",
   "metadata": {},
   "source": [
    "Dari hasil tersebut akan dipilih k=23"
   ]
  },
  {
   "cell_type": "code",
   "execution_count": 27,
   "id": "3ffd83ec",
   "metadata": {},
   "outputs": [
    {
     "name": "stdout",
     "output_type": "stream",
     "text": [
      "Accuracy : 0.9093851132686084\n"
     ]
    }
   ],
   "source": [
    "#mengimpor modul yang diperlukan\n",
    "from sklearn.neighbors import KNeighborsClassifier\n",
    "#membuat model\n",
    "model= KNeighborsClassifier(n_neighbors=23)\n",
    "model.fit(x_train,y_train)\n",
    "#melakukan prediksi\n",
    "y_pred=model.predict(x_test)\n",
    "#melihat akurasi model\n",
    "accuracy_KNN=accuracy_score(y_test,y_pred)\n",
    "print('Accuracy :', accuracy_KNN)"
   ]
  },
  {
   "cell_type": "code",
   "execution_count": 28,
   "id": "cd68ada1",
   "metadata": {},
   "outputs": [
    {
     "data": {
      "text/plain": [
       "array([[1095,   20],\n",
       "       [  92,   29]], dtype=int64)"
      ]
     },
     "execution_count": 28,
     "metadata": {},
     "output_type": "execute_result"
    }
   ],
   "source": [
    "confusion_matrix(y_test,y_pred)"
   ]
  },
  {
   "cell_type": "markdown",
   "id": "51241c5d",
   "metadata": {},
   "source": [
    "# Naive Bayes"
   ]
  },
  {
   "cell_type": "code",
   "execution_count": 29,
   "id": "ecbf7c40",
   "metadata": {},
   "outputs": [
    {
     "name": "stdout",
     "output_type": "stream",
     "text": [
      "Accuracy : 0.8648867313915858\n"
     ]
    }
   ],
   "source": [
    "#mengimpor Gaussian NB dari modul sklearn\n",
    "from sklearn.naive_bayes import GaussianNB\n",
    "#membuat model\n",
    "model=GaussianNB()\n",
    "model.fit(x_train,y_train)\n",
    "#membuat prediksi\n",
    "y_pred=model.predict(x_test)\n",
    "#melihat akurasi model\n",
    "accuracy_GNB=accuracy_score(y_test,y_pred)\n",
    "print('Accuracy :', accuracy_GNB)"
   ]
  },
  {
   "cell_type": "code",
   "execution_count": 30,
   "id": "fc7b463c",
   "metadata": {},
   "outputs": [
    {
     "data": {
      "text/plain": [
       "array([[983, 132],\n",
       "       [ 35,  86]], dtype=int64)"
      ]
     },
     "execution_count": 30,
     "metadata": {},
     "output_type": "execute_result"
    }
   ],
   "source": [
    "confusion_matrix(y_test,y_pred)"
   ]
  },
  {
   "cell_type": "markdown",
   "id": "861f59c1",
   "metadata": {},
   "source": [
    "# Decision Tree"
   ]
  },
  {
   "cell_type": "code",
   "execution_count": 31,
   "id": "76f6666d",
   "metadata": {},
   "outputs": [
    {
     "name": "stdout",
     "output_type": "stream",
     "text": [
      "Accuracy : 0.8656957928802589\n"
     ]
    }
   ],
   "source": [
    "#mengimpor library yang dibutuhkan\n",
    "from sklearn.tree import DecisionTreeClassifier\n",
    "#membuat model\n",
    "model=DecisionTreeClassifier(criterion='entropy')\n",
    "model.fit(x_train,y_train)\n",
    "#membuat prediksi\n",
    "y_pred=model.predict(x_test)\n",
    "#melihat akurasi model\n",
    "accuracy_DT=accuracy_score(y_test,y_pred)\n",
    "print('Accuracy :', accuracy_DT)"
   ]
  },
  {
   "cell_type": "code",
   "execution_count": 32,
   "id": "e400d949",
   "metadata": {},
   "outputs": [
    {
     "name": "stdout",
     "output_type": "stream",
     "text": [
      "highest accuracy : 0.9085760517799353\n",
      "max_depth : 3\n"
     ]
    }
   ],
   "source": [
    "#meningkatkan akurasi dengan mengubah parameter max_depth\n",
    "maks=0\n",
    "for i in range (3,51):\n",
    "    model= model=DecisionTreeClassifier(criterion='entropy', max_depth=i)\n",
    "    model.fit(x_train,y_train)\n",
    "    y_pred=model.predict(x_test)\n",
    "    accuracy_DT=accuracy_score(y_test,y_pred)\n",
    "    if accuracy_DT>maks:\n",
    "        maks=accuracy_DT\n",
    "        num=i\n",
    "\n",
    "    \n",
    "print('highest accuracy :',maks)\n",
    "print('max_depth :', num) "
   ]
  },
  {
   "cell_type": "markdown",
   "id": "e00e6c12",
   "metadata": {},
   "source": [
    "Dari hasil tersebut akan digunakan parameter max_depth=4"
   ]
  },
  {
   "cell_type": "code",
   "execution_count": 33,
   "id": "a2508645",
   "metadata": {},
   "outputs": [
    {
     "name": "stdout",
     "output_type": "stream",
     "text": [
      "Accuracy : 0.9085760517799353\n"
     ]
    }
   ],
   "source": [
    "#mengimpor library yang dibutuhkan\n",
    "from sklearn.tree import DecisionTreeClassifier\n",
    "#membuat model\n",
    "model=DecisionTreeClassifier(criterion='entropy', max_depth=num)\n",
    "model.fit(x_train,y_train)\n",
    "#membuat prediksi\n",
    "y_pred=model.predict(x_test)\n",
    "#melihat akurasi model\n",
    "accuracy_DT=accuracy_score(y_test,y_pred)\n",
    "print('Accuracy :', accuracy_DT)"
   ]
  },
  {
   "cell_type": "code",
   "execution_count": 34,
   "id": "52e60bc8",
   "metadata": {},
   "outputs": [
    {
     "data": {
      "text/plain": [
       "array([[1034,   81],\n",
       "       [  32,   89]], dtype=int64)"
      ]
     },
     "execution_count": 34,
     "metadata": {},
     "output_type": "execute_result"
    }
   ],
   "source": [
    "confusion_matrix(y_test,y_pred)"
   ]
  },
  {
   "cell_type": "code",
   "execution_count": 35,
   "id": "9978c9a2",
   "metadata": {},
   "outputs": [
    {
     "data": {
      "image/png": "[encoded data removed]",
      "text/plain": [
       "<Figure size 2520x1080 with 1 Axes>"
      ]
     },
     "metadata": {
      "needs_background": "light"
     },
     "output_type": "display_data"
    }
   ],
   "source": [
    "#mengimpor modul untuk visualisasi\n",
    "from sklearn.tree import plot_tree\n",
    "#memvisualisasikan decision tree\n",
    "plt.figure(figsize=(35,15))\n",
    "ax=plot_tree(model,\n",
    "            feature_names=df_bank.columns[0:20],\n",
    "            class_names=df['y'].unique(),\n",
    "            filled=True,\n",
    "            rounded=True,\n",
    "            fontsize=14)"
   ]
  },
  {
   "cell_type": "markdown",
   "id": "19c691ed",
   "metadata": {},
   "source": [
    "# Random Forest"
   ]
  },
  {
   "cell_type": "code",
   "execution_count": 36,
   "id": "91c07c0d",
   "metadata": {},
   "outputs": [
    {
     "name": "stdout",
     "output_type": "stream",
     "text": [
      "Accuracy : 0.9142394822006472\n"
     ]
    }
   ],
   "source": [
    "#mengimpor modul random forest\n",
    "from sklearn.ensemble import RandomForestClassifier\n",
    "#membuat model\n",
    "model=RandomForestClassifier(n_estimators=50)\n",
    "model.fit(x_train,y_train)\n",
    "#membuat prediksi\n",
    "y_pred=model.predict(x_test)\n",
    "#melihat akurasi model\n",
    "accuracy_RF=accuracy_score(y_test,y_pred)\n",
    "print('Accuracy :', accuracy_RF)"
   ]
  },
  {
   "cell_type": "code",
   "execution_count": 37,
   "id": "7a84b37f",
   "metadata": {},
   "outputs": [
    {
     "name": "stdout",
     "output_type": "stream",
     "text": [
      "highest accuracy : 0.9207119741100324\n",
      "n_estimators : 33\n"
     ]
    }
   ],
   "source": [
    "#meningkatkan akurasi dengan mengubah parameter n_neighbors\n",
    "maks=0\n",
    "for i in range (30,100):\n",
    "    model=RandomForestClassifier(n_estimators=i)\n",
    "    model.fit(x_train,y_train)\n",
    "    y_pred=model.predict(x_test)\n",
    "    accuracy_RF=accuracy_score(y_test,y_pred)\n",
    "    if accuracy_RF>maks:\n",
    "        maks=accuracy_RF\n",
    "        num=i\n",
    "\n",
    "    \n",
    "print('highest accuracy :',maks)\n",
    "print('n_estimators :', num) "
   ]
  },
  {
   "cell_type": "code",
   "execution_count": 38,
   "id": "6d15de30",
   "metadata": {},
   "outputs": [
    {
     "name": "stdout",
     "output_type": "stream",
     "text": [
      "Accuracy : 0.9174757281553398\n"
     ]
    }
   ],
   "source": [
    "#mengimpor modul random forest\n",
    "from sklearn.ensemble import RandomForestClassifier\n",
    "#membuat model\n",
    "model=RandomForestClassifier(n_estimators=num)\n",
    "model.fit(x_train,y_train)\n",
    "#membuat prediksi\n",
    "y_pred=model.predict(x_test)\n",
    "#melihat akurasi model\n",
    "accuracy_RF=accuracy_score(y_test,y_pred)\n",
    "print('Accuracy :', accuracy_RF)"
   ]
  },
  {
   "cell_type": "code",
   "execution_count": 39,
   "id": "c8d55647",
   "metadata": {},
   "outputs": [
    {
     "data": {
      "text/plain": [
       "array([[1078,   37],\n",
       "       [  65,   56]], dtype=int64)"
      ]
     },
     "execution_count": 39,
     "metadata": {},
     "output_type": "execute_result"
    }
   ],
   "source": [
    "confusion_matrix(y_test,y_pred)"
   ]
  },
  {
   "cell_type": "markdown",
   "id": "3e66c149",
   "metadata": {},
   "source": [
    "# Support Vector Machines"
   ]
  },
  {
   "cell_type": "code",
   "execution_count": 40,
   "id": "d8d956be",
   "metadata": {},
   "outputs": [
    {
     "name": "stdout",
     "output_type": "stream",
     "text": [
      "Accuracy : 0.9134304207119741\n"
     ]
    }
   ],
   "source": [
    "#mengimpor modul random forest\n",
    "from sklearn import svm\n",
    "#membuat model\n",
    "model=svm.SVC(kernel='linear')\n",
    "model.fit(x_train,y_train)\n",
    "#membuat prediksi\n",
    "y_pred=model.predict(x_test)\n",
    "#melihat akurasi model\n",
    "accuracy_SVM=accuracy_score(y_test,y_pred)\n",
    "print('Accuracy :', accuracy_SVM)"
   ]
  },
  {
   "cell_type": "code",
   "execution_count": 41,
   "id": "6597f850",
   "metadata": {},
   "outputs": [
    {
     "data": {
      "text/plain": [
       "array([[1088,   27],\n",
       "       [  80,   41]], dtype=int64)"
      ]
     },
     "execution_count": 41,
     "metadata": {},
     "output_type": "execute_result"
    }
   ],
   "source": [
    "confusion_matrix(y_test,y_pred)"
   ]
  },
  {
   "cell_type": "markdown",
   "id": "979919a2",
   "metadata": {},
   "source": [
    "# Membandingkan akurasi"
   ]
  },
  {
   "cell_type": "code",
   "execution_count": 42,
   "id": "bbb89ee4",
   "metadata": {},
   "outputs": [
    {
     "data": {
      "text/html": [
       "<div>\n",
       "<style scoped>\n",
       "    .dataframe tbody tr th:only-of-type {\n",
       "        vertical-align: middle;\n",
       "    }\n",
       "\n",
       "    .dataframe tbody tr th {\n",
       "        vertical-align: top;\n",
       "    }\n",
       "\n",
       "    .dataframe thead th {\n",
       "        text-align: right;\n",
       "    }\n",
       "</style>\n",
       "<table border=\"1\" class=\"dataframe\">\n",
       "  <thead>\n",
       "    <tr style=\"text-align: right;\">\n",
       "      <th></th>\n",
       "      <th>Algoritma</th>\n",
       "      <th>Accuracy</th>\n",
       "    </tr>\n",
       "  </thead>\n",
       "  <tbody>\n",
       "    <tr>\n",
       "      <th>0</th>\n",
       "      <td>Logistic Regression</td>\n",
       "      <td>0.924757</td>\n",
       "    </tr>\n",
       "    <tr>\n",
       "      <th>1</th>\n",
       "      <td>Random Forest</td>\n",
       "      <td>0.917476</td>\n",
       "    </tr>\n",
       "    <tr>\n",
       "      <th>2</th>\n",
       "      <td>SVM</td>\n",
       "      <td>0.913430</td>\n",
       "    </tr>\n",
       "    <tr>\n",
       "      <th>3</th>\n",
       "      <td>KNN</td>\n",
       "      <td>0.909385</td>\n",
       "    </tr>\n",
       "    <tr>\n",
       "      <th>4</th>\n",
       "      <td>Decision Tree</td>\n",
       "      <td>0.908576</td>\n",
       "    </tr>\n",
       "    <tr>\n",
       "      <th>5</th>\n",
       "      <td>Naive Bayes</td>\n",
       "      <td>0.864887</td>\n",
       "    </tr>\n",
       "  </tbody>\n",
       "</table>\n",
       "</div>"
      ],
      "text/plain": [
       "             Algoritma  Accuracy\n",
       "0  Logistic Regression  0.924757\n",
       "1        Random Forest  0.917476\n",
       "2                  SVM  0.913430\n",
       "3                  KNN  0.909385\n",
       "4        Decision Tree  0.908576\n",
       "5          Naive Bayes  0.864887"
      ]
     },
     "execution_count": 42,
     "metadata": {},
     "output_type": "execute_result"
    }
   ],
   "source": [
    "metode=['Logistic Regression','KNN','Naive Bayes','Decision Tree',\n",
    "       'Random Forest','SVM']\n",
    "accuracy=[accuracy_LR,accuracy_KNN,accuracy_GNB,accuracy_DT,\n",
    "         accuracy_RF,accuracy_SVM]\n",
    "accuracy_df=pd.DataFrame({'Algoritma':metode,'Accuracy':accuracy})\n",
    "accuracy_df=accuracy_df.sort_values(by='Accuracy', ascending=False).reset_index(drop=True)\n",
    "accuracy_df"
   ]
  },
  {
   "cell_type": "markdown",
   "id": "bb38e956",
   "metadata": {},
   "source": [
    "Dari model-model yang telah dilatih menggunakan berbagai metode didapatkan akurasi tertinggi dengan menggunakan Logistic Regression.\n",
    "Sehingga diputuskan untuk menggunakan Logistic Regression untuk melakukan prediksi"
   ]
  }
 ],
 "metadata": {
  "kernelspec": {
   "display_name": "Python 3",
   "language": "python",
   "name": "python3"
  },
  "language_info": {
   "codemirror_mode": {
    "name": "ipython",
    "version": 3
   },
   "file_extension": ".py",
   "mimetype": "text/x-python",
   "name": "python",
   "nbconvert_exporter": "python",
   "pygments_lexer": "ipython3",
   "version": "3.8.8"
  },
  "toc": {
   "base_numbering": 1,
   "nav_menu": {},
   "number_sections": true,
   "sideBar": true,
   "skip_h1_title": false,
   "title_cell": "Table of Contents",
   "title_sidebar": "Contents",
   "toc_cell": false,
   "toc_position": {},
   "toc_section_display": true,
   "toc_window_display": false
  }
 },
 "nbformat": 4,
 "nbformat_minor": 5
}
