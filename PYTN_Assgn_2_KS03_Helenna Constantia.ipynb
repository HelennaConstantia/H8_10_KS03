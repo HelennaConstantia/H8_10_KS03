{
 "cells": [
  {
   "cell_type": "code",
   "execution_count": 1,
   "id": "617769d5",
   "metadata": {},
   "outputs": [
    {
     "data": {
      "text/html": [
       "<div>\n",
       "<style scoped>\n",
       "    .dataframe tbody tr th:only-of-type {\n",
       "        vertical-align: middle;\n",
       "    }\n",
       "\n",
       "    .dataframe tbody tr th {\n",
       "        vertical-align: top;\n",
       "    }\n",
       "\n",
       "    .dataframe thead th {\n",
       "        text-align: right;\n",
       "    }\n",
       "</style>\n",
       "<table border=\"1\" class=\"dataframe\">\n",
       "  <thead>\n",
       "    <tr style=\"text-align: right;\">\n",
       "      <th></th>\n",
       "      <th>Unnamed: 0</th>\n",
       "      <th>BOROUGH</th>\n",
       "      <th>NEIGHBORHOOD</th>\n",
       "      <th>BUILDING CLASS CATEGORY</th>\n",
       "      <th>TAX CLASS AT PRESENT</th>\n",
       "      <th>BLOCK</th>\n",
       "      <th>LOT</th>\n",
       "      <th>EASE-MENT</th>\n",
       "      <th>BUILDING CLASS AT PRESENT</th>\n",
       "      <th>ADDRESS</th>\n",
       "      <th>APARTMENT NUMBER</th>\n",
       "      <th>ZIP CODE</th>\n",
       "      <th>RESIDENTIAL UNITS</th>\n",
       "      <th>COMMERCIAL UNITS</th>\n",
       "      <th>TOTAL UNITS</th>\n",
       "      <th>LAND SQUARE FEET</th>\n",
       "      <th>GROSS SQUARE FEET</th>\n",
       "      <th>YEAR BUILT</th>\n",
       "      <th>TAX CLASS AT TIME OF SALE</th>\n",
       "      <th>BUILDING CLASS AT TIME OF SALE</th>\n",
       "      <th>SALE PRICE</th>\n",
       "      <th>SALE DATE</th>\n",
       "    </tr>\n",
       "  </thead>\n",
       "  <tbody>\n",
       "    <tr>\n",
       "      <th>0</th>\n",
       "      <td>4</td>\n",
       "      <td>1</td>\n",
       "      <td>ALPHABET CITY</td>\n",
       "      <td>07 RENTALS - WALKUP APARTMENTS</td>\n",
       "      <td>2A</td>\n",
       "      <td>392</td>\n",
       "      <td>6</td>\n",
       "      <td></td>\n",
       "      <td>C2</td>\n",
       "      <td>153 AVENUE B</td>\n",
       "      <td></td>\n",
       "      <td>10009</td>\n",
       "      <td>5</td>\n",
       "      <td>0</td>\n",
       "      <td>5</td>\n",
       "      <td>1633</td>\n",
       "      <td>6440</td>\n",
       "      <td>1900</td>\n",
       "      <td>2</td>\n",
       "      <td>C2</td>\n",
       "      <td>6625000</td>\n",
       "      <td>2017-07-19 00:00:00</td>\n",
       "    </tr>\n",
       "    <tr>\n",
       "      <th>1</th>\n",
       "      <td>5</td>\n",
       "      <td>1</td>\n",
       "      <td>ALPHABET CITY</td>\n",
       "      <td>07 RENTALS - WALKUP APARTMENTS</td>\n",
       "      <td>2</td>\n",
       "      <td>399</td>\n",
       "      <td>26</td>\n",
       "      <td></td>\n",
       "      <td>C7</td>\n",
       "      <td>234 EAST 4TH   STREET</td>\n",
       "      <td></td>\n",
       "      <td>10009</td>\n",
       "      <td>28</td>\n",
       "      <td>3</td>\n",
       "      <td>31</td>\n",
       "      <td>4616</td>\n",
       "      <td>18690</td>\n",
       "      <td>1900</td>\n",
       "      <td>2</td>\n",
       "      <td>C7</td>\n",
       "      <td>-</td>\n",
       "      <td>2016-12-14 00:00:00</td>\n",
       "    </tr>\n",
       "    <tr>\n",
       "      <th>2</th>\n",
       "      <td>6</td>\n",
       "      <td>1</td>\n",
       "      <td>ALPHABET CITY</td>\n",
       "      <td>07 RENTALS - WALKUP APARTMENTS</td>\n",
       "      <td>2</td>\n",
       "      <td>399</td>\n",
       "      <td>39</td>\n",
       "      <td></td>\n",
       "      <td>C7</td>\n",
       "      <td>197 EAST 3RD   STREET</td>\n",
       "      <td></td>\n",
       "      <td>10009</td>\n",
       "      <td>16</td>\n",
       "      <td>1</td>\n",
       "      <td>17</td>\n",
       "      <td>2212</td>\n",
       "      <td>7803</td>\n",
       "      <td>1900</td>\n",
       "      <td>2</td>\n",
       "      <td>C7</td>\n",
       "      <td>-</td>\n",
       "      <td>2016-12-09 00:00:00</td>\n",
       "    </tr>\n",
       "    <tr>\n",
       "      <th>3</th>\n",
       "      <td>7</td>\n",
       "      <td>1</td>\n",
       "      <td>ALPHABET CITY</td>\n",
       "      <td>07 RENTALS - WALKUP APARTMENTS</td>\n",
       "      <td>2B</td>\n",
       "      <td>402</td>\n",
       "      <td>21</td>\n",
       "      <td></td>\n",
       "      <td>C4</td>\n",
       "      <td>154 EAST 7TH STREET</td>\n",
       "      <td></td>\n",
       "      <td>10009</td>\n",
       "      <td>10</td>\n",
       "      <td>0</td>\n",
       "      <td>10</td>\n",
       "      <td>2272</td>\n",
       "      <td>6794</td>\n",
       "      <td>1913</td>\n",
       "      <td>2</td>\n",
       "      <td>C4</td>\n",
       "      <td>3936272</td>\n",
       "      <td>2016-09-23 00:00:00</td>\n",
       "    </tr>\n",
       "    <tr>\n",
       "      <th>4</th>\n",
       "      <td>8</td>\n",
       "      <td>1</td>\n",
       "      <td>ALPHABET CITY</td>\n",
       "      <td>07 RENTALS - WALKUP APARTMENTS</td>\n",
       "      <td>2A</td>\n",
       "      <td>404</td>\n",
       "      <td>55</td>\n",
       "      <td></td>\n",
       "      <td>C2</td>\n",
       "      <td>301 EAST 10TH   STREET</td>\n",
       "      <td></td>\n",
       "      <td>10009</td>\n",
       "      <td>6</td>\n",
       "      <td>0</td>\n",
       "      <td>6</td>\n",
       "      <td>2369</td>\n",
       "      <td>4615</td>\n",
       "      <td>1900</td>\n",
       "      <td>2</td>\n",
       "      <td>C2</td>\n",
       "      <td>8000000</td>\n",
       "      <td>2016-11-17 00:00:00</td>\n",
       "    </tr>\n",
       "  </tbody>\n",
       "</table>\n",
       "</div>"
      ],
      "text/plain": [
       "   Unnamed: 0  BOROUGH   NEIGHBORHOOD  \\\n",
       "0           4        1  ALPHABET CITY   \n",
       "1           5        1  ALPHABET CITY   \n",
       "2           6        1  ALPHABET CITY   \n",
       "3           7        1  ALPHABET CITY   \n",
       "4           8        1  ALPHABET CITY   \n",
       "\n",
       "                       BUILDING CLASS CATEGORY TAX CLASS AT PRESENT  BLOCK  \\\n",
       "0  07 RENTALS - WALKUP APARTMENTS                                2A    392   \n",
       "1  07 RENTALS - WALKUP APARTMENTS                                 2    399   \n",
       "2  07 RENTALS - WALKUP APARTMENTS                                 2    399   \n",
       "3  07 RENTALS - WALKUP APARTMENTS                                2B    402   \n",
       "4  07 RENTALS - WALKUP APARTMENTS                                2A    404   \n",
       "\n",
       "   LOT EASE-MENT BUILDING CLASS AT PRESENT                 ADDRESS  \\\n",
       "0    6                                  C2            153 AVENUE B   \n",
       "1   26                                  C7   234 EAST 4TH   STREET   \n",
       "2   39                                  C7   197 EAST 3RD   STREET   \n",
       "3   21                                  C4     154 EAST 7TH STREET   \n",
       "4   55                                  C2  301 EAST 10TH   STREET   \n",
       "\n",
       "  APARTMENT NUMBER  ZIP CODE  RESIDENTIAL UNITS  COMMERCIAL UNITS  \\\n",
       "0                      10009                  5                 0   \n",
       "1                      10009                 28                 3   \n",
       "2                      10009                 16                 1   \n",
       "3                      10009                 10                 0   \n",
       "4                      10009                  6                 0   \n",
       "\n",
       "   TOTAL UNITS LAND SQUARE FEET GROSS SQUARE FEET  YEAR BUILT  \\\n",
       "0            5             1633              6440        1900   \n",
       "1           31             4616             18690        1900   \n",
       "2           17             2212              7803        1900   \n",
       "3           10             2272              6794        1913   \n",
       "4            6             2369              4615        1900   \n",
       "\n",
       "   TAX CLASS AT TIME OF SALE BUILDING CLASS AT TIME OF SALE SALE PRICE  \\\n",
       "0                          2                             C2    6625000   \n",
       "1                          2                             C7        -     \n",
       "2                          2                             C7        -     \n",
       "3                          2                             C4    3936272   \n",
       "4                          2                             C2    8000000   \n",
       "\n",
       "             SALE DATE  \n",
       "0  2017-07-19 00:00:00  \n",
       "1  2016-12-14 00:00:00  \n",
       "2  2016-12-09 00:00:00  \n",
       "3  2016-09-23 00:00:00  \n",
       "4  2016-11-17 00:00:00  "
      ]
     },
     "execution_count": 1,
     "metadata": {},
     "output_type": "execute_result"
    }
   ],
   "source": [
    "#mengimpor library yang dibutuhkan\n",
    "import numpy as np\n",
    "import pandas as pd\n",
    "import scipy.stats\n",
    "\n",
    "#menyimpan data dalam variabel df\n",
    "df=pd.read_csv('dataset/nyc-rolling-sales.csv')\n",
    "#mengatur tampilan data agar seluruh kolom terlihat\n",
    "pd.set_option('display.max.columns', None)\n",
    "#melihat 5 baris pertama data\n",
    "df.head()\n"
   ]
  },
  {
   "cell_type": "code",
   "execution_count": 2,
   "id": "56dded92",
   "metadata": {},
   "outputs": [
    {
     "data": {
      "text/plain": [
       "(84548, 22)"
      ]
     },
     "execution_count": 2,
     "metadata": {},
     "output_type": "execute_result"
    }
   ],
   "source": [
    "#melihat banyaknya baris dan kolom data\n",
    "df.shape"
   ]
  },
  {
   "cell_type": "code",
   "execution_count": 3,
   "id": "fe6fa28b",
   "metadata": {},
   "outputs": [
    {
     "data": {
      "text/html": [
       "<div>\n",
       "<style scoped>\n",
       "    .dataframe tbody tr th:only-of-type {\n",
       "        vertical-align: middle;\n",
       "    }\n",
       "\n",
       "    .dataframe tbody tr th {\n",
       "        vertical-align: top;\n",
       "    }\n",
       "\n",
       "    .dataframe thead th {\n",
       "        text-align: right;\n",
       "    }\n",
       "</style>\n",
       "<table border=\"1\" class=\"dataframe\">\n",
       "  <thead>\n",
       "    <tr style=\"text-align: right;\">\n",
       "      <th></th>\n",
       "      <th>SALE DATE</th>\n",
       "      <th>TOTAL UNITS</th>\n",
       "    </tr>\n",
       "  </thead>\n",
       "  <tbody>\n",
       "    <tr>\n",
       "      <th>0</th>\n",
       "      <td>2017-07-19 00:00:00</td>\n",
       "      <td>5</td>\n",
       "    </tr>\n",
       "    <tr>\n",
       "      <th>1</th>\n",
       "      <td>2016-12-14 00:00:00</td>\n",
       "      <td>31</td>\n",
       "    </tr>\n",
       "    <tr>\n",
       "      <th>2</th>\n",
       "      <td>2016-12-09 00:00:00</td>\n",
       "      <td>17</td>\n",
       "    </tr>\n",
       "    <tr>\n",
       "      <th>3</th>\n",
       "      <td>2016-09-23 00:00:00</td>\n",
       "      <td>10</td>\n",
       "    </tr>\n",
       "    <tr>\n",
       "      <th>4</th>\n",
       "      <td>2016-11-17 00:00:00</td>\n",
       "      <td>6</td>\n",
       "    </tr>\n",
       "    <tr>\n",
       "      <th>...</th>\n",
       "      <td>...</td>\n",
       "      <td>...</td>\n",
       "    </tr>\n",
       "    <tr>\n",
       "      <th>84543</th>\n",
       "      <td>2016-11-28 00:00:00</td>\n",
       "      <td>2</td>\n",
       "    </tr>\n",
       "    <tr>\n",
       "      <th>84544</th>\n",
       "      <td>2017-04-21 00:00:00</td>\n",
       "      <td>2</td>\n",
       "    </tr>\n",
       "    <tr>\n",
       "      <th>84545</th>\n",
       "      <td>2017-07-05 00:00:00</td>\n",
       "      <td>2</td>\n",
       "    </tr>\n",
       "    <tr>\n",
       "      <th>84546</th>\n",
       "      <td>2016-12-21 00:00:00</td>\n",
       "      <td>7</td>\n",
       "    </tr>\n",
       "    <tr>\n",
       "      <th>84547</th>\n",
       "      <td>2016-10-27 00:00:00</td>\n",
       "      <td>1</td>\n",
       "    </tr>\n",
       "  </tbody>\n",
       "</table>\n",
       "<p>84548 rows × 2 columns</p>\n",
       "</div>"
      ],
      "text/plain": [
       "                 SALE DATE  TOTAL UNITS\n",
       "0      2017-07-19 00:00:00            5\n",
       "1      2016-12-14 00:00:00           31\n",
       "2      2016-12-09 00:00:00           17\n",
       "3      2016-09-23 00:00:00           10\n",
       "4      2016-11-17 00:00:00            6\n",
       "...                    ...          ...\n",
       "84543  2016-11-28 00:00:00            2\n",
       "84544  2017-04-21 00:00:00            2\n",
       "84545  2017-07-05 00:00:00            2\n",
       "84546  2016-12-21 00:00:00            7\n",
       "84547  2016-10-27 00:00:00            1\n",
       "\n",
       "[84548 rows x 2 columns]"
      ]
     },
     "execution_count": 3,
     "metadata": {},
     "output_type": "execute_result"
    }
   ],
   "source": [
    "#Dalam analisa data ini hanya akan digunakan kolom total unit dan SALE DATE\n",
    "df= df.loc[:,['SALE DATE','TOTAL UNITS']]\n",
    "df"
   ]
  },
  {
   "cell_type": "code",
   "execution_count": 4,
   "id": "320bef22",
   "metadata": {},
   "outputs": [
    {
     "data": {
      "text/plain": [
       "SALE DATE      False\n",
       "TOTAL UNITS    False\n",
       "dtype: bool"
      ]
     },
     "execution_count": 4,
     "metadata": {},
     "output_type": "execute_result"
    }
   ],
   "source": [
    "#memeriksa apakah terdapat missing value\n",
    "df.isnull().any()"
   ]
  },
  {
   "cell_type": "code",
   "execution_count": 5,
   "id": "45322131",
   "metadata": {},
   "outputs": [
    {
     "name": "stdout",
     "output_type": "stream",
     "text": [
      "<class 'pandas.core.frame.DataFrame'>\n",
      "RangeIndex: 84548 entries, 0 to 84547\n",
      "Data columns (total 2 columns):\n",
      " #   Column       Non-Null Count  Dtype \n",
      "---  ------       --------------  ----- \n",
      " 0   SALE DATE    84548 non-null  object\n",
      " 1   TOTAL UNITS  84548 non-null  int64 \n",
      "dtypes: int64(1), object(1)\n",
      "memory usage: 1.3+ MB\n"
     ]
    }
   ],
   "source": [
    "df.info()"
   ]
  },
  {
   "cell_type": "code",
   "execution_count": 6,
   "id": "76b5c5b5",
   "metadata": {},
   "outputs": [
    {
     "data": {
      "text/html": [
       "<div>\n",
       "<style scoped>\n",
       "    .dataframe tbody tr th:only-of-type {\n",
       "        vertical-align: middle;\n",
       "    }\n",
       "\n",
       "    .dataframe tbody tr th {\n",
       "        vertical-align: top;\n",
       "    }\n",
       "\n",
       "    .dataframe thead th {\n",
       "        text-align: right;\n",
       "    }\n",
       "</style>\n",
       "<table border=\"1\" class=\"dataframe\">\n",
       "  <thead>\n",
       "    <tr style=\"text-align: right;\">\n",
       "      <th></th>\n",
       "      <th>TOTAL UNITS</th>\n",
       "    </tr>\n",
       "  </thead>\n",
       "  <tbody>\n",
       "    <tr>\n",
       "      <th>count</th>\n",
       "      <td>84548.000000</td>\n",
       "    </tr>\n",
       "    <tr>\n",
       "      <th>mean</th>\n",
       "      <td>2.249184</td>\n",
       "    </tr>\n",
       "    <tr>\n",
       "      <th>std</th>\n",
       "      <td>18.972584</td>\n",
       "    </tr>\n",
       "    <tr>\n",
       "      <th>min</th>\n",
       "      <td>0.000000</td>\n",
       "    </tr>\n",
       "    <tr>\n",
       "      <th>25%</th>\n",
       "      <td>1.000000</td>\n",
       "    </tr>\n",
       "    <tr>\n",
       "      <th>50%</th>\n",
       "      <td>1.000000</td>\n",
       "    </tr>\n",
       "    <tr>\n",
       "      <th>75%</th>\n",
       "      <td>2.000000</td>\n",
       "    </tr>\n",
       "    <tr>\n",
       "      <th>max</th>\n",
       "      <td>2261.000000</td>\n",
       "    </tr>\n",
       "  </tbody>\n",
       "</table>\n",
       "</div>"
      ],
      "text/plain": [
       "        TOTAL UNITS\n",
       "count  84548.000000\n",
       "mean       2.249184\n",
       "std       18.972584\n",
       "min        0.000000\n",
       "25%        1.000000\n",
       "50%        1.000000\n",
       "75%        2.000000\n",
       "max     2261.000000"
      ]
     },
     "execution_count": 6,
     "metadata": {},
     "output_type": "execute_result"
    }
   ],
   "source": [
    "#melihat deskripsi statustik secara ringkas\n",
    "df.describe()"
   ]
  },
  {
   "cell_type": "markdown",
   "id": "515828ff",
   "metadata": {},
   "source": [
    "Dari summary statistik deskriptif tersebut diketahui terdapat 84548 data dengan rata-rata 2,25, nilai minimum 0 dan maximumumnya 2261 yang menunjukan rentang data yang sangat besar. Nilai kuartil 1 dan mediannya juga sama yang menunjukan banyaknya penjulan unit properti sebesar 1 per harinya"
   ]
  },
  {
   "cell_type": "code",
   "execution_count": 7,
   "id": "22edfac3",
   "metadata": {},
   "outputs": [
    {
     "data": {
      "text/html": [
       "<div>\n",
       "<style scoped>\n",
       "    .dataframe tbody tr th:only-of-type {\n",
       "        vertical-align: middle;\n",
       "    }\n",
       "\n",
       "    .dataframe tbody tr th {\n",
       "        vertical-align: top;\n",
       "    }\n",
       "\n",
       "    .dataframe thead th {\n",
       "        text-align: right;\n",
       "    }\n",
       "</style>\n",
       "<table border=\"1\" class=\"dataframe\">\n",
       "  <thead>\n",
       "    <tr style=\"text-align: right;\">\n",
       "      <th></th>\n",
       "      <th>SALE DATE</th>\n",
       "      <th>TOTAL UNITS</th>\n",
       "    </tr>\n",
       "  </thead>\n",
       "  <tbody>\n",
       "    <tr>\n",
       "      <th>0</th>\n",
       "      <td>2017-07-19</td>\n",
       "      <td>5</td>\n",
       "    </tr>\n",
       "    <tr>\n",
       "      <th>1</th>\n",
       "      <td>2016-12-14</td>\n",
       "      <td>31</td>\n",
       "    </tr>\n",
       "    <tr>\n",
       "      <th>2</th>\n",
       "      <td>2016-12-09</td>\n",
       "      <td>17</td>\n",
       "    </tr>\n",
       "    <tr>\n",
       "      <th>3</th>\n",
       "      <td>2016-09-23</td>\n",
       "      <td>10</td>\n",
       "    </tr>\n",
       "    <tr>\n",
       "      <th>4</th>\n",
       "      <td>2016-11-17</td>\n",
       "      <td>6</td>\n",
       "    </tr>\n",
       "    <tr>\n",
       "      <th>...</th>\n",
       "      <td>...</td>\n",
       "      <td>...</td>\n",
       "    </tr>\n",
       "    <tr>\n",
       "      <th>84543</th>\n",
       "      <td>2016-11-28</td>\n",
       "      <td>2</td>\n",
       "    </tr>\n",
       "    <tr>\n",
       "      <th>84544</th>\n",
       "      <td>2017-04-21</td>\n",
       "      <td>2</td>\n",
       "    </tr>\n",
       "    <tr>\n",
       "      <th>84545</th>\n",
       "      <td>2017-07-05</td>\n",
       "      <td>2</td>\n",
       "    </tr>\n",
       "    <tr>\n",
       "      <th>84546</th>\n",
       "      <td>2016-12-21</td>\n",
       "      <td>7</td>\n",
       "    </tr>\n",
       "    <tr>\n",
       "      <th>84547</th>\n",
       "      <td>2016-10-27</td>\n",
       "      <td>1</td>\n",
       "    </tr>\n",
       "  </tbody>\n",
       "</table>\n",
       "<p>84548 rows × 2 columns</p>\n",
       "</div>"
      ],
      "text/plain": [
       "       SALE DATE  TOTAL UNITS\n",
       "0     2017-07-19            5\n",
       "1     2016-12-14           31\n",
       "2     2016-12-09           17\n",
       "3     2016-09-23           10\n",
       "4     2016-11-17            6\n",
       "...          ...          ...\n",
       "84543 2016-11-28            2\n",
       "84544 2017-04-21            2\n",
       "84545 2017-07-05            2\n",
       "84546 2016-12-21            7\n",
       "84547 2016-10-27            1\n",
       "\n",
       "[84548 rows x 2 columns]"
      ]
     },
     "execution_count": 7,
     "metadata": {},
     "output_type": "execute_result"
    }
   ],
   "source": [
    "#mengkonversi date sales ke tipe data date time\n",
    "df['SALE DATE']=pd.to_datetime(df['SALE DATE'])\n",
    "df"
   ]
  },
  {
   "cell_type": "code",
   "execution_count": 8,
   "id": "74907e9c",
   "metadata": {},
   "outputs": [
    {
     "data": {
      "text/html": [
       "<div>\n",
       "<style scoped>\n",
       "    .dataframe tbody tr th:only-of-type {\n",
       "        vertical-align: middle;\n",
       "    }\n",
       "\n",
       "    .dataframe tbody tr th {\n",
       "        vertical-align: top;\n",
       "    }\n",
       "\n",
       "    .dataframe thead th {\n",
       "        text-align: right;\n",
       "    }\n",
       "</style>\n",
       "<table border=\"1\" class=\"dataframe\">\n",
       "  <thead>\n",
       "    <tr style=\"text-align: right;\">\n",
       "      <th></th>\n",
       "      <th>TOTAL UNIT</th>\n",
       "    </tr>\n",
       "    <tr>\n",
       "      <th>SALE DATE</th>\n",
       "      <th></th>\n",
       "    </tr>\n",
       "  </thead>\n",
       "  <tbody>\n",
       "    <tr>\n",
       "      <th>2016-09-01</th>\n",
       "      <td>656</td>\n",
       "    </tr>\n",
       "    <tr>\n",
       "      <th>2016-09-02</th>\n",
       "      <td>334</td>\n",
       "    </tr>\n",
       "    <tr>\n",
       "      <th>2016-09-03</th>\n",
       "      <td>15</td>\n",
       "    </tr>\n",
       "    <tr>\n",
       "      <th>2016-09-04</th>\n",
       "      <td>5</td>\n",
       "    </tr>\n",
       "    <tr>\n",
       "      <th>2016-09-05</th>\n",
       "      <td>6</td>\n",
       "    </tr>\n",
       "    <tr>\n",
       "      <th>...</th>\n",
       "      <td>...</td>\n",
       "    </tr>\n",
       "    <tr>\n",
       "      <th>2017-08-27</th>\n",
       "      <td>3</td>\n",
       "    </tr>\n",
       "    <tr>\n",
       "      <th>2017-08-28</th>\n",
       "      <td>147</td>\n",
       "    </tr>\n",
       "    <tr>\n",
       "      <th>2017-08-29</th>\n",
       "      <td>183</td>\n",
       "    </tr>\n",
       "    <tr>\n",
       "      <th>2017-08-30</th>\n",
       "      <td>263</td>\n",
       "    </tr>\n",
       "    <tr>\n",
       "      <th>2017-08-31</th>\n",
       "      <td>178</td>\n",
       "    </tr>\n",
       "  </tbody>\n",
       "</table>\n",
       "<p>364 rows × 1 columns</p>\n",
       "</div>"
      ],
      "text/plain": [
       "            TOTAL UNIT\n",
       "SALE DATE             \n",
       "2016-09-01         656\n",
       "2016-09-02         334\n",
       "2016-09-03          15\n",
       "2016-09-04           5\n",
       "2016-09-05           6\n",
       "...                ...\n",
       "2017-08-27           3\n",
       "2017-08-28         147\n",
       "2017-08-29         183\n",
       "2017-08-30         263\n",
       "2017-08-31         178\n",
       "\n",
       "[364 rows x 1 columns]"
      ]
     },
     "execution_count": 8,
     "metadata": {},
     "output_type": "execute_result"
    }
   ],
   "source": [
    "#mengurutkan tanggal penjualan\n",
    "df=df.sort_values(by='SALE DATE')\n",
    "#mengelompokan penjualan berdasarkan tanggal\n",
    "df=pd.DataFrame({'TOTAL UNIT':df.groupby('SALE DATE')['TOTAL UNITS'].sum()})\n",
    "df\n"
   ]
  },
  {
   "cell_type": "code",
   "execution_count": 9,
   "id": "3070c180",
   "metadata": {},
   "outputs": [
    {
     "name": "stdout",
     "output_type": "stream",
     "text": [
      "0     5\n",
      "1    22\n",
      "dtype: int64\n",
      "0     4\n",
      "1     9\n",
      "2    14\n",
      "dtype: int64\n"
     ]
    }
   ],
   "source": [
    "#modus data total unit tahun 2016\n",
    "df_2016=df.loc['2016']\n",
    "print(df_2016['TOTAL UNIT'].mode())\n",
    "#modus data tahun 1950-2017\n",
    "df_2017=df.loc['2017']\n",
    "print(df_2017['TOTAL UNIT'].mode())"
   ]
  },
  {
   "cell_type": "markdown",
   "id": "1a7d4e3a",
   "metadata": {},
   "source": [
    "Modus data pada tahun 2016 menunjukan bahwa setiap harinya pada setiap wilayah NYC paling sering terjadi penjualan sebanyak 5 unit properti atau 22 unit(bimodal)\n",
    "\n",
    "Sedangkan pada data tahun 2017 penjualan perharinya paling sering terjadi sebanyak 4 unit, 9 unit, atau 14 unit (trimodal)"
   ]
  },
  {
   "cell_type": "code",
   "execution_count": 10,
   "id": "e47a33a9",
   "metadata": {},
   "outputs": [
    {
     "data": {
      "text/html": [
       "<div>\n",
       "<style scoped>\n",
       "    .dataframe tbody tr th:only-of-type {\n",
       "        vertical-align: middle;\n",
       "    }\n",
       "\n",
       "    .dataframe tbody tr th {\n",
       "        vertical-align: top;\n",
       "    }\n",
       "\n",
       "    .dataframe thead th {\n",
       "        text-align: right;\n",
       "    }\n",
       "</style>\n",
       "<table border=\"1\" class=\"dataframe\">\n",
       "  <thead>\n",
       "    <tr style=\"text-align: right;\">\n",
       "      <th></th>\n",
       "      <th>TOTAL UNIT</th>\n",
       "    </tr>\n",
       "  </thead>\n",
       "  <tbody>\n",
       "    <tr>\n",
       "      <th>count</th>\n",
       "      <td>364.000000</td>\n",
       "    </tr>\n",
       "    <tr>\n",
       "      <th>mean</th>\n",
       "      <td>522.428571</td>\n",
       "    </tr>\n",
       "    <tr>\n",
       "      <th>std</th>\n",
       "      <td>553.316614</td>\n",
       "    </tr>\n",
       "    <tr>\n",
       "      <th>min</th>\n",
       "      <td>1.000000</td>\n",
       "    </tr>\n",
       "    <tr>\n",
       "      <th>25%</th>\n",
       "      <td>38.000000</td>\n",
       "    </tr>\n",
       "    <tr>\n",
       "      <th>50%</th>\n",
       "      <td>477.500000</td>\n",
       "    </tr>\n",
       "    <tr>\n",
       "      <th>75%</th>\n",
       "      <td>697.500000</td>\n",
       "    </tr>\n",
       "    <tr>\n",
       "      <th>max</th>\n",
       "      <td>3341.000000</td>\n",
       "    </tr>\n",
       "  </tbody>\n",
       "</table>\n",
       "</div>"
      ],
      "text/plain": [
       "        TOTAL UNIT\n",
       "count   364.000000\n",
       "mean    522.428571\n",
       "std     553.316614\n",
       "min       1.000000\n",
       "25%      38.000000\n",
       "50%     477.500000\n",
       "75%     697.500000\n",
       "max    3341.000000"
      ]
     },
     "execution_count": 10,
     "metadata": {},
     "output_type": "execute_result"
    }
   ],
   "source": [
    "df.describe()"
   ]
  },
  {
   "cell_type": "markdown",
   "id": "d5bbe683",
   "metadata": {},
   "source": [
    "Untuk melihat secara cepat ada atau tidaknya outlier maka akan dibuat boxplot"
   ]
  },
  {
   "cell_type": "code",
   "execution_count": 11,
   "id": "d29f62b6",
   "metadata": {},
   "outputs": [
    {
     "data": {
      "image/png": "[encoded data removed]",
      "text/plain": [
       "<Figure size 432x288 with 1 Axes>"
      ]
     },
     "metadata": {},
     "output_type": "display_data"
    }
   ],
   "source": [
    "%matplotlib inline\n",
    "import matplotlib.pyplot as plt\n",
    "plt.style.use('ggplot')\n",
    "df['TOTAL UNIT'].plot(kind='box',vert=False, showmeans=True,\n",
    "          meanline=True)\n",
    "plt.show()"
   ]
  },
  {
   "cell_type": "markdown",
   "id": "2d16d7a3",
   "metadata": {},
   "source": [
    "Dari boxplot tersebut tampak bahwa terdapat banyak outlier. Untuk melihat nilai outlier akan dilakukan perhitungan sebagai berikut :\n"
   ]
  },
  {
   "cell_type": "code",
   "execution_count": 12,
   "id": "5d95235b",
   "metadata": {},
   "outputs": [
    {
     "name": "stdout",
     "output_type": "stream",
     "text": [
      "-951.25 1686.75\n"
     ]
    }
   ],
   "source": [
    "#menentukan nilai kuartil 1 dan 3\n",
    "q1=np.quantile(df['TOTAL UNIT'], .25)\n",
    "q3=np.quantile(df['TOTAL UNIT'], .75)\n",
    "#menghutung interquartil (selisih kuartil)\n",
    "iqr=q3-q1\n",
    "#menentukan batas data yang tidak dianggap sebagai outlier\n",
    "iqr1=q1-1.5*iqr\n",
    "iqr2=q3+1.5*iqr\n",
    "#rentang data yang tidak mengandung outlier\n",
    "print(iqr1, iqr2)"
   ]
  },
  {
   "cell_type": "markdown",
   "id": "a7746f8d",
   "metadata": {},
   "source": [
    "interval diatas merupakan minor outlier."
   ]
  },
  {
   "cell_type": "code",
   "execution_count": 13,
   "id": "a52fc01f",
   "metadata": {},
   "outputs": [
    {
     "data": {
      "text/html": [
       "<div>\n",
       "<style scoped>\n",
       "    .dataframe tbody tr th:only-of-type {\n",
       "        vertical-align: middle;\n",
       "    }\n",
       "\n",
       "    .dataframe tbody tr th {\n",
       "        vertical-align: top;\n",
       "    }\n",
       "\n",
       "    .dataframe thead th {\n",
       "        text-align: right;\n",
       "    }\n",
       "</style>\n",
       "<table border=\"1\" class=\"dataframe\">\n",
       "  <thead>\n",
       "    <tr style=\"text-align: right;\">\n",
       "      <th></th>\n",
       "      <th>TOTAL UNIT</th>\n",
       "    </tr>\n",
       "    <tr>\n",
       "      <th>SALE DATE</th>\n",
       "      <th></th>\n",
       "    </tr>\n",
       "  </thead>\n",
       "  <tbody>\n",
       "    <tr>\n",
       "      <th>2016-09-09</th>\n",
       "      <td>3257</td>\n",
       "    </tr>\n",
       "    <tr>\n",
       "      <th>2016-09-30</th>\n",
       "      <td>3341</td>\n",
       "    </tr>\n",
       "    <tr>\n",
       "      <th>2016-10-10</th>\n",
       "      <td>1824</td>\n",
       "    </tr>\n",
       "    <tr>\n",
       "      <th>2016-10-26</th>\n",
       "      <td>2823</td>\n",
       "    </tr>\n",
       "    <tr>\n",
       "      <th>2016-11-07</th>\n",
       "      <td>3328</td>\n",
       "    </tr>\n",
       "    <tr>\n",
       "      <th>2016-12-08</th>\n",
       "      <td>2130</td>\n",
       "    </tr>\n",
       "    <tr>\n",
       "      <th>2016-12-16</th>\n",
       "      <td>3169</td>\n",
       "    </tr>\n",
       "    <tr>\n",
       "      <th>2017-05-15</th>\n",
       "      <td>2840</td>\n",
       "    </tr>\n",
       "    <tr>\n",
       "      <th>2017-05-24</th>\n",
       "      <td>2231</td>\n",
       "    </tr>\n",
       "    <tr>\n",
       "      <th>2017-05-25</th>\n",
       "      <td>1766</td>\n",
       "    </tr>\n",
       "    <tr>\n",
       "      <th>2017-06-22</th>\n",
       "      <td>1878</td>\n",
       "    </tr>\n",
       "    <tr>\n",
       "      <th>2017-06-29</th>\n",
       "      <td>2086</td>\n",
       "    </tr>\n",
       "    <tr>\n",
       "      <th>2017-06-30</th>\n",
       "      <td>2535</td>\n",
       "    </tr>\n",
       "    <tr>\n",
       "      <th>2017-07-05</th>\n",
       "      <td>2178</td>\n",
       "    </tr>\n",
       "  </tbody>\n",
       "</table>\n",
       "</div>"
      ],
      "text/plain": [
       "            TOTAL UNIT\n",
       "SALE DATE             \n",
       "2016-09-09        3257\n",
       "2016-09-30        3341\n",
       "2016-10-10        1824\n",
       "2016-10-26        2823\n",
       "2016-11-07        3328\n",
       "2016-12-08        2130\n",
       "2016-12-16        3169\n",
       "2017-05-15        2840\n",
       "2017-05-24        2231\n",
       "2017-05-25        1766\n",
       "2017-06-22        1878\n",
       "2017-06-29        2086\n",
       "2017-06-30        2535\n",
       "2017-07-05        2178"
      ]
     },
     "execution_count": 13,
     "metadata": {},
     "output_type": "execute_result"
    }
   ],
   "source": [
    "#melihat data total unit yang lebih dari 3850 (outlier)\n",
    "df[df['TOTAL UNIT']>=1686]"
   ]
  },
  {
   "cell_type": "markdown",
   "id": "42a11dae",
   "metadata": {},
   "source": [
    "Dari data tersebut pada tanggal-tanggal tertentu terdapat penjualan properti yang jauh lebih tinggi dibanding tahun-tahun lainnya sehingga dalam perhitungan merupakan outlier. Disisi lain data tersebut dibutuhkan untuk mendapatkan insight sesuai kondisi yang sebenarnya terkait trend penjualan unit yang terjual dari tahun 2016-2017 sehingga outlier akan tetap dipertahankan. Naninya data ini akan diambil sample sebesar 50 data pada masing-masing tahun."
   ]
  },
  {
   "cell_type": "code",
   "execution_count": 14,
   "id": "e67936ba",
   "metadata": {},
   "outputs": [
    {
     "data": {
      "text/plain": [
       "2.2894068207563416"
      ]
     },
     "execution_count": 14,
     "metadata": {},
     "output_type": "execute_result"
    }
   ],
   "source": [
    "#melihat kemencengan(skewness) data \n",
    "skew=scipy.stats.skew(df['TOTAL UNIT'])\n",
    "skew"
   ]
  },
  {
   "cell_type": "markdown",
   "id": "b776d05f",
   "metadata": {},
   "source": [
    "Kurva memiliki kemencengan 2.28 yang menunjukan kemencengan positif dimana nilai median dan modus lebih kecil dari rata-ratanya."
   ]
  },
  {
   "cell_type": "code",
   "execution_count": 15,
   "id": "d0459225",
   "metadata": {},
   "outputs": [
    {
     "data": {
      "text/plain": [
       "7.597785202438184"
      ]
     },
     "execution_count": 15,
     "metadata": {},
     "output_type": "execute_result"
    }
   ],
   "source": [
    "#bentuk puncak kurva (kurtosis)\n",
    "kurtosis=scipy.stats.kurtosis(df['TOTAL UNIT'])\n",
    "kurtosis"
   ]
  },
  {
   "cell_type": "markdown",
   "id": "f38f0685",
   "metadata": {},
   "source": [
    "Nilai kurtosis lebih besar dari 3 sehingga kurva berbentuk leptokurtis"
   ]
  },
  {
   "cell_type": "code",
   "execution_count": 16,
   "id": "ba5bad43",
   "metadata": {},
   "outputs": [
    {
     "name": "stderr",
     "output_type": "stream",
     "text": [
      "C:\\Program Files (x86)\\Anaconda\\lib\\site-packages\\seaborn\\distributions.py:2557: FutureWarning: `distplot` is a deprecated function and will be removed in a future version. Please adapt your code to use either `displot` (a figure-level function with similar flexibility) or `histplot` (an axes-level function for histograms).\n",
      "  warnings.warn(msg, FutureWarning)\n"
     ]
    },
    {
     "data": {
      "text/plain": [
       "Text(0.5, 1.0, 'Distribution of Total Units Sales per Day in NYC 2016-2017')"
      ]
     },
     "execution_count": 16,
     "metadata": {},
     "output_type": "execute_result"
    },
    {
     "data": {
      "image/png": "[encoded data removed]",
      "text/plain": [
       "<Figure size 360x360 with 1 Axes>"
      ]
     },
     "metadata": {},
     "output_type": "display_data"
    }
   ],
   "source": [
    "#membuat kurva distribusi data\n",
    "import seaborn as sns\n",
    "sns.set(color_codes=True)\n",
    "sns.set(rc={'figure.figsize':(5,5)})\n",
    "ax=sns.distplot(df['TOTAL UNIT'])\n",
    "plt.title('Distribution of Total Units Sales per Day in NYC 2016-2017')"
   ]
  },
  {
   "cell_type": "markdown",
   "id": "cb8c9a8f",
   "metadata": {},
   "source": [
    "Kurva tersebut tidak membentuk distribusi normal sehingga akan menyulistkan dalam melakukan anaslisis serta pengujian hipotesis. Untuk itu, pada analasis selanjutnya akan diambil sample acak sebesar n=50 pada masing-masing tahun yaitu 2016 dan 2017"
   ]
  },
  {
   "cell_type": "code",
   "execution_count": 17,
   "id": "e9c6d70f",
   "metadata": {},
   "outputs": [
    {
     "data": {
      "text/html": [
       "<div>\n",
       "<style scoped>\n",
       "    .dataframe tbody tr th:only-of-type {\n",
       "        vertical-align: middle;\n",
       "    }\n",
       "\n",
       "    .dataframe tbody tr th {\n",
       "        vertical-align: top;\n",
       "    }\n",
       "\n",
       "    .dataframe thead th {\n",
       "        text-align: right;\n",
       "    }\n",
       "</style>\n",
       "<table border=\"1\" class=\"dataframe\">\n",
       "  <thead>\n",
       "    <tr style=\"text-align: right;\">\n",
       "      <th></th>\n",
       "      <th>TOTAL UNIT SAMPLE 2016</th>\n",
       "    </tr>\n",
       "  </thead>\n",
       "  <tbody>\n",
       "    <tr>\n",
       "      <th>0</th>\n",
       "      <td>1334</td>\n",
       "    </tr>\n",
       "    <tr>\n",
       "      <th>1</th>\n",
       "      <td>242</td>\n",
       "    </tr>\n",
       "    <tr>\n",
       "      <th>2</th>\n",
       "      <td>792</td>\n",
       "    </tr>\n",
       "    <tr>\n",
       "      <th>3</th>\n",
       "      <td>845</td>\n",
       "    </tr>\n",
       "    <tr>\n",
       "      <th>4</th>\n",
       "      <td>751</td>\n",
       "    </tr>\n",
       "  </tbody>\n",
       "</table>\n",
       "</div>"
      ],
      "text/plain": [
       "   TOTAL UNIT SAMPLE 2016\n",
       "0                    1334\n",
       "1                     242\n",
       "2                     792\n",
       "3                     845\n",
       "4                     751"
      ]
     },
     "execution_count": 17,
     "metadata": {},
     "output_type": "execute_result"
    }
   ],
   "source": [
    "#Pengambilan rata2 total unit setiap 7 sample acak sebanyak 50 pada datsa penjualan tahun 2016\n",
    "sample_2016=[]\n",
    "n=50\n",
    "for sample in range(0,n):\n",
    "    np.random.seed(sample)\n",
    "    values=np.random.choice(a=df_2016['TOTAL UNIT'], size=7)\n",
    "    rata2=int(np.mean(values))\n",
    "    sample_2016.append(rata2)\n",
    "#memasukan sample pada dataframe\n",
    "sample_2016=pd.DataFrame({'TOTAL UNIT SAMPLE 2016': sample_2016})\n",
    "sample_2016.head()"
   ]
  },
  {
   "cell_type": "code",
   "execution_count": 18,
   "id": "55ce63f3",
   "metadata": {},
   "outputs": [
    {
     "data": {
      "text/html": [
       "<div>\n",
       "<style scoped>\n",
       "    .dataframe tbody tr th:only-of-type {\n",
       "        vertical-align: middle;\n",
       "    }\n",
       "\n",
       "    .dataframe tbody tr th {\n",
       "        vertical-align: top;\n",
       "    }\n",
       "\n",
       "    .dataframe thead th {\n",
       "        text-align: right;\n",
       "    }\n",
       "</style>\n",
       "<table border=\"1\" class=\"dataframe\">\n",
       "  <thead>\n",
       "    <tr style=\"text-align: right;\">\n",
       "      <th></th>\n",
       "      <th>TOTAL UNIT SAMPLE 2017</th>\n",
       "    </tr>\n",
       "  </thead>\n",
       "  <tbody>\n",
       "    <tr>\n",
       "      <th>0</th>\n",
       "      <td>638</td>\n",
       "    </tr>\n",
       "    <tr>\n",
       "      <th>1</th>\n",
       "      <td>259</td>\n",
       "    </tr>\n",
       "    <tr>\n",
       "      <th>2</th>\n",
       "      <td>221</td>\n",
       "    </tr>\n",
       "    <tr>\n",
       "      <th>3</th>\n",
       "      <td>348</td>\n",
       "    </tr>\n",
       "    <tr>\n",
       "      <th>4</th>\n",
       "      <td>365</td>\n",
       "    </tr>\n",
       "  </tbody>\n",
       "</table>\n",
       "</div>"
      ],
      "text/plain": [
       "   TOTAL UNIT SAMPLE 2017\n",
       "0                     638\n",
       "1                     259\n",
       "2                     221\n",
       "3                     348\n",
       "4                     365"
      ]
     },
     "execution_count": 18,
     "metadata": {},
     "output_type": "execute_result"
    }
   ],
   "source": [
    "##Pengambilan rata2 total unit setiap 7 sample acak sebanyak 50 pada datsa penjualan tahun 2017\n",
    "sample_2017=[]\n",
    "n=50\n",
    "for sample in range(0,n):\n",
    "    np.random.seed(sample)\n",
    "    values=np.random.choice(a=df_2017['TOTAL UNIT'], size=7)\n",
    "    rata2=int(np.mean(values))\n",
    "    sample_2017.append(rata2)\n",
    "    \n",
    "#memasukan sample pada dataframe\n",
    "sample_2017=pd.DataFrame({'TOTAL UNIT SAMPLE 2017': sample_2017})\n",
    "sample_2017.head()"
   ]
  },
  {
   "cell_type": "code",
   "execution_count": 19,
   "id": "09ae0a01",
   "metadata": {},
   "outputs": [
    {
     "name": "stdout",
     "output_type": "stream",
     "text": [
      "rata-rata unit yang terjual perhari 2016 : 637.04\n",
      "rata-rata unit yang terjual perhari 2017: 456.18\n"
     ]
    }
   ],
   "source": [
    "#rata-rata unit yang terjual per hari \n",
    "rerata_2016=sample_2016['TOTAL UNIT SAMPLE 2016'].mean()\n",
    "rerata_2017=sample_2017['TOTAL UNIT SAMPLE 2017'].mean()\n",
    "print('rata-rata unit yang terjual perhari 2016 :', rerata_2016)\n",
    "print('rata-rata unit yang terjual perhari 2017:', rerata_2017)"
   ]
  },
  {
   "cell_type": "markdown",
   "id": "01982a40",
   "metadata": {},
   "source": [
    "Berdasarkan perhitungan rata-rata sample terjadi peurunan rata-rata penjualan properti pada tahun 2017 dibandingkan dengan tahun 2016. Untuk menghindari kekeliran dalam menetapkan nilai tengah maka akan dilihat mediannya."
   ]
  },
  {
   "cell_type": "code",
   "execution_count": 20,
   "id": "125cbee3",
   "metadata": {},
   "outputs": [
    {
     "name": "stdout",
     "output_type": "stream",
     "text": [
      "median unit yang terjual perhari 2016 : 618.0\n",
      "median unit yang terjual perhari 2017: 424.5\n"
     ]
    }
   ],
   "source": [
    "#median unit yang terjual per hari \n",
    "median_2016=sample_2016['TOTAL UNIT SAMPLE 2016'].median()\n",
    "median_2017=sample_2017['TOTAL UNIT SAMPLE 2017'].median()\n",
    "print('median unit yang terjual perhari 2016 :', median_2016)\n",
    "print('median unit yang terjual perhari 2017:', median_2017)"
   ]
  },
  {
   "cell_type": "markdown",
   "id": "a26b03d7",
   "metadata": {},
   "source": [
    "nilai median juga memperlihatkan angka yang hampir sama dengan mean"
   ]
  },
  {
   "cell_type": "code",
   "execution_count": 21,
   "id": "10cfcff5",
   "metadata": {},
   "outputs": [
    {
     "name": "stdout",
     "output_type": "stream",
     "text": [
      "rentang data unit yang terjual 2016 : 1171\n",
      "rentang data unit yang terjual 2017 : 958\n"
     ]
    }
   ],
   "source": [
    "#menentukan rentang data (range)\n",
    "range_2016=np.ptp(sample_2016['TOTAL UNIT SAMPLE 2016'])\n",
    "range_2017=np.ptp(sample_2017['TOTAL UNIT SAMPLE 2017'])\n",
    "print('rentang data unit yang terjual 2016 :', range_2016)\n",
    "print('rentang data unit yang terjual 2017 :', range_2017)"
   ]
  },
  {
   "cell_type": "code",
   "execution_count": 22,
   "id": "1e8ba657",
   "metadata": {},
   "outputs": [
    {
     "name": "stdout",
     "output_type": "stream",
     "text": [
      "standar deviasi unit yang terjual 2016 : 246.29872023994912\n",
      "standar deviasi unit yang terjual 2017 : 180.9315678506599\n"
     ]
    }
   ],
   "source": [
    "#menentukan standar deviasi\n",
    "std_2016=np.std(sample_2016['TOTAL UNIT SAMPLE 2016'], ddof=1)\n",
    "std_2017=np.std(sample_2017['TOTAL UNIT SAMPLE 2017'], ddof=1)\n",
    "print('standar deviasi unit yang terjual 2016 :', std_2016)\n",
    "print('standar deviasi unit yang terjual 2017 :', std_2017)"
   ]
  },
  {
   "cell_type": "code",
   "execution_count": 23,
   "id": "9664e962",
   "metadata": {},
   "outputs": [
    {
     "name": "stdout",
     "output_type": "stream",
     "text": [
      "variance unit yang terjual 2016 : 60663.059591836725\n",
      "variance unit yang terjual 2017 : 32736.232244897947\n"
     ]
    }
   ],
   "source": [
    "#menentukan variance\n",
    "var_2016=np.var(sample_2016['TOTAL UNIT SAMPLE 2016'], ddof=1)\n",
    "var_2017=np.var(sample_2017['TOTAL UNIT SAMPLE 2017'], ddof=1)\n",
    "print('variance unit yang terjual 2016 :', var_2016)\n",
    "print('variance unit yang terjual 2017 :', var_2017)"
   ]
  },
  {
   "cell_type": "code",
   "execution_count": 24,
   "id": "52e69ceb",
   "metadata": {},
   "outputs": [
    {
     "name": "stdout",
     "output_type": "stream",
     "text": [
      "kemencenggan dari data sampel unit yang terjual perhari 2016 : 0.7507579263949905\n",
      "kemencenggan dari data sampel unit yang  terjual perhari 2017: 1.2666543052702737\n"
     ]
    }
   ],
   "source": [
    "#menentukan skewness\n",
    "skew_2016=sample_2016['TOTAL UNIT SAMPLE 2016'].skew()\n",
    "skew_2017=sample_2017['TOTAL UNIT SAMPLE 2017'].skew()\n",
    "print('kemencenggan dari data sampel unit yang terjual perhari 2016 :', skew_2016)\n",
    "print('kemencenggan dari data sampel unit yang  terjual perhari 2017:', skew_2017)"
   ]
  },
  {
   "cell_type": "markdown",
   "id": "e88ae90f",
   "metadata": {},
   "source": [
    "kedua data menunjukan kemencengan positif yang mengindikasikan bahwa jumlah unit properti yang terjual setiap tahunnya tidak merata dimana terdapat lebih banyak penjualan unit properti dengan angka rendah pada periode tersebut. Tetapi kemencengan pada data sampel 2016 lebih mendekati 0 sehingga distribusinya lebih merata/normal"
   ]
  },
  {
   "cell_type": "code",
   "execution_count": 25,
   "id": "6d27b64b",
   "metadata": {},
   "outputs": [
    {
     "name": "stdout",
     "output_type": "stream",
     "text": [
      "nilai kurtosis dari data total unit yang terjual 2016 : 0.9962781541891546\n",
      "nilai kurtosis dari data total unit yang terjual 2017: 2.6238919968295678\n"
     ]
    }
   ],
   "source": [
    "#menentukan kurtosis\n",
    "kurtosis_2016=scipy.stats.kurtosis(sample_2016['TOTAL UNIT SAMPLE 2016'])\n",
    "kurtosis_2017=scipy.stats.kurtosis(sample_2017['TOTAL UNIT SAMPLE 2017'])\n",
    "print('nilai kurtosis dari data total unit yang terjual 2016 :', kurtosis_2016)\n",
    "print('nilai kurtosis dari data total unit yang terjual 2017:', kurtosis_2017)"
   ]
  },
  {
   "cell_type": "markdown",
   "id": "3c006d8e",
   "metadata": {},
   "source": [
    "nilai kurtosis_1 menujukan bentuk kurva platikurtis\n",
    "nilai kurtosis_2 menujukan bentuk kurva mesokurtis\n",
    "\n",
    "karena nilai kurtosis_2 mendekati kondisi ideal (nilai kurtosis=3) maka dapat dikatakan total unit yang terjual pada 2017 penjualannya lebih merata/hampir sama. Sedangkan nilai kurtosis_1 yang lebih kecil dari 3 menunjukan terdapat total unit yang tejual dengan angka yang sama dalam frekuensi yang lebih kecil."
   ]
  },
  {
   "cell_type": "code",
   "execution_count": 26,
   "id": "3a2baa99",
   "metadata": {
    "scrolled": true
   },
   "outputs": [
    {
     "name": "stderr",
     "output_type": "stream",
     "text": [
      "C:\\Program Files (x86)\\Anaconda\\lib\\site-packages\\seaborn\\distributions.py:2557: FutureWarning: `distplot` is a deprecated function and will be removed in a future version. Please adapt your code to use either `displot` (a figure-level function with similar flexibility) or `histplot` (an axes-level function for histograms).\n",
      "  warnings.warn(msg, FutureWarning)\n"
     ]
    },
    {
     "data": {
      "text/plain": [
       "Text(0.5, 1.0, 'Distribution of Total Units Sales in NYC 2016')"
      ]
     },
     "execution_count": 26,
     "metadata": {},
     "output_type": "execute_result"
    },
    {
     "data": {
      "image/png": "[encoded data removed]",
      "text/plain": [
       "<Figure size 504x360 with 1 Axes>"
      ]
     },
     "metadata": {},
     "output_type": "display_data"
    }
   ],
   "source": [
    "#membuat plot distribusi kedua data\n",
    "sns.set(color_codes=True)\n",
    "sns.set(rc={'figure.figsize':(7,5)})\n",
    "sns.distplot(sample_2016['TOTAL UNIT SAMPLE 2016'])\n",
    "plt.title('Distribution of Total Units Sales in NYC 2016')"
   ]
  },
  {
   "cell_type": "markdown",
   "id": "8127a71b",
   "metadata": {},
   "source": [
    "kurva distribusi sdari sampel 2016 terlihat cukup simetris dimana nilai median hampir sama dengan nilai mean membentuk kurva istribusi normal"
   ]
  },
  {
   "cell_type": "code",
   "execution_count": 27,
   "id": "e26a0d5b",
   "metadata": {},
   "outputs": [
    {
     "name": "stderr",
     "output_type": "stream",
     "text": [
      "C:\\Program Files (x86)\\Anaconda\\lib\\site-packages\\seaborn\\distributions.py:2557: FutureWarning: `distplot` is a deprecated function and will be removed in a future version. Please adapt your code to use either `displot` (a figure-level function with similar flexibility) or `histplot` (an axes-level function for histograms).\n",
      "  warnings.warn(msg, FutureWarning)\n"
     ]
    },
    {
     "data": {
      "text/plain": [
       "Text(0.5, 1.0, 'Distribution of Total Units Sales in NYC 2017')"
      ]
     },
     "execution_count": 27,
     "metadata": {},
     "output_type": "execute_result"
    },
    {
     "data": {
      "image/png": "[encoded data removed]",
      "text/plain": [
       "<Figure size 504x360 with 1 Axes>"
      ]
     },
     "metadata": {},
     "output_type": "display_data"
    }
   ],
   "source": [
    "sns.set(color_codes=True)\n",
    "sns.set(rc={'figure.figsize':(7,5)})\n",
    "sns.distplot(sample_2017['TOTAL UNIT SAMPLE 2017'])\n",
    "plt.title('Distribution of Total Units Sales in NYC 2017')"
   ]
  },
  {
   "cell_type": "markdown",
   "id": "cb5b7cce",
   "metadata": {},
   "source": [
    "Meskipun bentuk kurva memuncak keatas (leptokurtis)m, namun kurva cukup simeris dan membentuk kurva distribusi normal"
   ]
  },
  {
   "cell_type": "code",
   "execution_count": 28,
   "id": "cbe768ed",
   "metadata": {},
   "outputs": [
    {
     "name": "stdout",
     "output_type": "stream",
     "text": [
      "Confidence Interval sampel 2016 : 568.77 - 705.31\n",
      "Confidence Interval sampel 2017 : 406.03 - 687.19\n"
     ]
    }
   ],
   "source": [
    "#menghitung confidence interval mean dari sample 2016 dengan tingkat keercayaan 95%\n",
    "z=1.96\n",
    "n=50\n",
    "se_2016=std_2016/np.sqrt(n)\n",
    "lower_limit_2016=round(rerata_2016-se_2016*z, ndigits=2)\n",
    "upper_limit_2016=round(rerata_2016+se_2016*z, ndigits=2)\n",
    "print('Confidence Interval sampel 2016 :',lower_limit_2016,'-',upper_limit_2016 )\n",
    "\n",
    "#menghitung confidence interval mean dari sample 2017 dengan tingkat keercayaan 95%\n",
    "z=1.96\n",
    "n=50\n",
    "se_2017=std_2017/np.sqrt(n)\n",
    "lower_limit_2017=round(rerata_2017-se_2017*z, ndigits=2)\n",
    "upper_limit_2017=round(rerata_2016+se_2017*z, ndigits=2)\n",
    "print('Confidence Interval sampel 2017 :',lower_limit_2017,'-',upper_limit_2017 )"
   ]
  },
  {
   "cell_type": "markdown",
   "id": "6f94344b",
   "metadata": {},
   "source": [
    "Dari perhitungan statistik deskriptif untuk sampel total unit yang terjual pada tahun 2016 dan 2017 didapat beberapa informasi yang mengarahkan dugaan atau hipotesis sebagai berikut :\n",
    "\n",
    "* Penjualan harian unit properti pada tahun 2016 lebih tinggi dibandingkan penjualan harian unit properti tahun 2017\n",
    "\n",
    "\n",
    "- H0 : mu1 = mu2\n",
    "- H1=mu1>mu2"
   ]
  },
  {
   "cell_type": "code",
   "execution_count": 29,
   "id": "2eb5ff97",
   "metadata": {},
   "outputs": [
    {
     "data": {
      "text/plain": [
       "(4.184617211434134, 1.4282351529633222e-05)"
      ]
     },
     "execution_count": 29,
     "metadata": {},
     "output_type": "execute_result"
    }
   ],
   "source": [
    "#Uji hipotesis dengan z-test\n",
    "import statsmodels.api as sm\n",
    "sm.stats.ztest(sample_2016['TOTAL UNIT SAMPLE 2016'],sample_2017['TOTAL UNIT SAMPLE 2017'],alternative='larger')"
   ]
  },
  {
   "cell_type": "markdown",
   "id": "6b527d32",
   "metadata": {},
   "source": [
    "Karena nilai p-value sangat kecil (<0.05) maka hipotesis null ditolak dan hipotesis aletrnatif diterima.\n",
    "\n",
    "Dengan demikian dapat ditarik kesimpulan bahwa penjualan harian unit properti pada tahun 2016 lebih tinggi dibandingkan penjualan harian unit properti pada tahun 2017"
   ]
  }
 ],
 "metadata": {
  "kernelspec": {
   "display_name": "Python 3",
   "language": "python",
   "name": "python3"
  },
  "language_info": {
   "codemirror_mode": {
    "name": "ipython",
    "version": 3
   },
   "file_extension": ".py",
   "mimetype": "text/x-python",
   "name": "python",
   "nbconvert_exporter": "python",
   "pygments_lexer": "ipython3",
   "version": "3.8.8"
  },
  "toc": {
   "base_numbering": 1,
   "nav_menu": {},
   "number_sections": true,
   "sideBar": true,
   "skip_h1_title": false,
   "title_cell": "Table of Contents",
   "title_sidebar": "Contents",
   "toc_cell": false,
   "toc_position": {},
   "toc_section_display": true,
   "toc_window_display": false
  }
 },
 "nbformat": 4,
 "nbformat_minor": 5
}
