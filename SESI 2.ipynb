{
 "cells": [
  {
   "cell_type": "markdown",
   "id": "696a3bad",
   "metadata": {},
   "source": [
    "# CONDITIONAL"
   ]
  },
  {
   "cell_type": "code",
   "execution_count": 1,
   "id": "7e656bc5",
   "metadata": {},
   "outputs": [
    {
     "name": "stdout",
     "output_type": "stream",
     "text": [
      "False\n",
      "True\n",
      "False\n",
      "True\n",
      "False\n"
     ]
    }
   ],
   "source": [
    "#Logical Conditions\n",
    "a=15\n",
    "b=12\n",
    "print(a==b)\n",
    "print(a!=b)\n",
    "print(a<b)\n",
    "print(a>=b)\n",
    "print(a<=b)"
   ]
  },
  {
   "cell_type": "code",
   "execution_count": 6,
   "id": "1485bb59",
   "metadata": {},
   "outputs": [
    {
     "name": "stdout",
     "output_type": "stream",
     "text": [
      "yes\n",
      "yes\n"
     ]
    }
   ],
   "source": [
    "#If Statement\n",
    "x=0\n",
    "y=5\n",
    "if x>y :\n",
    "    print('a')\n",
    "if x<y:\n",
    "    print('b')\n",
    "if x:\n",
    "    print('c')\n",
    "if y:\n",
    "    print('d')\n",
    "if 'aul' in 'grault':\n",
    "    print('e')\n",
    "if 'quux' in ['foo','bar', 'baz']:\n",
    "    print('f')\n",
    "    \n"
   ]
  },
  {
   "cell_type": "code",
   "execution_count": 9,
   "id": "d6e9396d",
   "metadata": {},
   "outputs": [
    {
     "name": "stdout",
     "output_type": "stream",
     "text": [
      "test\n",
      "test 1\n",
      "b\n",
      "test 2\n",
      "test 3\n"
     ]
    }
   ],
   "source": [
    "if \"desi\" in ['desi','wati','ratna']:\n",
    "    print('test')\n",
    "    if 10>20:\n",
    "        print ('a')\n",
    "    print('test 1')\n",
    "    \n",
    "    if 10<20:\n",
    "        print('b')\n",
    "    print('test 2')\n",
    "print('test 3')\n",
    "        \n"
   ]
  },
  {
   "cell_type": "code",
   "execution_count": 10,
   "id": "cdd957ed",
   "metadata": {},
   "outputs": [
    {
     "name": "stdout",
     "output_type": "stream",
     "text": [
      "nilai dibawah 50\n"
     ]
    }
   ],
   "source": [
    "x=20\n",
    "if x<50:\n",
    "    print('nilai dibawah 50')\n",
    "else :\n",
    "    print('nilai diatas 50')"
   ]
  },
  {
   "cell_type": "code",
   "execution_count": 16,
   "id": "377864a5",
   "metadata": {},
   "outputs": [
    {
     "name": "stdout",
     "output_type": "stream",
     "text": [
      "uang tidak cukup\n"
     ]
    }
   ],
   "source": [
    "hargaBuku=10000\n",
    "hargaMajalah=17000\n",
    "uang=1200\n",
    "if uang>=hargaMajalah :\n",
    "    print('Beli majalah')\n",
    "elif uang>=hargaBuku:\n",
    "    print('Beli buku')\n",
    "else:\n",
    "    print('uang tidak cukup')\n"
   ]
  },
  {
   "cell_type": "code",
   "execution_count": 18,
   "id": "918d432e",
   "metadata": {},
   "outputs": [
    {
     "name": "stdout",
     "output_type": "stream",
     "text": [
      "Benar\n",
      "yes\n"
     ]
    }
   ],
   "source": [
    "#pernyataan if dapat ditulis dalam satu baris\n",
    "if 'a' in ['a','b','c']: print('Benar'); print('yes')\n",
    "    "
   ]
  },
  {
   "cell_type": "code",
   "execution_count": 21,
   "id": "6de53e7c",
   "metadata": {},
   "outputs": [
    {
     "name": "stdout",
     "output_type": "stream",
     "text": [
      "qux quux\n"
     ]
    }
   ],
   "source": [
    "# multiple statement\n",
    "x = 2\n",
    "if x == 1:print('foo');print('bar')\n",
    "elif x == 2:print('qux ', end='');print('quux')\n",
    "else:print('corge');print('grault')"
   ]
  },
  {
   "cell_type": "code",
   "execution_count": 23,
   "id": "e66eaf98",
   "metadata": {},
   "outputs": [
    {
     "name": "stdout",
     "output_type": "stream",
     "text": [
      "Let's go to the  beach\n"
     ]
    }
   ],
   "source": [
    "#conditional expresions\n",
    "raining= False\n",
    "print(\"Let's go to the \", 'beach' if not raining else 'library')"
   ]
  },
  {
   "cell_type": "code",
   "execution_count": 24,
   "id": "e4fe6eda",
   "metadata": {},
   "outputs": [
    {
     "name": "stdout",
     "output_type": "stream",
     "text": [
      "Let's go to the  library\n"
     ]
    }
   ],
   "source": [
    "raining= True\n",
    "print(\"Let's go to the \", 'beach' if not raining else 'library')"
   ]
  },
  {
   "cell_type": "code",
   "execution_count": 25,
   "id": "4623009e",
   "metadata": {},
   "outputs": [
    {
     "data": {
      "text/plain": [
       "'remaja'"
      ]
     },
     "execution_count": 25,
     "metadata": {},
     "output_type": "execute_result"
    }
   ],
   "source": [
    "umur=15\n",
    "s='remaja' if umur<21 else 'dewasa'\n",
    "s"
   ]
  },
  {
   "cell_type": "code",
   "execution_count": 26,
   "id": "bfc9012c",
   "metadata": {},
   "outputs": [
    {
     "data": {
      "text/plain": [
       "'salah'"
      ]
     },
     "execution_count": 26,
     "metadata": {},
     "output_type": "execute_result"
    }
   ],
   "source": [
    "'benar' if (a in ['c','d','e']) else 'salah' "
   ]
  },
  {
   "cell_type": "code",
   "execution_count": 27,
   "id": "ded21fbc",
   "metadata": {},
   "outputs": [
    {
     "name": "stdout",
     "output_type": "stream",
     "text": [
      "foo\n"
     ]
    }
   ],
   "source": [
    "#The Python Pass Statement\n",
    "if True :\n",
    "    pass\n",
    "print('foo')"
   ]
  },
  {
   "cell_type": "markdown",
   "id": "c8d26e43",
   "metadata": {},
   "source": [
    "# Iteration"
   ]
  },
  {
   "cell_type": "code",
   "execution_count": 28,
   "id": "28e3fc12",
   "metadata": {},
   "outputs": [
    {
     "name": "stdout",
     "output_type": "stream",
     "text": [
      "4\n",
      "3\n",
      "2\n",
      "1\n",
      "0\n"
     ]
    }
   ],
   "source": [
    "#While Loops\n",
    "n=5\n",
    "while n>0:\n",
    "    n-=1\n",
    "    print(n)"
   ]
  },
  {
   "cell_type": "code",
   "execution_count": 30,
   "id": "52b8b740",
   "metadata": {},
   "outputs": [
    {
     "name": "stdout",
     "output_type": "stream",
     "text": [
      "1\n",
      "2\n",
      "3\n",
      "4\n",
      "5\n"
     ]
    }
   ],
   "source": [
    "i=1\n",
    "while i<6:\n",
    "    print(i)\n",
    "    i+=1\n",
    "    "
   ]
  },
  {
   "cell_type": "code",
   "execution_count": 31,
   "id": "5ea4f3f0",
   "metadata": {},
   "outputs": [
    {
     "name": "stdout",
     "output_type": "stream",
     "text": [
      "4\n",
      "3\n"
     ]
    }
   ],
   "source": [
    "#statement break\n",
    "n=5\n",
    "while n>0:\n",
    "    n-=1\n",
    "    if n==2:\n",
    "        break\n",
    "    print(n)"
   ]
  },
  {
   "cell_type": "code",
   "execution_count": 32,
   "id": "184d86ea",
   "metadata": {},
   "outputs": [
    {
     "name": "stdout",
     "output_type": "stream",
     "text": [
      "4\n",
      "3\n",
      "1\n",
      "0\n"
     ]
    }
   ],
   "source": [
    "#statement continue\n",
    "n=5\n",
    "while n>0:\n",
    "    n-=1\n",
    "    if n==2:\n",
    "        continue\n",
    "    print(n)"
   ]
  },
  {
   "cell_type": "code",
   "execution_count": 33,
   "id": "a6de15f2",
   "metadata": {},
   "outputs": [
    {
     "name": "stdout",
     "output_type": "stream",
     "text": [
      "4\n",
      "3\n",
      "2\n",
      "1\n",
      "0\n",
      "loop done\n"
     ]
    }
   ],
   "source": [
    "n=5\n",
    "while n>0:\n",
    "    n-=1\n",
    "    print(n)\n",
    "else :\n",
    "    print('loop done')"
   ]
  },
  {
   "cell_type": "code",
   "execution_count": 34,
   "id": "95b871b6",
   "metadata": {},
   "outputs": [
    {
     "name": "stdout",
     "output_type": "stream",
     "text": [
      "4\n",
      "3\n",
      "2\n"
     ]
    }
   ],
   "source": [
    "n=5\n",
    "while n>0:\n",
    "    n-=1 \n",
    "    print(n)\n",
    "    if n==2:\n",
    "        break\n",
    "else:\n",
    "    print('loop done')"
   ]
  },
  {
   "cell_type": "markdown",
   "id": "c4bd5f05",
   "metadata": {},
   "source": [
    "#Iterasi pada Dictionary"
   ]
  },
  {
   "cell_type": "code",
   "execution_count": 37,
   "id": "4b9e78aa",
   "metadata": {},
   "outputs": [
    {
     "name": "stdout",
     "output_type": "stream",
     "text": [
      "foo : 1\n",
      "bar : 2\n",
      "baz : 3\n"
     ]
    }
   ],
   "source": [
    "d={'foo': 1, 'bar':2, 'baz':3}\n",
    "for k in d:\n",
    "    print(k, ':', d[k])\n",
    "    "
   ]
  },
  {
   "cell_type": "code",
   "execution_count": 38,
   "id": "1ca9b9f9",
   "metadata": {},
   "outputs": [
    {
     "name": "stdout",
     "output_type": "stream",
     "text": [
      "1\n",
      "2\n",
      "3\n"
     ]
    }
   ],
   "source": [
    "for k in d.values():\n",
    "    print(k)"
   ]
  },
  {
   "cell_type": "code",
   "execution_count": 39,
   "id": "10a1c8dd",
   "metadata": {},
   "outputs": [
    {
     "name": "stdout",
     "output_type": "stream",
     "text": [
      "foo : 1\n",
      "bar : 2\n",
      "baz : 3\n"
     ]
    }
   ],
   "source": [
    "for k,v in d.items():\n",
    "    print(k,':',v)"
   ]
  },
  {
   "cell_type": "code",
   "execution_count": 40,
   "id": "a907cc61",
   "metadata": {},
   "outputs": [
    {
     "name": "stdout",
     "output_type": "stream",
     "text": [
      "0\n",
      "1\n",
      "2\n",
      "3\n",
      "4\n"
     ]
    }
   ],
   "source": [
    "for n in (0,1,2,3,4):\n",
    "    print(n)"
   ]
  },
  {
   "cell_type": "code",
   "execution_count": 41,
   "id": "d7d09bfd",
   "metadata": {},
   "outputs": [
    {
     "name": "stdout",
     "output_type": "stream",
     "text": [
      "0\n",
      "1\n",
      "2\n",
      "3\n",
      "4\n"
     ]
    }
   ],
   "source": [
    "x=range(5)\n",
    "for n in range(5):\n",
    "    print(n)"
   ]
  },
  {
   "cell_type": "code",
   "execution_count": 42,
   "id": "3ec6b7ea",
   "metadata": {},
   "outputs": [
    {
     "name": "stdout",
     "output_type": "stream",
     "text": [
      "hai\n",
      "you\n"
     ]
    }
   ],
   "source": [
    "for i in ['hai','bye','see','you']:\n",
    "    if 'e' in i:\n",
    "        continue\n",
    "    print(i)\n"
   ]
  },
  {
   "cell_type": "code",
   "execution_count": 44,
   "id": "b989a1ff",
   "metadata": {},
   "outputs": [
    {
     "name": "stdout",
     "output_type": "stream",
     "text": [
      "hai\n",
      "bye\n",
      "see\n",
      "you\n",
      "done\n"
     ]
    }
   ],
   "source": [
    "#else pada perulangan for\n",
    "for i in ['hai','bye','see','you']:\n",
    "    print(i)\n",
    "else:\n",
    "    print('done')"
   ]
  },
  {
   "cell_type": "code",
   "execution_count": 45,
   "id": "b2a2b29b",
   "metadata": {},
   "outputs": [
    {
     "name": "stdout",
     "output_type": "stream",
     "text": [
      "hai\n"
     ]
    }
   ],
   "source": [
    "for i in ['hai','bye','see','you']:\n",
    "    if i=='bye':\n",
    "        break\n",
    "    print(i)\n",
    "else:\n",
    "    print('done')"
   ]
  },
  {
   "cell_type": "code",
   "execution_count": 1,
   "id": "322917ec",
   "metadata": {},
   "outputs": [
    {
     "name": "stdout",
     "output_type": "stream",
     "text": [
      "foo\n",
      "> baz\n",
      "> qux\n",
      "bar\n",
      "> baz\n",
      "> qux\n"
     ]
    }
   ],
   "source": [
    "a=['foo','bar']\n",
    "while len(a):\n",
    "    print(a.pop(0))\n",
    "    b=['baz','qux']\n",
    "    while len(b):\n",
    "        print('>',b.pop(0))"
   ]
  },
  {
   "cell_type": "code",
   "execution_count": 4,
   "id": "462bc823",
   "metadata": {},
   "outputs": [
    {
     "name": "stdout",
     "output_type": "stream",
     "text": [
      "foo\n",
      "bar\n",
      "baz\n"
     ]
    }
   ],
   "source": [
    "#FOR LOOPS\n",
    "d={'foo':1, 'bar':2,'baz': 3}\n",
    "for k in d:\n",
    "    print(k)"
   ]
  },
  {
   "cell_type": "code",
   "execution_count": 6,
   "id": "7c626808",
   "metadata": {},
   "outputs": [
    {
     "name": "stdout",
     "output_type": "stream",
     "text": [
      "foo 1\n",
      "bar 2\n",
      "baz 3\n"
     ]
    }
   ],
   "source": [
    "d={'foo':1, 'bar':2,'baz': 3}\n",
    "for k,v in d.items():\n",
    "    print(k,v)"
   ]
  },
  {
   "cell_type": "code",
   "execution_count": 7,
   "id": "2cc616b0",
   "metadata": {},
   "outputs": [
    {
     "name": "stdout",
     "output_type": "stream",
     "text": [
      "1\n",
      "2\n",
      "3\n"
     ]
    }
   ],
   "source": [
    "for n in (1,2,3):\n",
    "    print(n)"
   ]
  },
  {
   "cell_type": "code",
   "execution_count": 8,
   "id": "35d87cb5",
   "metadata": {},
   "outputs": [
    {
     "name": "stdout",
     "output_type": "stream",
     "text": [
      "1\n",
      "3\n",
      "5\n",
      "7\n",
      "9\n"
     ]
    }
   ],
   "source": [
    "for n in range(1,10,2): \n",
    "    print (n)"
   ]
  },
  {
   "cell_type": "code",
   "execution_count": 9,
   "id": "d8bcbd0a",
   "metadata": {},
   "outputs": [
    {
     "name": "stdout",
     "output_type": "stream",
     "text": [
      "a\n",
      "b\n",
      "c\n"
     ]
    }
   ],
   "source": [
    "#break and continue statement in for loops\n",
    "for i in ['a','b','c','d']:\n",
    "    if 'd' in i:\n",
    "        break\n",
    "    print(i)"
   ]
  },
  {
   "cell_type": "code",
   "execution_count": 15,
   "id": "f9642b0d",
   "metadata": {},
   "outputs": [
    {
     "name": "stdout",
     "output_type": "stream",
     "text": [
      "a\n",
      "c\n",
      "d\n"
     ]
    }
   ],
   "source": [
    "for i in ['a','b','c','d']:\n",
    "    if 'b' in i:\n",
    "        continue\n",
    "    print(i)"
   ]
  },
  {
   "cell_type": "code",
   "execution_count": 16,
   "id": "f52aaa16",
   "metadata": {},
   "outputs": [
    {
     "name": "stdout",
     "output_type": "stream",
     "text": [
      "a\n",
      "b\n",
      "c\n",
      "d\n",
      "done\n"
     ]
    }
   ],
   "source": [
    "for i in ['a','b','c','d']:\n",
    "    print(i)\n",
    "else:\n",
    "    print('done')"
   ]
  },
  {
   "cell_type": "code",
   "execution_count": 18,
   "id": "44282a80",
   "metadata": {},
   "outputs": [
    {
     "name": "stdout",
     "output_type": "stream",
     "text": [
      "masukan temperatur, ex: 35C,45F45F\n",
      "Temperaturnya adalah:  7 derajat\n"
     ]
    }
   ],
   "source": [
    "suhu=input('masukan temperatur, ex: 35C,45F')\n",
    "derajat=int(suhu[:-1])\n",
    "konversi=suhu[-1]\n",
    "if konversi=='C':\n",
    "    hasilKonversi=(9/5)*derajat+32\n",
    "elif konversi=='F':\n",
    "    hasilKonversi=int(round((derajat-32)*(5/9)))\n",
    "else:\n",
    "    print('masukan input yang benar')\n",
    "print('Temperaturnya adalah: ', hasilKonversi, 'derajat')"
   ]
  },
  {
   "cell_type": "markdown",
   "id": "267ed2b2",
   "metadata": {},
   "source": [
    "# sesi 2 google meet"
   ]
  },
  {
   "cell_type": "code",
   "execution_count": 19,
   "id": "3fe6dabc",
   "metadata": {},
   "outputs": [
    {
     "name": "stdout",
     "output_type": "stream",
     "text": [
      "please input number15\n"
     ]
    }
   ],
   "source": [
    "a=int(input('please input number'))\n",
    "if a==b:\n",
    "    print('eq')\n",
    "else:\n",
    "    print('not eq')"
   ]
  },
  {
   "cell_type": "code",
   "execution_count": 20,
   "id": "c628f460",
   "metadata": {},
   "outputs": [
    {
     "name": "stdout",
     "output_type": "stream",
     "text": [
      "False\n",
      "False\n",
      "False\n"
     ]
    }
   ],
   "source": [
    "print(bool({}))\n",
    "print(bool(\"\"))\n",
    "print(bool([]))\n"
   ]
  },
  {
   "cell_type": "code",
   "execution_count": 23,
   "id": "95625991",
   "metadata": {},
   "outputs": [
    {
     "name": "stdout",
     "output_type": "stream",
     "text": [
      "masukan usia anda saat ini:15\n",
      "3  tahun lagi menuju usia dewasa\n"
     ]
    }
   ],
   "source": [
    "myAge=int(input('masukan usia anda saat ini:'))\n",
    "adultTreshold=18\n",
    "if myAge>=adultTreshold:\n",
    "    print(\"adult\")\n",
    "else:\n",
    "    selisih= adultTreshold-myAge\n",
    "    print(selisih,' tahun lagi menuju usia dewasa')"
   ]
  },
  {
   "cell_type": "code",
   "execution_count": 27,
   "id": "f023beee",
   "metadata": {},
   "outputs": [
    {
     "name": "stdout",
     "output_type": "stream",
     "text": [
      "masukan nilai50\n",
      "diluar scoupe\n"
     ]
    }
   ],
   "source": [
    "bil=float(input('masukan nilai'))\n",
    "if 70<bil<=90:\n",
    "    print('nilai B')\n",
    "elif 50<bil<=70:\n",
    "    print('nilai : C')\n",
    "elif 50<bil<30:\n",
    "    print('nilai : D')\n",
    "else:\n",
    "    print('diluar scoupe')\n"
   ]
  },
  {
   "cell_type": "code",
   "execution_count": 31,
   "id": "4b061d1c",
   "metadata": {},
   "outputs": [
    {
     "name": "stdout",
     "output_type": "stream",
     "text": [
      "lulus\n",
      " congratulation\n"
     ]
    }
   ],
   "source": [
    "nilai=80\n",
    "if nilai>70: print('lulus'); print(' congratulation');"
   ]
  },
  {
   "cell_type": "code",
   "execution_count": 40,
   "id": "a1cf0ece",
   "metadata": {},
   "outputs": [
    {
     "ename": "KeyboardInterrupt",
     "evalue": "Interrupted by user",
     "output_type": "error",
     "traceback": [
      "\u001b[1;31m---------------------------------------------------------------------------\u001b[0m",
      "\u001b[1;31mKeyboardInterrupt\u001b[0m                         Traceback (most recent call last)",
      "\u001b[1;32m<ipython-input-40-e1fbfdfba42d>\u001b[0m in \u001b[0;36m<module>\u001b[1;34m\u001b[0m\n\u001b[1;32m----> 1\u001b[1;33m \u001b[0mlanjut\u001b[0m\u001b[1;33m=\u001b[0m\u001b[0minput\u001b[0m\u001b[1;33m(\u001b[0m\u001b[1;34m\"\"\u001b[0m\u001b[1;33m)\u001b[0m\u001b[1;33m\u001b[0m\u001b[1;33m\u001b[0m\u001b[0m\n\u001b[0m\u001b[0;32m      2\u001b[0m \u001b[1;32mwhile\u001b[0m \u001b[0mlanjut\u001b[0m \u001b[1;33m!=\u001b[0m \u001b[1;34m\"exit\"\u001b[0m\u001b[1;33m:\u001b[0m\u001b[1;33m\u001b[0m\u001b[1;33m\u001b[0m\u001b[0m\n\u001b[0;32m      3\u001b[0m     \u001b[0mnilai\u001b[0m\u001b[1;33m=\u001b[0m\u001b[0mint\u001b[0m\u001b[1;33m(\u001b[0m\u001b[0minput\u001b[0m\u001b[1;33m(\u001b[0m\u001b[1;34m'masukan nilai'\u001b[0m\u001b[1;33m)\u001b[0m\u001b[1;33m)\u001b[0m\u001b[1;33m\u001b[0m\u001b[1;33m\u001b[0m\u001b[0m\n\u001b[0;32m      4\u001b[0m     \u001b[1;32mif\u001b[0m \u001b[1;36m70\u001b[0m\u001b[1;33m<=\u001b[0m\u001b[0mnilai\u001b[0m\u001b[1;33m<\u001b[0m\u001b[1;36m90\u001b[0m\u001b[1;33m:\u001b[0m\u001b[1;33m\u001b[0m\u001b[1;33m\u001b[0m\u001b[0m\n\u001b[0;32m      5\u001b[0m         \u001b[0mprint\u001b[0m\u001b[1;33m(\u001b[0m\u001b[1;34m'A'\u001b[0m\u001b[1;33m)\u001b[0m\u001b[1;33m\u001b[0m\u001b[1;33m\u001b[0m\u001b[0m\n",
      "\u001b[1;32mC:\\Program Files (x86)\\Anaconda\\lib\\site-packages\\ipykernel\\kernelbase.py\u001b[0m in \u001b[0;36mraw_input\u001b[1;34m(self, prompt)\u001b[0m\n\u001b[0;32m    858\u001b[0m                 \u001b[1;34m\"raw_input was called, but this frontend does not support input requests.\"\u001b[0m\u001b[1;33m\u001b[0m\u001b[1;33m\u001b[0m\u001b[0m\n\u001b[0;32m    859\u001b[0m             )\n\u001b[1;32m--> 860\u001b[1;33m         return self._input_request(str(prompt),\n\u001b[0m\u001b[0;32m    861\u001b[0m             \u001b[0mself\u001b[0m\u001b[1;33m.\u001b[0m\u001b[0m_parent_ident\u001b[0m\u001b[1;33m,\u001b[0m\u001b[1;33m\u001b[0m\u001b[1;33m\u001b[0m\u001b[0m\n\u001b[0;32m    862\u001b[0m             \u001b[0mself\u001b[0m\u001b[1;33m.\u001b[0m\u001b[0m_parent_header\u001b[0m\u001b[1;33m,\u001b[0m\u001b[1;33m\u001b[0m\u001b[1;33m\u001b[0m\u001b[0m\n",
      "\u001b[1;32mC:\\Program Files (x86)\\Anaconda\\lib\\site-packages\\ipykernel\\kernelbase.py\u001b[0m in \u001b[0;36m_input_request\u001b[1;34m(self, prompt, ident, parent, password)\u001b[0m\n\u001b[0;32m    902\u001b[0m             \u001b[1;32mexcept\u001b[0m \u001b[0mKeyboardInterrupt\u001b[0m\u001b[1;33m:\u001b[0m\u001b[1;33m\u001b[0m\u001b[1;33m\u001b[0m\u001b[0m\n\u001b[0;32m    903\u001b[0m                 \u001b[1;31m# re-raise KeyboardInterrupt, to truncate traceback\u001b[0m\u001b[1;33m\u001b[0m\u001b[1;33m\u001b[0m\u001b[1;33m\u001b[0m\u001b[0m\n\u001b[1;32m--> 904\u001b[1;33m                 \u001b[1;32mraise\u001b[0m \u001b[0mKeyboardInterrupt\u001b[0m\u001b[1;33m(\u001b[0m\u001b[1;34m\"Interrupted by user\"\u001b[0m\u001b[1;33m)\u001b[0m \u001b[1;32mfrom\u001b[0m \u001b[1;32mNone\u001b[0m\u001b[1;33m\u001b[0m\u001b[1;33m\u001b[0m\u001b[0m\n\u001b[0m\u001b[0;32m    905\u001b[0m             \u001b[1;32mexcept\u001b[0m \u001b[0mException\u001b[0m \u001b[1;32mas\u001b[0m \u001b[0me\u001b[0m\u001b[1;33m:\u001b[0m\u001b[1;33m\u001b[0m\u001b[1;33m\u001b[0m\u001b[0m\n\u001b[0;32m    906\u001b[0m                 \u001b[0mself\u001b[0m\u001b[1;33m.\u001b[0m\u001b[0mlog\u001b[0m\u001b[1;33m.\u001b[0m\u001b[0mwarning\u001b[0m\u001b[1;33m(\u001b[0m\u001b[1;34m\"Invalid Message:\"\u001b[0m\u001b[1;33m,\u001b[0m \u001b[0mexc_info\u001b[0m\u001b[1;33m=\u001b[0m\u001b[1;32mTrue\u001b[0m\u001b[1;33m)\u001b[0m\u001b[1;33m\u001b[0m\u001b[1;33m\u001b[0m\u001b[0m\n",
      "\u001b[1;31mKeyboardInterrupt\u001b[0m: Interrupted by user"
     ]
    }
   ],
   "source": [
    "lanjut=input(\"\")\n",
    "while lanjut != \"exit\":\n",
    "    nilai=int(input('masukan nilai'))\n",
    "    if 70<=nilai<90:\n",
    "        print('A')\n",
    "    elif nilai<70:\n",
    "        print('B')"
   ]
  },
  {
   "cell_type": "code",
   "execution_count": null,
   "id": "d243bd9c",
   "metadata": {},
   "outputs": [],
   "source": [
    "sum=0\n",
    "while True:\n",
    "    bil=int(input('bilangan:'))\n",
    "    if bil%2==0:\n",
    "        sum=sum+bil\n",
    "    else:\n",
    "        break\n",
    "print(sum)\n",
    "    "
   ]
  },
  {
   "cell_type": "code",
   "execution_count": null,
   "id": "6b3cb8fa",
   "metadata": {},
   "outputs": [],
   "source": [
    "from random import randint\n",
    "tebak=randint(0,10)\n",
    "coba=1\n",
    "while True:\n",
    "    bil=int(input('masukan bilangan:'))\n",
    "    if bil==tebak:\n",
    "        print('Tebakan anda benar')\n",
    "        break\n",
    "    else:\n",
    "        coba+=1\n",
    "        continue\n",
    "print('banyaknya percobaan:', coba)\n",
    "        \n",
    "    "
   ]
  },
  {
   "cell_type": "code",
   "execution_count": 3,
   "id": "1072a825",
   "metadata": {},
   "outputs": [
    {
     "name": "stdout",
     "output_type": "stream",
     "text": [
      "0,0 0,1 0,2 \n",
      "1,0 1,1 1,2 \n",
      "2,0 2,1 2,2 \n",
      "\n"
     ]
    }
   ],
   "source": [
    "#1 2 3\n",
    "#1 2 3\n",
    "#1 2 3\n",
    "row=3\n",
    "col=3\n",
    "i=0\n",
    "disp=''\n",
    "while i<row:\n",
    "    j=0\n",
    "    while j<col:\n",
    "        disp=disp+str(i)+','+ str(j)+' '\n",
    "        j+=1\n",
    "    disp+=\"\\n\"\n",
    "    i+=1\n",
    "print(disp)"
   ]
  },
  {
   "cell_type": "code",
   "execution_count": 7,
   "id": "b2cda3aa",
   "metadata": {},
   "outputs": [
    {
     "name": "stdout",
     "output_type": "stream",
     "text": [
      "masukan banyak baris:5\n",
      "*\n",
      "**\n",
      "***\n",
      "****\n",
      "*****\n"
     ]
    }
   ],
   "source": [
    "n=int(input('masukan banyak baris:'))\n",
    "i=0\n",
    "while i<n:\n",
    "    i=i+1\n",
    "    print('*'*i)"
   ]
  },
  {
   "cell_type": "code",
   "execution_count": null,
   "id": "9b3f3b63",
   "metadata": {},
   "outputs": [],
   "source": [
    "#range loop\n",
    "myDict={'nama':'helen','umur':'', 'pekerjaan':'','hobbies':[]}\n",
    "kunci=list(myDict.keys())\n",
    "for i in kunci[1:]:\n",
    "    if i==kunci[1]:\n",
    "        myDict[i]=int(input(i+' '))\n",
    "    elif i==kunci[2]:\n",
    "        myDict[i]=input(i+' ')\n",
    "    else :\n",
    "        hobi=myDict[i]\n",
    "        while True:\n",
    "            daftarHobi=input('masukan hobi:')\n",
    "            hobi.append(daftarHobi)\n",
    "            if daftarHobi=='stop':\n",
    "                break\n",
    "            \n",
    "print(myDict)\n",
    "\n",
    "    \n",
    "\n"
   ]
  },
  {
   "cell_type": "code",
   "execution_count": null,
   "id": "e9c7e316",
   "metadata": {},
   "outputs": [],
   "source": []
  },
  {
   "cell_type": "code",
   "execution_count": null,
   "id": "9ec9b13a",
   "metadata": {},
   "outputs": [],
   "source": []
  }
 ],
 "metadata": {
  "kernelspec": {
   "display_name": "Python 3",
   "language": "python",
   "name": "python3"
  },
  "toc": {
   "base_numbering": 1,
   "nav_menu": {},
   "number_sections": true,
   "sideBar": true,
   "skip_h1_title": false,
   "title_cell": "Table of Contents",
   "title_sidebar": "Contents",
   "toc_cell": false,
   "toc_position": {
    "height": "calc(100% - 180px)",
    "left": "10px",
    "top": "150px",
    "width": "169.188px"
   },
   "toc_section_display": true,
   "toc_window_display": false
  }
 },
 "nbformat": 4,
 "nbformat_minor": 5
}
